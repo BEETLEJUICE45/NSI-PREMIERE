{
 "cells": [
  {
   "cell_type": "markdown",
   "metadata": {},
   "source": [
    "<center><h1><u>Les flottants</u></h1></center>"
   ]
  },
  {
   "cell_type": "markdown",
   "metadata": {},
   "source": [
    "## Norme IEEE 754\n",
    "\n",
    "`     `|Simple précision|Double précision|Quadruple précision\n",
    ":---------------------:|:------------:|:---------------------:|:-------------:\n",
    "Bit de signe|1|1|1\n",
    "Bits de l’exposant|8|11|15\n",
    "Bits de la mantisse|23|52|112\n",
    "Nombre total de bits|32|64|128\n",
    "Codage de l’exposant|Excédant 127|Excédant 1023|Excédant 16383\n",
    "Variation de l’exposant|-126 à +127|-1022 à +1023|-16382 à 16383\n",
    "Plus petit nombre normalisé|$2^{-126}$|$2^{-1022}$|$2^{-16382}$\n",
    "Plus grand nombre normalisé|$2^{+128}$|$2^{+1024}$|$2^{+16384}$\n",
    "Échelle des nombres décimaux|environ $10^{–38}$ à $10^{+38}$|$10^{-308}$ à $10^{+308}$|$10^{-4932}$ à $10^{+4932}$\n",
    "Plus petit nombre non normalisé|environ $10^{-45}$|environ $10^{-324}$|\n"
   ]
  },
  {
   "cell_type": "markdown",
   "metadata": {},
   "source": [
    "<u>**Valeurs particulières :**</u> \n",
    "\n",
    "- zéro (deux valeurs avec les signes + et -) : l'exposant décalé et la mantisse sont nuls ;\n",
    "\n",
    "- l'infini : $2^e-1$ pour l'exposant décalé, $e$ étant le nombre de bits de l'exposant décalé,  et la mantisse nulle. (soit $2^8-1=255$ en simple précision) ;\n",
    "\n",
    "- Nan (not a number) : même chose que précédemment pour l'exposant décalé, mais une mantisse non nulle.\n"
   ]
  },
  {
   "cell_type": "markdown",
   "metadata": {},
   "source": [
    "<h4> <i>Remarque :</i></h4>\n",
    "\n",
    "- On peut vérifier l'écriture en virgule flottante et en hexadécimal sur différents sites internet.\n",
    "\n",
    " Par exemple sur : www.h-schmidt.net/FloatConverter/IEEE754.html"
   ]
  },
  {
   "cell_type": "markdown",
   "metadata": {},
   "source": [
    "## Dépassements de mémoire en python\n",
    "\n",
    "Les nombres flottants sont codés sur ce notebook avec $64$ bits. Le plus grand nombre normalisé est environ $10^{308}$.\n",
    "\n",
    "Prenons par exemple $10^{400}$ et regardons se qui se passe dans l'interpréteur Python pour illustrer les dépassements de mémoire."
   ]
  },
  {
   "cell_type": "code",
   "execution_count": null,
   "metadata": {},
   "outputs": [],
   "source": [
    "x = 1e400\n",
    "x + 1"
   ]
  },
  {
   "cell_type": "code",
   "execution_count": null,
   "metadata": {},
   "outputs": [],
   "source": [
    "2*x"
   ]
  },
  {
   "cell_type": "code",
   "execution_count": null,
   "metadata": {},
   "outputs": [],
   "source": [
    "1/x"
   ]
  },
  {
   "cell_type": "code",
   "execution_count": null,
   "metadata": {},
   "outputs": [],
   "source": [
    "4-x"
   ]
  },
  {
   "cell_type": "markdown",
   "metadata": {},
   "source": [
    "Exercice : trouver un calcul qui :\n",
    "- part du nombre <code>x = 55</code> \n",
    "- aboutit théoriquement au nombre <code>y=55</code> \n",
    "- mais dont le calcul intermédiaire passe par un dépassement de capacité et aboutit donc à une valeur de <code>y</code> fausse."
   ]
  },
  {
   "cell_type": "code",
   "execution_count": null,
   "metadata": {},
   "outputs": [],
   "source": [
    "x = 55\n",
    "y = x**2\n",
    "#modifier et compléter \n",
    "#y = ..."
   ]
  },
  {
   "cell_type": "markdown",
   "metadata": {},
   "source": [
    "## Obtention de la mantisse\n",
    "\n",
    "L'obtention de la mantisse peut s'avérer assez fastidieuse \"à la main\".\n",
    "\n",
    "Le programme ci-dessous est une aide pour déterminer la mantisse d'un nombre décimal appartenant à l'intervalle $]0~;~1[$.\n",
    "\n",
    "**Le nombre est choisi positif, le bit de signe ayant été déterminé en amont ...**\n",
    "\n",
    "En utilisant ce programme, déterminer si l'on doit utiliser la simple, la double ou la quadruple précision pour coder $0,0013$ ?"
   ]
  },
  {
   "cell_type": "code",
   "execution_count": null,
   "metadata": {},
   "outputs": [],
   "source": [
    "from math import floor # importation de la fonction floor soit partie entière\n",
    "def aide_ecriture_mantisse(x,n_max):\n",
    "    \"\"\"x est le nombre décimal compris entre 0 et 1, et n_max est le nombre de\n",
    "    termes du développement voulu.\"\"\"\n",
    "    resultat_bin = \"\"\n",
    "    k = 0\n",
    "    while x != 0 and k < n_max:\n",
    "        a = floor(2*x)\n",
    "        resultat_bin = resultat_bin + str(a)\n",
    "        x = 2*x - a\n",
    "        k +=1\n",
    "    return resultat_bin"
   ]
  },
  {
   "cell_type": "raw",
   "metadata": {},
   "source": [
    "Répondre ici :\n",
    "\n"
   ]
  },
  {
   "cell_type": "markdown",
   "metadata": {},
   "source": [
    "<u>**Exercice**</u> \n",
    "\n",
    "\n",
    "\n",
    "<ol><li>Donner la représentation en virgule flottante du nombre $13,62$ en simple précision. Que remarque t-on ?</li>\n",
    "<li>Faire de même avec $\\dfrac{1}{3}$.</li>\n",
    "</ol>"
   ]
  },
  {
   "cell_type": "raw",
   "metadata": {},
   "source": [
    "Répondre ici :\n",
    "1.\n",
    "13,62 =\n",
    "\n",
    "2.\n",
    "1/3 ="
   ]
  },
  {
   "cell_type": "markdown",
   "metadata": {},
   "source": [
    "<div class = \"alert alert-danger\">\n",
    "<h4> <i>Remarque :</i> </h4>\n",
    "\n",
    "$\\hspace{0.2cm}$Certains nombres ont une partie décimale qui ne peut pas s'écrire sous la forme d'une somme $\\textbf{finie}$ de puissances de $2$.\n",
    "\n",
    "Il faudra alors arrondir la représentation en virgule flottante. Ainsi, ce n'est pas toujours la valeur exacte du nombre qui est codée, mais une valeur approchée.\n"
   ]
  },
  {
   "cell_type": "markdown",
   "metadata": {},
   "source": [
    "## Comparaison de flottants"
   ]
  },
  {
   "cell_type": "markdown",
   "metadata": {},
   "source": [
    "\n",
    "<h3>Activité 1 :</h3>\n",
    "\n",
    "$\\textbf{Partie A}$\n",
    "<ol>\n",
    "<li>Donner la représentation en virgule flottante de $0,1$ sur 32 bits</li>\n",
    "<li>En déduire les représentations en virgule flottante de $0,2$ et $0,3$.</li>\n",
    "<li>Que donne la somme $0,1+0,2$ sous forme décimale ?</li>\n",
    "<li>Exécuter ce même calcul dans l'interpréteur Python. </li>\n",
    "\n",
    "\n",
    "</ol>\n",
    "\n",
    "\n"
   ]
  },
  {
   "cell_type": "raw",
   "metadata": {},
   "source": [
    "Répondre ici :\n",
    "1. 0,1 est représenté par :\n",
    "2. 0,2 est représenté par :\n",
    "   0,3 est représenté par :\n",
    "3. 0,1+0,2 =  \n",
    "4. Tester cela dans l'interpréteur Python ci-dessous :"
   ]
  },
  {
   "cell_type": "code",
   "execution_count": null,
   "metadata": {},
   "outputs": [],
   "source": [
    "# Pour le calcul"
   ]
  },
  {
   "cell_type": "raw",
   "metadata": {},
   "source": [
    "Que remarque t-on ? Essayer de justifier le résultat.\n",
    "\n",
    "Réponse :"
   ]
  },
  {
   "cell_type": "markdown",
   "metadata": {},
   "source": [
    "$\\textbf{Partie B}$ \n",
    "\n",
    "$\\hspace{0.2cm}$Effectuer les calculs suivants à la main, puis dans l'interpréteur Python :\n",
    "\n",
    "$\\hspace{2cm}$$\\bullet$ Comparer les nombres $(0,5+0,2)+0,3$ et $0,5+(0,2+0,3)$ \n",
    "\n",
    "$\\hspace{2cm}$$\\bullet$ Comparer les nombres $(0,4+0,2)+0,3$ et $0,4+(0.2+0,3)$ "
   ]
  },
  {
   "cell_type": "code",
   "execution_count": null,
   "metadata": {},
   "outputs": [],
   "source": [
    "# Faire les calculs ici en Python."
   ]
  },
  {
   "cell_type": "raw",
   "metadata": {
    "raw_mimetype": "text/markdown"
   },
   "source": [
    "Répondre pour le premier point ici :\n"
   ]
  },
  {
   "cell_type": "raw",
   "metadata": {},
   "source": [
    "Répondre pour le second point ici :\n"
   ]
  },
  {
   "cell_type": "markdown",
   "metadata": {},
   "source": [
    "<div class=\"alert alert-danger\">\n",
    "\n",
    "<u>Remarque :</u>\n",
    "\n",
    "$\\hspace{0.2cm}$L'égalité entre deux flottants n'a pour ainsi dire aucun sens. \n",
    "\n",
    "$\\hspace{0.2cm}$On fera intervenir une marge d'erreur lors de la comparaison de deux flottants.\n",
    "\n"
   ]
  },
  {
   "cell_type": "markdown",
   "metadata": {},
   "source": [
    "#### Que renvoie cette commande ?"
   ]
  },
  {
   "cell_type": "code",
   "execution_count": null,
   "metadata": {},
   "outputs": [],
   "source": [
    "0.1+0.2 == 0.3"
   ]
  },
  {
   "cell_type": "markdown",
   "metadata": {},
   "source": [
    "Afin de contourner ce problème d'égalité des flottants lié à leur représentation dans la machine, on peut \"définir\" une fonction permettant de garantir \"l'égalité\" de deux nombres flottants.\n",
    "\n",
    "Pour cela on peut définir de manière assez simple :"
   ]
  },
  {
   "cell_type": "code",
   "execution_count": null,
   "metadata": {},
   "outputs": [],
   "source": [
    "def pseudo_egal_float(a,b):\n",
    "    return abs(a-b) <= 10**(-10)"
   ]
  },
  {
   "cell_type": "markdown",
   "metadata": {},
   "source": [
    "Ici l'écart entre les deux nombres $0,1+0,2$ et $0,3$ est inférieur à $10^{-10}$. La machine conclura alors que les deux nombres sont \"pseudo-égaux\" si on utilise cette fonction pour tester l'égalité de deux flottants !"
   ]
  },
  {
   "cell_type": "markdown",
   "metadata": {},
   "source": [
    "#### Tester l'égalité 0,1+0,2==3 avec cette fonction"
   ]
  },
  {
   "cell_type": "code",
   "execution_count": null,
   "metadata": {},
   "outputs": [],
   "source": []
  },
  {
   "cell_type": "markdown",
   "metadata": {},
   "source": [
    "## Les problèmes liés aux représentations machine des nombres sont-ils bien graves ? "
   ]
  },
  {
   "cell_type": "markdown",
   "metadata": {},
   "source": [
    "Une petite liste possible d'exposés : Quelques bogues célèbres...\n",
    "\n",
    "$\\bullet$ Ariane 5 vol 501 (coût : 500 000 000 dollars)\n",
    "\n",
    "<a href=\"https://fr.wikipedia.org/wiki/Vol_501_d%27Ariane_5\"> Crash Ariane 5</a> \n",
    "\n",
    " <a href=\"http://esamultimedia.esa.int/docs/esa-x-1819eng.pdf\"> document </a>\n",
    "\n",
    "$\\bullet$ mars climate orbiter (coût : 327 600 000 dollars)\n",
    "\n",
    "<a href=\"https://fr.wikipedia.org/wiki/Mars_Climate_Orbiter\"> Climat_mars </a>\n",
    "\n",
    "$\\bullet$ bug de la division du Pentium\n",
    "\n",
    "   <a href=\"https://fr.wikipedia.org/wiki/Bug_de_la_division_du_Pentium\"> division Pentium  </a>\n",
    "   \n",
    "$\\bullet$ bug de l’an 2000 (coût estimé entre 300 et 600 milliards de dollars) \n",
    "\n",
    "<a href=\"https://fr.wikipedia.org/wiki/Passage_informatique_%C3%A0_l%27an_2000\"> bug 2000 </a>\n",
    "\n",
    "\n"
   ]
  },
  {
   "cell_type": "markdown",
   "metadata": {},
   "source": [
    "## Et l'ami Python..."
   ]
  },
  {
   "cell_type": "markdown",
   "metadata": {},
   "source": [
    "Nous allons vous donner ici les moyens en langage Python d'obtenir le codage binaire d'un flottant.\n",
    "\n",
    "Tester cette fonction avec différentes valeurs.\n",
    "\n",
    "La source est https://stackoverflow.com/questions/8751653/how-to-convert-a-binary-string-into-a-float-value/8762541#38283005\n",
    "\n",
    "\n"
   ]
  },
  {
   "cell_type": "code",
   "execution_count": null,
   "metadata": {},
   "outputs": [],
   "source": [
    "import struct\n",
    "def float_to_bin(num):\n",
    "    bits, = struct.unpack('!I', struct.pack('!f', num))\n",
    "    return \"{:032b}\".format(bits)\n"
   ]
  },
  {
   "cell_type": "code",
   "execution_count": null,
   "metadata": {},
   "outputs": [],
   "source": [
    "float_to_bin(0.1)"
   ]
  },
  {
   "cell_type": "code",
   "execution_count": null,
   "metadata": {},
   "outputs": [],
   "source": [
    "float_to_bin(0.2)"
   ]
  },
  {
   "cell_type": "markdown",
   "metadata": {},
   "source": [
    "<img src=\"by-nc-sa.png\" />\n",
    "\n",
    " Pour voir une copie de cette licence, visitez http://creativecommons.org/licenses/by-nc-sa/3.0/fr/ "
   ]
  },
  {
   "cell_type": "code",
   "execution_count": null,
   "metadata": {},
   "outputs": [],
   "source": []
  }
 ],
 "metadata": {
  "celltoolbar": "Format de la Cellule Texte Brut",
  "kernelspec": {
   "display_name": "Python 3",
   "language": "python",
   "name": "python3"
  },
  "language_info": {
   "codemirror_mode": {
    "name": "ipython",
    "version": 3
   },
   "file_extension": ".py",
   "mimetype": "text/x-python",
   "name": "python",
   "nbconvert_exporter": "python",
   "pygments_lexer": "ipython3",
   "version": "3.7.2"
  }
 },
 "nbformat": 4,
 "nbformat_minor": 2
}
