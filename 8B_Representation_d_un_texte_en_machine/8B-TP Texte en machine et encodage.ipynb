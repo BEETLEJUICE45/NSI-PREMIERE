{
 "cells": [
  {
   "cell_type": "markdown",
   "metadata": {},
   "source": [
    "# Avant de commencer : représentation hexadécimale ou binaire d'entiers"
   ]
  },
  {
   "cell_type": "markdown",
   "metadata": {},
   "source": [
    "### Entiers donnés en hexa\n",
    "\n",
    "\n",
    "Rappelons que l'on peut facilement indiquer à python que l'on souhaite définir un entier de type <code>int</code> représenté en hexadécimal en le préfixant par <code>0x</code> :"
   ]
  },
  {
   "cell_type": "code",
   "execution_count": null,
   "metadata": {},
   "outputs": [],
   "source": [
    "0xFF"
   ]
  },
  {
   "cell_type": "code",
   "execution_count": null,
   "metadata": {},
   "outputs": [],
   "source": [
    "0x01+0xA1"
   ]
  },
  {
   "cell_type": "markdown",
   "metadata": {},
   "source": [
    "### Entiers donnés en binaire\n",
    "\n",
    "\n",
    "Rappelons que l'on peut facilement indiquer à python que l'on souhaite définir un entier de type <code>int</code> représenté en binaire en le préfixant par <code>0b</code> :"
   ]
  },
  {
   "cell_type": "code",
   "execution_count": null,
   "metadata": {},
   "outputs": [],
   "source": [
    "0b1101"
   ]
  },
  {
   "cell_type": "code",
   "execution_count": null,
   "metadata": {},
   "outputs": [],
   "source": [
    "0b10000000000"
   ]
  },
  {
   "cell_type": "markdown",
   "metadata": {},
   "source": [
    "### Représenter en hexa ou en binaire un nombre entier donné en décimal\n",
    "Rappelons que l'on peut utiliser les fonctions <code>hex()</code> ou <code>bin()</code> **qui renvoient des chaînes de caractères**."
   ]
  },
  {
   "cell_type": "code",
   "execution_count": null,
   "metadata": {},
   "outputs": [],
   "source": [
    "bin(13)"
   ]
  },
  {
   "cell_type": "code",
   "execution_count": null,
   "metadata": {},
   "outputs": [],
   "source": [
    "hex(255)"
   ]
  },
  {
   "cell_type": "markdown",
   "metadata": {},
   "source": [
    "# Spécifier un caractère à partir de son point de code Unicode\n",
    "\n",
    "Nous prenons comme exemples les caractères 'A' et 'œ' et '𓅇' dont les points de code Unicode sont respectivement U+0041 (65 en décimal), U+0153 (339 en décimal) et 'U+013147' (78151 en décimal)."
   ]
  },
  {
   "cell_type": "markdown",
   "metadata": {},
   "source": [
    "### grâce à la fonction <code>chr()</code>"
   ]
  },
  {
   "cell_type": "code",
   "execution_count": null,
   "metadata": {},
   "outputs": [],
   "source": [
    "chr(65)"
   ]
  },
  {
   "cell_type": "code",
   "execution_count": null,
   "metadata": {},
   "outputs": [],
   "source": [
    "chr(0x0041)"
   ]
  },
  {
   "cell_type": "code",
   "execution_count": null,
   "metadata": {},
   "outputs": [],
   "source": [
    "chr(0x0153)"
   ]
  },
  {
   "cell_type": "code",
   "execution_count": null,
   "metadata": {},
   "outputs": [],
   "source": [
    "chr(339)"
   ]
  },
  {
   "cell_type": "code",
   "execution_count": null,
   "metadata": {},
   "outputs": [],
   "source": [
    "chr(0x13147)"
   ]
  },
  {
   "cell_type": "code",
   "execution_count": null,
   "metadata": {},
   "outputs": [],
   "source": [
    "chr(78151)"
   ]
  },
  {
   "cell_type": "markdown",
   "metadata": {},
   "source": [
    "### grâce à des séquences d'échappement\n",
    "\n",
    "Selon que le caractère a un point de code Unicode qui se code en hexa sur 2 chiffres, 4 chiffres ou 8 chiffres, on utilisera directement dans une chaîne de caractères les préfixes <code>\\x</code> ou <code>\\u</code> ou <code>\\U</code>. On indiquera **toujours** 2 chiffres, 4 chiffres ou 8 chiffres, quitte à compléter avec des zéros."
   ]
  },
  {
   "cell_type": "code",
   "execution_count": null,
   "metadata": {},
   "outputs": [],
   "source": [
    "'Début de la chaîne : \\x41 \\u0153 \\U00013147. Noter les zéros en plus pour arriver à 2, 4 ou 8 chiffres.'"
   ]
  },
  {
   "cell_type": "markdown",
   "metadata": {},
   "source": [
    "# Récupérer le point de code Unicode à partir d'un caractère "
   ]
  },
  {
   "cell_type": "markdown",
   "metadata": {},
   "source": [
    "### grâce à la fonction <code>ord()</code>"
   ]
  },
  {
   "cell_type": "code",
   "execution_count": null,
   "metadata": {},
   "outputs": [],
   "source": [
    "ord('A')"
   ]
  },
  {
   "cell_type": "code",
   "execution_count": null,
   "metadata": {},
   "outputs": [],
   "source": [
    "ord('œ')"
   ]
  },
  {
   "cell_type": "code",
   "execution_count": null,
   "metadata": {},
   "outputs": [],
   "source": [
    "ord('𓅇')"
   ]
  },
  {
   "cell_type": "code",
   "execution_count": null,
   "metadata": {},
   "outputs": [],
   "source": [
    "def retourner_point_de_code(car):\n",
    "    SD = ord(car)\n",
    "    SX = '{:x}'.format(ord(car))\n",
    "    SB = '{:b}'.format(ord(car))\n",
    "    return SD, SX, SB\n",
    "\n",
    "PC1 = retourner_point_de_code('Æ')\n",
    "PC2 = retourner_point_de_code('u')\n",
    "PC2 = retourner_point_de_code('u')\n",
    "PC1, PC2"
   ]
  },
  {
   "cell_type": "markdown",
   "metadata": {},
   "source": [
    "# Module <code>unicodedata</code>\n",
    "\n",
    "Le module <code>unicodedata</code> permet de récupérer des informations unicode sur des caractères."
   ]
  },
  {
   "cell_type": "code",
   "execution_count": null,
   "metadata": {},
   "outputs": [],
   "source": [
    "import unicodedata"
   ]
  },
  {
   "cell_type": "markdown",
   "metadata": {},
   "source": [
    "### fonction **<code>unicode.name()</code>**\n",
    "Retourne l'intitulé du caractère abstrait."
   ]
  },
  {
   "cell_type": "code",
   "execution_count": null,
   "metadata": {},
   "outputs": [],
   "source": [
    "seq = \"L'épais colimaçon !\"\n",
    "for car in seq:\n",
    "    print(unicodedata.name(car))\n"
   ]
  },
  {
   "cell_type": "code",
   "execution_count": null,
   "metadata": {},
   "outputs": [],
   "source": [
    "seq = '\\x41 \\x42 \\u0647 \\u0911 \\u31F9 \\u22C2 \\U00013147'\n",
    "for car in seq:\n",
    "    print(unicodedata.name(car))"
   ]
  },
  {
   "cell_type": "code",
   "execution_count": null,
   "metadata": {},
   "outputs": [],
   "source": [
    "'\\xc6'"
   ]
  },
  {
   "cell_type": "markdown",
   "metadata": {},
   "source": [
    "# <code>encode()</code> et <code>decode()</code> : caractère <--> caractère encodé\n",
    "\n",
    "**Attention :** si besoin retourner voir le cours, mais il est crucial de ne pas confondre *point de code Unicode* et *caractère encodé*."
   ]
  },
  {
   "cell_type": "markdown",
   "metadata": {},
   "source": [
    "### fonction <code>encode()</code>\n",
    "\n",
    "Elle permet d'encoder une chaîne de caractères dans l'encodage spécifié. On pourra consulter sur cette [documentation](https://docs.python.org/3.7/library/codecs.html#standard-encodings) la liste de tous les encodages disponibles en python.\n",
    "\n",
    "Cette fonction retourne un objet de type <code>bytes</code>que l'on peut s'imaginer un peu comme un tableau d'octets. Par exemple, dans le cours nous avions vu que la chaîne de caractères :  \n",
    "\n",
    "\n",
    "'❼ Æ L'  \n",
    "\n",
    "\n",
    "est encodée sur six octets en UTF-8, plus précisément cela donne :\n",
    "\n",
    "\n",
    "<code>11100010 10011101 10111100 11000011 10000110 01001100</code> en binaire soit   \n",
    "\n",
    "\n",
    "<code>0xE2 0x9D 0xBC 0xC3 0x86 0x4C</code> en hexadécimal.   \n",
    "\n",
    "\n",
    "\n",
    "Python peut le faire à notre place :"
   ]
  },
  {
   "cell_type": "code",
   "execution_count": null,
   "metadata": {},
   "outputs": [],
   "source": [
    "z = '❼ÆL'\n",
    "z_bytes = z.encode('utf-8')"
   ]
  },
  {
   "cell_type": "code",
   "execution_count": null,
   "metadata": {},
   "outputs": [],
   "source": [
    "z_bytes"
   ]
  },
  {
   "cell_type": "code",
   "execution_count": null,
   "metadata": {},
   "outputs": [],
   "source": [
    "z_bytes[0]"
   ]
  },
  {
   "cell_type": "code",
   "execution_count": null,
   "metadata": {},
   "outputs": [],
   "source": [
    "z_bytes[4]"
   ]
  },
  {
   "cell_type": "code",
   "execution_count": null,
   "metadata": {},
   "outputs": [],
   "source": [
    "z_bytes[5]"
   ]
  },
  {
   "cell_type": "markdown",
   "metadata": {},
   "source": [
    "On obtient bien les octets souhaités. Sauf le dernier qui surprend un peu : en fait **lorsqu'un byte  ou octet correspond à un caractère ascii valide, python l'affiche sous forme du caractère ascii correspondant. D'où le L ...** On remarque aussi qu'un objet de type <code>bytes</code> est écrit comme une chaîne de caractères avec des simple quotes, préfixée par le caractère b.\n",
    "\n",
    "On peut aussi encoder en ascii ou en iso-8859-1 :"
   ]
  },
  {
   "cell_type": "code",
   "execution_count": null,
   "metadata": {},
   "outputs": [],
   "source": [
    "z = 'chaton'\n",
    "z_bytes = z.encode('ascii')"
   ]
  },
  {
   "cell_type": "code",
   "execution_count": null,
   "metadata": {},
   "outputs": [],
   "source": [
    "z_bytes"
   ]
  },
  {
   "cell_type": "code",
   "execution_count": null,
   "metadata": {},
   "outputs": [],
   "source": [
    "k = 'çA Où Là Kè@$'\n",
    "k_bytes = k.encode('iso-8859-1')"
   ]
  },
  {
   "cell_type": "code",
   "execution_count": null,
   "metadata": {},
   "outputs": [],
   "source": [
    "k_bytes"
   ]
  },
  {
   "cell_type": "markdown",
   "metadata": {},
   "source": [
    "### fonction <code>decode()</code>\n",
    "\n",
    "Permet de décoder un objet de type <code>bytes</code> en chaîne de caractères"
   ]
  },
  {
   "cell_type": "code",
   "execution_count": null,
   "metadata": {},
   "outputs": [],
   "source": [
    "T = b'\\xc3\\x91\\x59\\xe2\\x9c\\xb0'.decode('utf-8')"
   ]
  },
  {
   "cell_type": "code",
   "execution_count": null,
   "metadata": {},
   "outputs": [],
   "source": [
    "print(T)"
   ]
  },
  {
   "cell_type": "markdown",
   "metadata": {},
   "source": [
    "# Exercices"
   ]
  },
  {
   "cell_type": "markdown",
   "metadata": {},
   "source": [
    "## Exercice 1\n",
    "\n",
    "En utilisant le fichier <code>caractères_étrangers.txt</code> situé dans le dossier de ce notebook : \n",
    "- choisir trois caractères prélevés dans trois lignes différentes\n",
    "- pour chacun d'eux, en utilisant python :\n",
    "    - retrouver le nom Unicode de ce caractère\n",
    "    - retrouver son point de code Unicode\n",
    "    - retrouver sa représentation encodée en UTF-8\n",
    "    - retrouver, en utilisant la [documentation Unicode](https://www.unicode.org/charts/), de quel alphabet il est issu."
   ]
  },
  {
   "cell_type": "markdown",
   "metadata": {},
   "source": [
    "## Exercice 2\n",
    "\n",
    "Si on encode un caractère en UTF-8 puis qu'on le décode en iso-8859-1, on risque fort de ne pas retrouver le caractère de départ.  \n",
    "\n",
    "\n",
    "En utilisant python, effectuer cette manipulation sur les caractères suivants et garder une trace des caractères obtenus finalement\n",
    "- a\n",
    "- é\n",
    "- O\n",
    "- ù\n",
    "- &\n",
    "- è\n",
    "- ❼\n",
    "- ✰\n"
   ]
  },
  {
   "cell_type": "markdown",
   "metadata": {},
   "source": [
    "## Exercice 3\n",
    "\n",
    "Si on encode un caractère en iso-8859-1 puis qu'on le décode en UTF-8, on risque fort d'avoir des problèmes. \n",
    "\n",
    "\n",
    "Vérifier avec python que c'est bien le cas puis expliquer précisément pourquoi on a un problème.\n",
    "- a\n",
    "- é\n",
    "- O\n",
    "- ù\n",
    "- &\n",
    "- è\n",
    "- ❼\n",
    "- ✰\n"
   ]
  },
  {
   "cell_type": "markdown",
   "metadata": {},
   "source": [
    "## Exercice 4  \n",
    "Ecrire une fonction python qui prend en paramère un caractère <code>C</code> et renvoie une chaîne de caractères correpondant au décodage en iso-8859-1 de l'encodage en UTF-8 de <code>C</code>."
   ]
  },
  {
   "cell_type": "markdown",
   "metadata": {},
   "source": [
    "## Exercice 5\n",
    "\n",
    "**Dans cet exercice, on dira que l'expression \"les caractères Unicode\" est équivalente à l'expression : \"tous les caractères Unicode dont le point de code est compris entre U+0000 et U+2FFFF\".**\n",
    "\n",
    "Sur la page donnant [tous les plans de code Unicode](https://www.unicode.org/charts/), on constate qu'un certain nombre de plans de code ont des \"trous\". Par exemple le point de code U+085B est affecté à un caractère abstrait, mais pas le point de code U+085C. Cela lève une exception lorsqu'on demande le nom d'un tel point de code :"
   ]
  },
  {
   "cell_type": "code",
   "execution_count": null,
   "metadata": {},
   "outputs": [],
   "source": [
    "unicodedata.name('\\u085B')"
   ]
  },
  {
   "cell_type": "code",
   "execution_count": null,
   "metadata": {},
   "outputs": [],
   "source": [
    "unicodedata.name('\\u085C')"
   ]
  },
  {
   "cell_type": "markdown",
   "metadata": {},
   "source": [
    "On peut facilement créer une fonction qui évite de lever une exception lorsque la caractère n'existe pas et renvoie une chaîne de caractères vide à la place :"
   ]
  },
  {
   "cell_type": "code",
   "execution_count": null,
   "metadata": {},
   "outputs": [],
   "source": [
    "def mon_unicodedata_name(car):\n",
    "    try :\n",
    "        return unicodedata.name(car)\n",
    "    except:\n",
    "        return ''"
   ]
  },
  {
   "cell_type": "code",
   "execution_count": null,
   "metadata": {},
   "outputs": [],
   "source": [
    "mon_unicodedata_name('\\u085B')"
   ]
  },
  {
   "cell_type": "code",
   "execution_count": null,
   "metadata": {},
   "outputs": [],
   "source": [
    "mon_unicodedata_name('\\u085C')"
   ]
  },
  {
   "cell_type": "markdown",
   "metadata": {},
   "source": [
    "**CONSIGNES :**\n",
    "- trouver un critère permettant de déterminer si un nom de caractère abstrait Unicode est \"rigolo\" (par exemple le critère pourrait être : \"ce nom comporte plus de deux Z\" auquel cas le caractère abstrait nommé 'ARABIC LIGATURE UIGHUR KIRGHIZ YEH WITH HAMZA ABOVE WITH ALEF MAKSURA FINAL FORM' est rigolo)\n",
    "\n",
    "\n",
    "- écrire une fonction python permettant de renvoyer un booléen indiquant si un caractère abstrait donné en paramètre est \"rigolo\" avec ce critère.\n",
    "\n",
    "\n",
    "- écrire quatre fonctions python :\n",
    "\n",
    "\n",
    "    - l'une renvoyant le nombre de caractères rigolos parmi tous les caractères Unicode.\n",
    "    \n",
    "    - l'autre renvoyant une chaîne de caractères constituée de tous les caractères rigolos parmi les caractères Unicode.\n",
    "    \n",
    "    - l'avant dernière renvoyant une liste de tous les noms des caractères rigolos parmi les caractères Unicode.\n",
    "    \n",
    "    - la dernière renvoyant une liste de tous les points de code écrits en hexadécimal des caractères rigolos parmi les caractères Unicode."
   ]
  },
  {
   "cell_type": "markdown",
   "metadata": {},
   "source": [
    "## Exercice 6\n",
    "\n",
    "Effectuer à la main des encodages UTF-8 ou ascii ou iso-8859-1 en vérifiant vos résultats grâce à python.\n"
   ]
  }
 ],
 "metadata": {
  "kernelspec": {
   "display_name": "Python 3",
   "language": "python",
   "name": "python3"
  },
  "language_info": {
   "codemirror_mode": {
    "name": "ipython",
    "version": 3
   },
   "file_extension": ".py",
   "mimetype": "text/x-python",
   "name": "python",
   "nbconvert_exporter": "python",
   "pygments_lexer": "ipython3",
   "version": "3.7.2"
  }
 },
 "nbformat": 4,
 "nbformat_minor": 2
}
