{
 "cells": [
  {
   "cell_type": "markdown",
   "metadata": {},
   "source": [
    "# Voitures\n",
    "\n",
    "<div class =\"alert alert-danger\"> \n",
    "\n",
    "Pour fonctionner, ce notebook doit être dans le même répertoire (ou dossier) que le dossier `./datas_voitures/` qui contient un fichier CSV : `'./datas_voitures/vehicles/vehicles_extra_light.csv'`."
   ]
  },
  {
   "cell_type": "markdown",
   "metadata": {},
   "source": [
    "Commencer par exécuter la cellule de code ci-dessous."
   ]
  },
  {
   "cell_type": "code",
   "execution_count": null,
   "metadata": {},
   "outputs": [],
   "source": [
    "import csv\n",
    "import pandas\n",
    "\n",
    "def charger_fichier( nom_fic ):\n",
    "    \"\"\"\n",
    "    Permet de lire un fichier CSV en utilisant la ligne d'entêtes\n",
    "    Retourne une liste de dictionnaires.\n",
    "    \"\"\"\n",
    "    table = []\n",
    "    fichier_csv = open( nom_fic , \"r\", newline =\"\", encoding =\"utf-8\" )\n",
    "    lecteur_fichier = csv.DictReader( fichier_csv , delimiter =\",\")    \n",
    "    for enreg in lecteur_fichier :\n",
    "        table.append (dict ( enreg )) # enreg est de type OrderedDict on le remet endict\n",
    "    fichier_csv.close()    \n",
    "    return table\n",
    "\n",
    "def afficher(table):\n",
    "    f = pandas.DataFrame(table)\n",
    "    return f\n",
    "\n",
    "table_voitures = charger_fichier('./datas_voitures/vehicles/vehicles_extra_light.csv')"
   ]
  },
  {
   "cell_type": "markdown",
   "metadata": {},
   "source": [
    "Pour faciliter l'affichage **des tables**, vous pouvez utiliser la fonction `afficher`."
   ]
  },
  {
   "cell_type": "code",
   "execution_count": null,
   "metadata": {},
   "outputs": [],
   "source": [
    "afficher(table_voitures)"
   ]
  },
  {
   "cell_type": "markdown",
   "metadata": {},
   "source": [
    "Une fois cette cellule de code exécutée, `table_voitures` contient une table correspondant à des enregistrements donnant des informations sur différentes voitures.  Voici la signification des différents descripteurs :\n",
    "\n",
    "<pre>\n",
    "- Identification :\n",
    "    - fabricant     : fabricant\n",
    "    - nom_modele    : nom du modèle\n",
    "    - annee         : année de production du modèle\n",
    "   \n",
    "- Spécifications techniques :\n",
    "    - nb_cylindres  : nombre de cylindres\n",
    "    - cylindree     : cylindrée (L) ('' ou 'NA' si non renseigné)\n",
    "    - categorie     : classe du véhicule selon l'EPA (Environnment Protection Agency)\n",
    "    - energie1      : énergie principale\n",
    "\n",
    "- Consommations et émissions :\n",
    "    - consoMixte1   : consommation (L/100km) en cycle mixte pour l'énergie principale (*)\n",
    "    - consoMixte2   : consommation (L/100km) en cycle mixte pour l'énergie secondaire (*) \n",
    "    - consoMixteE   : consommation (kW.h/100km) en cycle mixte pour l'énergie électrique   \n",
    "    \n",
    "(*) : si besoin converties en équivalent L/100km \n",
    "\n",
    "Remarques :\n",
    "- consoMixte1 : toujours différent de '0'\n",
    "- consoMixte2 : '0' lorsque energie2 est ''\n",
    "</pre>"
   ]
  },
  {
   "cell_type": "markdown",
   "metadata": {},
   "source": [
    "*Question 1 :* \n",
    "\n",
    "\n",
    "En étudiant le code ci-dessus : \n",
    "    \n",
    "- Quel est l'encodage du fichier CSV utilisé : `utf-8` ou `ascii` ou `iso-8859-1`?\n",
    "\n",
    "- Quel est le séparateur du fichier CSV utilisé : `;` ou `,` ou `:` ?    "
   ]
  },
  {
   "cell_type": "raw",
   "metadata": {},
   "source": [
    "L'encodage du fichier CSV utilisé est : ...\n",
    "\n",
    "Le séparateur du fichier CSV utilisé est : ...\n"
   ]
  },
  {
   "cell_type": "markdown",
   "metadata": {},
   "source": [
    "*Question 2 :*  \n",
    "\n",
    "En exécutant une instruction bien choisie, déterminer combien d'*enregistrements* (c-à-d de lignes) contient cette table."
   ]
  },
  {
   "cell_type": "code",
   "execution_count": null,
   "metadata": {},
   "outputs": [],
   "source": [
    "..."
   ]
  },
  {
   "cell_type": "markdown",
   "metadata": {},
   "source": [
    "*Question 3 :*  \n",
    "\n",
    "Exécuter la cellule de code ci-dessous puis indiquer combien chaque enregistrement comporte de *descripteurs*."
   ]
  },
  {
   "cell_type": "code",
   "execution_count": null,
   "metadata": {},
   "outputs": [],
   "source": [
    "table_voitures[0]"
   ]
  },
  {
   "cell_type": "raw",
   "metadata": {},
   "source": [
    "Chaque enregistrement comporte ... descripteurs."
   ]
  },
  {
   "cell_type": "markdown",
   "metadata": {},
   "source": [
    "<hr/>\n",
    "\n",
    "\n",
    "**Remarque :**\n",
    "\n",
    "Pour la suite, rappelez vous que les valeurs de tous les champs sont de type `str` et qu'il faut les convertir en `float` ou en `int` si besoin.  \n",
    "  \n",
    "  \n",
    " <hr/>"
   ]
  },
  {
   "cell_type": "markdown",
   "metadata": {},
   "source": [
    "*Question 4 :*  \n",
    "Compléter la première cellule de code ci-dessous afin d'obtenir la table des véhicules électriques (dont le descripteur `'energie1'` vaut `'Electricity'`)."
   ]
  },
  {
   "cell_type": "code",
   "execution_count": null,
   "metadata": {},
   "outputs": [],
   "source": [
    "electriques = [ ... for ... in ... if ...[...] == ...]\n",
    "afficher(electriques)"
   ]
  },
  {
   "cell_type": "markdown",
   "metadata": {},
   "source": [
    "Compléter alors l'instruction ci-dessous afin de trier en fonction de leur consommation croissante (descripteur `'consoMixteE'`) la table des véhicules électriques obtenue à la question précédente.\n",
    "\n",
    "On fera attention aux problèmes de conversions de type."
   ]
  },
  {
   "cell_type": "code",
   "execution_count": null,
   "metadata": {},
   "outputs": [],
   "source": [
    "def consoMixteE(enregistrement):\n",
    "    return ...(...[...])\n",
    "\n",
    "electriques_triees = sorted(..., key = ..., reverse = ...)\n",
    "afficher(electriques_triees)"
   ]
  },
  {
   "cell_type": "markdown",
   "metadata": {},
   "source": [
    "*Question 5 :*  \n",
    "\n",
    "Compléter l'instruction ci-dessous afin d'obtenir la table **des enregistrements** dont la consommation (descripteur `'consoMixte1'`) est supérieure ou égale à 15L aux 100km.  \n",
    "\n",
    "On fera attention aux problèmes de conversions de type."
   ]
  },
  {
   "cell_type": "code",
   "execution_count": null,
   "metadata": {},
   "outputs": [],
   "source": [
    "gloutons = [... for ... in ... if ...(... [...]) >= ...]\n",
    "afficher(gloutons)"
   ]
  },
  {
   "cell_type": "markdown",
   "metadata": {},
   "source": [
    "*Question 6 :*  \n",
    "Compléter l'instruction ci-dessous afin d'obtenir une liste **des triplets (fabricant, nom_modele, cylindree)** dont la cylindrée (descripteur `'cylindree'`) est supérieure ou égale à 5L.  \n",
    "\n",
    "On fera attention aux problèmes de conversions de type."
   ]
  },
  {
   "cell_type": "code",
   "execution_count": null,
   "metadata": {},
   "outputs": [],
   "source": [
    "gloutons_v2 = [ (...[...], ...[...], ...[...])  for ... in ... if ...(... [...]) >= ...]\n",
    "afficher(gloutons_v2)"
   ]
  },
  {
   "cell_type": "markdown",
   "metadata": {},
   "source": [
    "*Question 7 :*  \n",
    "\n",
    "Compléter les instructions ci-dessous afin de déterminer si une [Renault Fuego](https://fr.wikipedia.org/wiki/Renault_Fuego) est présente dans la table `table_voitures`."
   ]
  },
  {
   "cell_type": "code",
   "execution_count": null,
   "metadata": {},
   "outputs": [],
   "source": [
    "presente = False\n",
    "for ... in table_voitures:\n",
    "    if ...[...] == ... and ...[...] == ...:\n",
    "        presente = ...\n",
    "        break\n",
    "presente"
   ]
  },
  {
   "cell_type": "markdown",
   "metadata": {},
   "source": [
    "*Question 8 :*  \n",
    "\n",
    "Compléter les instructions ci-dessous afin d'obtenir la liste de tous les couples (fabricant, nom_modele) dont la consommation est maximale.  \n",
    "\n",
    "Pour cela on cherche d'abord la consommation maximale PUIS on cherche tous les couples (fabricant, nom_modele) correspondant.\n",
    "\n",
    "On prendra garde aux problèmes de conversions de type."
   ]
  },
  {
   "cell_type": "code",
   "execution_count": null,
   "metadata": {},
   "outputs": [],
   "source": [
    "conso_max = float(table_voitures[0][...])\n",
    "for voiture in table_voitures:\n",
    "    if float(...) > conso_max:\n",
    "        conso_max = ...\n",
    "\n",
    "liste_couples_max = []\n",
    "for voiture in table_voitures:\n",
    "    if float(...) == ...:\n",
    "        ... .append((...[...], ...[...]))\n",
    "        \n",
    "afficher(liste_couples_max)"
   ]
  },
  {
   "cell_type": "markdown",
   "metadata": {},
   "source": [
    "*Question 9 :*  \n",
    "\n",
    "Compléter les instructions ci-dessous afin d'obtenir la table des pays triés par ordre alphabétique de fabricant et - au sein de chaque fabricant - triés par ordre alphabétique de nom de modèle et - au sein de chaque fabricant-modèle triés par année de fabrication décroissante.\n",
    "\n",
    "On prendra garde aux problèmes de conversions de type."
   ]
  },
  {
   "cell_type": "code",
   "execution_count": null,
   "metadata": {},
   "outputs": [],
   "source": [
    "def fabricant(enregistrement):\n",
    "    return ...[...]\n",
    "\n",
    "def nom_modele(enregistrement):\n",
    "    return ...[...]\n",
    "\n",
    "def annee(enregistrement):\n",
    "    return int(...[...])\n",
    "\n",
    "table_triee = sorted(table_voitures, ..., ...)\n",
    "table_triee = sorted(table_triee, ..., ...)\n",
    "table_triee = sorted(table_triee, ..., ...)\n",
    "afficher(table_triee)"
   ]
  }
 ],
 "metadata": {
  "kernelspec": {
   "display_name": "Python 3",
   "language": "python",
   "name": "python3"
  },
  "language_info": {
   "codemirror_mode": {
    "name": "ipython",
    "version": 3
   },
   "file_extension": ".py",
   "mimetype": "text/x-python",
   "name": "python",
   "nbconvert_exporter": "python",
   "pygments_lexer": "ipython3",
   "version": "3.8.2"
  }
 },
 "nbformat": 4,
 "nbformat_minor": 4
}
