{
 "cells": [
  {
   "cell_type": "markdown",
   "metadata": {},
   "source": [
    "<div class = \"alert alert-info\">\n",
    "\n",
    "# Allégement du fichier des émissions\n",
    "    "
   ]
  },
  {
   "cell_type": "markdown",
   "metadata": {},
   "source": [
    "Il y a quatre champs :\n",
    "```\n",
    "- id             : identifiant du modèle de véhicule, c'est le même que celui de la table des véhicules\n",
    "- score_smog1    : score qualité (1 à 10) en terme de particules pour énergie 1 (-1 si pas de score)\n",
    "- score_smog2    : score qualité (1 à 10) en terme de particules pour énergie 2 (-1 si pas de score)\n",
    "- score_smartway : label de qualité environnementale \"SmartWay\" ('NON', 'SMARTWAY' ou 'SMARTWAY ELITE')\n",
    "```\n",
    "    "
   ]
  },
  {
   "cell_type": "code",
   "execution_count": 6,
   "metadata": {},
   "outputs": [],
   "source": [
    "import csv\n",
    "\n",
    "def enlever_doublons_liste(avec_doublons):\n",
    "    sans_doublons = []\n",
    "    for element in avec_doublons:\n",
    "        if element not in sans_doublons:\n",
    "            sans_doublons.append(element)\n",
    "    return sans_doublons\n",
    "\n",
    "def enlever_doublons_ids(avec_doublons):\n",
    "    sans_doublons = []\n",
    "    sans_doublons_ids = []\n",
    "    for element in avec_doublons:\n",
    "        if element['id'] not in sans_doublons_ids:\n",
    "            sans_doublons.append(element)\n",
    "            sans_doublons_ids.append(element['id'])\n",
    "    return sans_doublons    \n",
    "\n",
    "def importer_csv(chemin_fichier):\n",
    "    liste_dicos = []\n",
    "    fichier_csv = open(chemin_fichier, 'r', encoding = 'UTF-8', newline = '')\n",
    "    lecteur_csv = csv.DictReader(fichier_csv, delimiter = ',')\n",
    "    for element in lecteur_csv :\n",
    "        liste_dicos.append(dict(element))\n",
    "    fichier_csv.close()\n",
    "    return liste_dicos\n",
    "\n",
    "def enregistrer_en_csv(chemin_fichier, table):\n",
    "    with open(chemin_fichier, 'w', newline='', encoding = 'UTF-8') as csvfile:\n",
    "        fieldnames = table[0].keys()\n",
    "        writer = csv.DictWriter(csvfile, fieldnames=fieldnames)\n",
    "        writer.writeheader()\n",
    "        for row in table:\n",
    "            writer.writerow(row)\n",
    "\n",
    "def alleger_fichier_emissions():\n",
    "    emissions = importer_csv('.\\\\emissions\\\\emissions.csv')\n",
    "    emissions_light = []\n",
    "    cles_retenues = ['id', 'score', 'scoreAlt', 'smartwayScore']\n",
    "    cles_modifiees = {'id':'id', 'score':'score_smog1', 'scoreAlt':'score_smog2', \n",
    "                      'smartwayScore':'score_smartway'}\n",
    "    \n",
    "    for em in emissions :\n",
    "        em_light = {cles_modifiees[cle]:val for cle, val in em.items() if cle in cles_retenues}\n",
    "        emissions_light.append(em_light)\n",
    "    \n",
    "    for em in emissions_light :\n",
    "        for cle, val in em.items():\n",
    "            if cle == 'score_smartway':\n",
    "                if val == '-1':\n",
    "                    em[cle] = 'NON'\n",
    "                elif val == '1':\n",
    "                    em[cle] = 'SMARTWAY'\n",
    "                elif val == '2':\n",
    "                    em[cle] = 'SMARTWAY ELITE'\n",
    "    \n",
    "    emissions_light = enlever_doublons_liste(emissions_light)\n",
    "    emissions_light = enlever_doublons_ids(emissions_light)\n",
    "\n",
    "    enregistrer_en_csv('.\\\\emissions\\\\emissions_light.csv', emissions_light)"
   ]
  },
  {
   "cell_type": "code",
   "execution_count": null,
   "metadata": {},
   "outputs": [],
   "source": [
    "alleger_fichier_emissions()\n"
   ]
  },
  {
   "cell_type": "markdown",
   "metadata": {},
   "source": [
    "<div class = \"alert alert-info\">\n",
    "\n",
    "# Allégement du fichier de véhicules"
   ]
  },
  {
   "cell_type": "markdown",
   "metadata": {},
   "source": [
    "<div class = \"alert alert-info\" >\n",
    "\n",
    "- PHEV : Plugin Hybrid Electric Vehicle\n",
    "- CNG : Compressed Natural Gas\n",
    "- FFV : Flexi Fuel Vehicle    \n",
    "- EPA = Environnmental Protection Agency\n",
    "- MPG : Miles Per Gallon\n",
    "- fuelType : reprend fuelType1 et fuelType2 donc inutile\n",
    "- atvType : même problématique\n",
    "- comb08 : toujours différent de `'0'`\n",
    "- combA08 : `'0'` lorsque fuelType2 est `''`"
   ]
  },
  {
   "cell_type": "markdown",
   "metadata": {},
   "source": [
    "\n",
    "\n",
    "\n",
    "<pre>\n",
    "- Modèle :\n",
    "    - id           : identifiant\n",
    "    - make         : fabricant\n",
    "    - model        : nom du modèle\n",
    "    - year         : année de production du modèle\n",
    "   \n",
    "- Spécifications techniques :\n",
    "    - cylinders    : nombre de cylindres\n",
    "    - displ        : cylindrée (L)\n",
    "    - trany        : transmission\n",
    "    - VClass       : classe du véhicule selon l'EPA (Environnment Protection Agency)\n",
    "    - startStop    : technologie Start-Stop présente ('Y'/'N'/'')\n",
    "    - fuelType1    : énergie principale\n",
    "    - fuelType2    : énergie secondaire\n",
    "    - fuelType \n",
    "    \n",
    "- Consommations et émissions :\n",
    "    - atvType      : type d'énergie alternative\n",
    "    - city08       : consommation (L/100km) en cycle urbain pour l'énergie principale (*)\n",
    "    - cityA08      : consommation (L/100km) en cycle urbain pour l'énergie alternative (*) \n",
    "    - cityE        : consommation (kW.h/100km) en cycle urbain pour l'énergie électrique\n",
    "    - highway08    : consommation (L/100km) sur autoroute pour l'énergie principale (*)\n",
    "    - highwayA08   : consommation (L/100km) sur autoroute pour l'énergie alternative (*)\n",
    "    - highwayE     : consommation (kW.h/100km) sur autoroute pour l'énergie électrique\n",
    "    - comb08       : consommation (L/100km) en cycle mixte pour l'énergie principale (*)\n",
    "    - combA08      : consommation (L/100km) en cycle mixte pour l'énergie alternative (*) \n",
    "    - combE        : consommation (kW.h/100km) en cycle mixte pour l'énergie électrique\n",
    "    - co2          : émissions de CO2 (g/km) pour l'énergie principale\n",
    "    - co2A         : émissions de CO2 (g/km) pour l'énergie alternative    \n",
    "    \n",
    "(*) : si besoin converties en équivalent L/100km \n",
    "</pre>"
   ]
  },
  {
   "cell_type": "code",
   "execution_count": 18,
   "metadata": {},
   "outputs": [],
   "source": [
    "import csv\n",
    "\n",
    "def importer_csv(chemin_fichier):\n",
    "    liste_dicos = []\n",
    "    fichier_csv = open(chemin_fichier, 'r', encoding = 'UTF-8', newline = '')\n",
    "    lecteur_csv = csv.DictReader(fichier_csv, delimiter = ',')\n",
    "    for element in lecteur_csv :\n",
    "        liste_dicos.append(dict(element))\n",
    "    fichier_csv.close()\n",
    "    return liste_dicos\n",
    "\n",
    "def enregistrer_en_csv(chemin_fichier, table):\n",
    "    with open(chemin_fichier, 'w', newline='', encoding = 'UTF-8') as csvfile:\n",
    "        fieldnames = table[0].keys()\n",
    "        writer = csv.DictWriter(csvfile, fieldnames=fieldnames)\n",
    "        writer.writeheader()\n",
    "        for row in table:\n",
    "            writer.writerow(row)\n",
    "\n",
    "def ccf(x):\n",
    "    return (100*3.78541)/(1.60934*float(x))\n",
    "\n",
    "def alleger_fichier():\n",
    "    cars = importer_csv('./datas_voitures/vehicles/vehicles.csv')\n",
    "    cars_light = []\n",
    "    cles_retenues = ['id', 'make', 'model', 'year', 'atvType', \n",
    "                     'cylinders', 'displ', 'trany', 'VClass', 'startStop', 'fuelType1', 'fuelType2', 'fuelType', \n",
    "                     'city08', 'cityA08', 'cityE', 'highway08', 'highwayA08', 'highwayE',\n",
    "                     'comb08', 'combA08', 'combE', 'co2', 'co2A']\n",
    "    for car in cars :\n",
    "        car_light = {cle:val for cle, val in car.items() if cle in cles_retenues}\n",
    "        cars_light.append(car_light)\n",
    "    for car in cars_light :\n",
    "        for key in ['city08', 'cityA08', 'highway08', 'highwayA08', 'comb08', 'combA08'] :\n",
    "            if car[key] != '0':\n",
    "                car[key] = str(round((100*3.78541)/(1.60934*float(car[key])), 1))\n",
    "        for key in ['co2', 'co2A'] :\n",
    "            if car[key] != '-1':\n",
    "                car[key] = str(round(float(car[key])/1.60934, 1))\n",
    "    enregistrer_en_csv('.\\\\vehicles\\\\vehicles_light.csv', cars_light)\n",
    "    \n",
    "def super_alleger_fichier():\n",
    "    cars = importer_csv('./datas_voitures/vehicles/vehicles.csv')\n",
    "    cars_light = []\n",
    "    cles_retenues = ['id', 'make', 'model', 'year', \n",
    "                     'cylinders', 'displ', 'trany', 'VClass', 'startStop', 'fuelType1', 'fuelType2', \n",
    "                     'comb08', 'combA08', 'combE', 'co2', 'co2A']\n",
    "    cles_modifiees = {'id':'id',\n",
    "                      'make' : 'fabricant', \n",
    "                      'model' : 'nom_modele', \n",
    "                      'year' : 'annee', \n",
    "                      'cylinders' : 'nb_cylindres', \n",
    "                      'displ' : 'cylindree', \n",
    "                      'trany' : 'transmission', \n",
    "                      'VClass' : 'categorie', \n",
    "                      'startStop' : 'ss', \n",
    "                      'fuelType1' : 'energie1', \n",
    "                      'fuelType2' : 'energie2', \n",
    "                      'comb08' : 'consoMixte1', \n",
    "                      'combA08' : 'consoMixte2', \n",
    "                      'combE' : 'consoMixteE', \n",
    "                      'co2' : 'CO2', \n",
    "                      'co2A' : 'CO2A'}\n",
    "    for car in cars :\n",
    "        car_light = {cles_modifiees[cle]:val for cle, val in car.items() if cle in cles_retenues}\n",
    "        cars_light.append(car_light)\n",
    "    for car in cars_light :\n",
    "        for key in ['consoMixte1', 'consoMixte2'] :\n",
    "            if car[key] != '0':\n",
    "                car[key] = str(round((100*3.78541)/(1.60934*float(car[key])), 1))\n",
    "        for key in ['CO2', 'CO2A'] :\n",
    "            if car[key] != '-1':\n",
    "                car[key] = str(round(float(car[key])/1.60934, 1))\n",
    "        if car['cylindree'] == '' or car['cylindree'] == 'NA':\n",
    "            car['cylindree'] = '0'\n",
    "                \n",
    "    cars_light = enlever_doublons_liste(cars_light)\n",
    "    cars_light = enlever_doublons_ids(cars_light)                \n",
    "                \n",
    "                \n",
    "    enregistrer_en_csv('./datas_voitures/vehicles/vehicles_super_light.csv', cars_light)\n",
    "    \n"
   ]
  },
  {
   "cell_type": "code",
   "execution_count": 19,
   "metadata": {},
   "outputs": [],
   "source": [
    "super_alleger_fichier()"
   ]
  },
  {
   "cell_type": "code",
   "execution_count": null,
   "metadata": {},
   "outputs": [],
   "source": [
    "cars_light = importer_csv('.\\\\vehicles\\\\vehicles_light.csv')"
   ]
  },
  {
   "cell_type": "code",
   "execution_count": null,
   "metadata": {},
   "outputs": [],
   "source": [
    "#if car['combA08'] != '0'\n",
    "L = [(car['fuelType1'], car['fuelType2'], car['atvType']) for car in cars_light]\n",
    "S = set(L)\n",
    "S"
   ]
  },
  {
   "cell_type": "code",
   "execution_count": null,
   "metadata": {},
   "outputs": [],
   "source": [
    "#if car['combA08'] != '0'\n",
    "L = [(car['fuelType1'], car['fuelType2'], car['fuelType']) for car in cars_light]\n",
    "S = set(L)\n",
    "S"
   ]
  },
  {
   "cell_type": "code",
   "execution_count": null,
   "metadata": {},
   "outputs": [],
   "source": [
    "import random\n",
    "cars_super_light = importer_csv('.\\\\vehicles\\\\vehicles_super_light.csv')\n",
    "cars_super_light_shorten = random.sample(cars_super_light, 500)\n",
    "print(list(cars_super_light_shorten[0].keys()))"
   ]
  },
  {
   "cell_type": "code",
   "execution_count": null,
   "metadata": {},
   "outputs": [],
   "source": [
    "#if car['combA08'] != '0'\n",
    "cars_super_light_shorten = random.sample(cars_super_light, 500)\n",
    "L = [(car['consoMixte1'], car['energie1']) for car in cars_super_light]\n",
    "S = set(L)\n",
    "S"
   ]
  },
  {
   "cell_type": "code",
   "execution_count": null,
   "metadata": {},
   "outputs": [],
   "source": [
    "#if car['combA08'] != '0'\n",
    "cars_super_light_shorten = random.sample(cars_super_light, 500)\n",
    "L = [(car['consoMixte2'], car['energie2']) for car in cars_super_light]\n",
    "S = set(L)\n",
    "S"
   ]
  }
 ],
 "metadata": {
  "kernelspec": {
   "display_name": "Python 3",
   "language": "python",
   "name": "python3"
  },
  "language_info": {
   "codemirror_mode": {
    "name": "ipython",
    "version": 3
   },
   "file_extension": ".py",
   "mimetype": "text/x-python",
   "name": "python",
   "nbconvert_exporter": "python",
   "pygments_lexer": "ipython3",
   "version": "3.8.2"
  }
 },
 "nbformat": 4,
 "nbformat_minor": 4
}
