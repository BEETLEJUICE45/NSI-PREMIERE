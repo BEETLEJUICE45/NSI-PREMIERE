{
 "cells": [
  {
   "cell_type": "markdown",
   "metadata": {},
   "source": [
    "# Animaux - traitement_des_datas"
   ]
  },
  {
   "cell_type": "markdown",
   "metadata": {},
   "source": [
    "Commencer par exécuter la cellule de code ci-dessous."
   ]
  },
  {
   "cell_type": "code",
   "execution_count": null,
   "metadata": {},
   "outputs": [],
   "source": [
    "import csv\n",
    "import pandas\n",
    "\n",
    "def charger_fichier( nom_fic ):\n",
    "    \"\"\"\n",
    "    Permet de lire un fichier CSV en utilisant la ligne d'entêtes\n",
    "    Retourne une liste de dictionnaires.\n",
    "    \"\"\"\n",
    "    table = []\n",
    "    fichier_csv = open( nom_fic , \"r\", newline =\"\", encoding =\"utf-8\" )\n",
    "    lecteur_fichier = csv.DictReader( fichier_csv , delimiter =\",\")    \n",
    "    for enreg in lecteur_fichier :\n",
    "        table.append (dict ( enreg )) # enreg est de type OrderedDict on le remet endict\n",
    "    fichier_csv.close()    \n",
    "    return table\n",
    "\n",
    "def enregistrer_en_csv(chemin_fichier, table):\n",
    "    with open(chemin_fichier, 'w', newline='', encoding = 'UTF-8') as csvfile:\n",
    "        fieldnames = table[0].keys()\n",
    "        writer = csv.DictWriter(csvfile, fieldnames=fieldnames)\n",
    "        writer.writeheader()\n",
    "        for row in table:\n",
    "            writer.writerow(row)\n",
    "\n",
    "def afficher(table):\n",
    "    f = pandas.DataFrame(table)\n",
    "    return f\n",
    "\n",
    "table_dates = charger_fichier('./animaux_dates_original.csv')\n",
    "table_noms = charger_fichier('./animaux_noms_original.csv')"
   ]
  },
  {
   "cell_type": "code",
   "execution_count": null,
   "metadata": {},
   "outputs": [],
   "source": [
    "sd = {a['nom_scientifique']:True for a in table_dates}\n",
    "sn = {a['nom_scientifique']:True for a in table_noms}\n",
    "\n",
    "td_l = []\n",
    "tn_l = []\n",
    "\n",
    "for a in table_noms:\n",
    "    if sn[a['nom_scientifique']] and a['nom_scientifique'] != 'unavailable':\n",
    "        tn_l.append(a)\n",
    "        sn[a['nom_scientifique']] = False\n",
    "        \n",
    "for a in table_dates:\n",
    "    if sd[a['nom_scientifique']] and a['nom_scientifique'] != 'unavailable' and a['nom_scientifique'] in sn.keys():\n",
    "        td_l.append(a)\n",
    "        sd[a['nom_scientifique']] = False\n",
    "\n",
    "enregistrer_en_csv('./animaux_dates.csv', td_l)\n",
    "enregistrer_en_csv('./animaux_noms.csv', tn_l)      "
   ]
  },
  {
   "cell_type": "code",
   "execution_count": null,
   "metadata": {},
   "outputs": [],
   "source": [
    "sd = set([a['nom_scientifique'] for a in td_l])\n",
    "sn = set([a['nom_scientifique'] for a in tn_l])\n",
    "s = sd.intersection(sn)\n",
    "len(s), len(sd), len(sn)"
   ]
  }
 ],
 "metadata": {
  "kernelspec": {
   "display_name": "Python 3",
   "language": "python",
   "name": "python3"
  },
  "language_info": {
   "codemirror_mode": {
    "name": "ipython",
    "version": 3
   },
   "file_extension": ".py",
   "mimetype": "text/x-python",
   "name": "python",
   "nbconvert_exporter": "python",
   "pygments_lexer": "ipython3",
   "version": "3.8.2"
  }
 },
 "nbformat": 4,
 "nbformat_minor": 4
}
