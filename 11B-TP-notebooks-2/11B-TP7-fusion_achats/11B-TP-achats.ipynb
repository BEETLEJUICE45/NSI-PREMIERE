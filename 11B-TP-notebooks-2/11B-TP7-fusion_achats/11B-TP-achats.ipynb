{
 "cells": [
  {
   "cell_type": "markdown",
   "metadata": {},
   "source": [
    "# Achats\n",
    "\n",
    "<div class =\"alert alert-danger\"> \n",
    "\n",
    "Pour fonctionner, ce notebook doit être dans le même répertoire (ou dossier) que le dossier `./datas_achats/` qui contient deux fichiers CSV : `./datas_achats/clients.csv` et `./datas_achats/montants.csv`."
   ]
  },
  {
   "cell_type": "markdown",
   "metadata": {},
   "source": [
    "Commencer par exécuter la cellule de code ci-dessous."
   ]
  },
  {
   "cell_type": "code",
   "execution_count": null,
   "metadata": {},
   "outputs": [],
   "source": [
    "import csv\n",
    "import pandas\n",
    "\n",
    "def charger_fichier( nom_fic ):\n",
    "    \"\"\"\n",
    "    Permet de lire un fichier CSV en utilisant la ligne d'entêtes\n",
    "    Retourne une liste de dictionnaires.\n",
    "    \"\"\"\n",
    "    table = []\n",
    "    fichier_csv = open( nom_fic , \"r\", newline =\"\", encoding =\"iso-8859-1\" )\n",
    "    lecteur_fichier = csv.DictReader( fichier_csv , delimiter =\"\\t\")    \n",
    "    for enreg in lecteur_fichier :\n",
    "        table.append (dict ( enreg )) # enreg est de type OrderedDict on le remet endict\n",
    "    fichier_csv.close()    \n",
    "    return table\n",
    "\n",
    "def afficher(table):\n",
    "    f = pandas.DataFrame(table)\n",
    "    return f\n",
    "\n",
    "table_clients = charger_fichier('./datas_achats/clients.csv')\n",
    "table_montants = charger_fichier('./datas_achats/montants.csv')"
   ]
  },
  {
   "cell_type": "markdown",
   "metadata": {},
   "source": [
    "Pour faciliter l'affichage **des tables**, vous pouvez utiliser la fonction `afficher`."
   ]
  },
  {
   "cell_type": "code",
   "execution_count": null,
   "metadata": {},
   "outputs": [],
   "source": [
    "afficher(table_clients)"
   ]
  },
  {
   "cell_type": "code",
   "execution_count": null,
   "metadata": {},
   "outputs": [],
   "source": [
    "afficher(table_montants)"
   ]
  },
  {
   "cell_type": "markdown",
   "metadata": {},
   "source": [
    "Une fois cette cellule de code exécutée :\n",
    "- `table_clients` contient des enregistrements qui indiquent les coordonnées de clients - **identifiés par leur mail** - d'un site de commerce en ligne,\n",
    "- `table_montants` contient des enregistrements qui indiquent les caractéristiques de certaines commandes effectuées sur ce site de commerce en ligne.\n",
    "\n",
    "On sait par ailleurs que **tous les mails figurant dans `table_montants` figurent aussi dans `table_clients`**."
   ]
  },
  {
   "cell_type": "markdown",
   "metadata": {},
   "source": [
    "*Question 1 :* \n",
    "\n",
    "En étudiant le code ci-dessus : \n",
    "    \n",
    "- Quel est l'encodage du fichier CSV utilisé : `utf-8` ou `ascii` ou `iso-8859-1`?\n",
    "\n",
    "- Quel est le séparateur du fichier CSV utilisé : `;` ou `,` ou `\\t`(tabulation) ?    "
   ]
  },
  {
   "cell_type": "raw",
   "metadata": {},
   "source": [
    "L'encodage du fichier CSV utilisé est : ...\n",
    "\n",
    "Le séparateur du fichier CSV utilisé est : ...\n"
   ]
  },
  {
   "cell_type": "markdown",
   "metadata": {},
   "source": [
    "*Question 2 :*  \n",
    "\n",
    "En exécutant deux instructions bien choisies, déterminer combien d'*enregistrements* (c-à-d de lignes) contiennent ces tables."
   ]
  },
  {
   "cell_type": "code",
   "execution_count": null,
   "metadata": {},
   "outputs": [],
   "source": [
    "..."
   ]
  },
  {
   "cell_type": "code",
   "execution_count": null,
   "metadata": {},
   "outputs": [],
   "source": [
    "..."
   ]
  },
  {
   "cell_type": "markdown",
   "metadata": {},
   "source": [
    "*Question 3 :*  \n",
    "\n",
    "Compléter la séquence d'instructions ci-dessous afin de fusionner les deux tables en une troisième table."
   ]
  },
  {
   "cell_type": "code",
   "execution_count": null,
   "metadata": {},
   "outputs": [],
   "source": [
    "import copy\n",
    "\n",
    "table_fusion = []\n",
    "for montant in table_montants:\n",
    "    for client in table_clients:\n",
    "        if ... :\n",
    "            ...\n",
    "            ...\n",
    "            ...\n",
    "            ...\n",
    "            ...\n",
    "            ...\n",
    "\n",
    "afficher(table_fusion)"
   ]
  }
 ],
 "metadata": {
  "kernelspec": {
   "display_name": "Python 3",
   "language": "python",
   "name": "python3"
  },
  "language_info": {
   "codemirror_mode": {
    "name": "ipython",
    "version": 3
   },
   "file_extension": ".py",
   "mimetype": "text/x-python",
   "name": "python",
   "nbconvert_exporter": "python",
   "pygments_lexer": "ipython3",
   "version": "3.8.2"
  }
 },
 "nbformat": 4,
 "nbformat_minor": 4
}
