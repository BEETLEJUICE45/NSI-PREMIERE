{
 "cells": [
  {
   "cell_type": "markdown",
   "metadata": {},
   "source": [
    "# Animaux - traitement_des_datas"
   ]
  },
  {
   "cell_type": "markdown",
   "metadata": {},
   "source": [
    "Commencer par exécuter la cellule de code ci-dessous."
   ]
  },
  {
   "cell_type": "code",
   "execution_count": 18,
   "metadata": {},
   "outputs": [
    {
     "data": {
      "text/html": [
       "<div>\n",
       "<style scoped>\n",
       "    .dataframe tbody tr th:only-of-type {\n",
       "        vertical-align: middle;\n",
       "    }\n",
       "\n",
       "    .dataframe tbody tr th {\n",
       "        vertical-align: top;\n",
       "    }\n",
       "\n",
       "    .dataframe thead th {\n",
       "        text-align: right;\n",
       "    }\n",
       "</style>\n",
       "<table border=\"1\" class=\"dataframe\">\n",
       "  <thead>\n",
       "    <tr style=\"text-align: right;\">\n",
       "      <th></th>\n",
       "      <th>vin</th>\n",
       "      <th>nom</th>\n",
       "      <th>ville</th>\n",
       "      <th>etat</th>\n",
       "    </tr>\n",
       "  </thead>\n",
       "  <tbody>\n",
       "    <tr>\n",
       "      <th>0</th>\n",
       "      <td>SCFAD05D49G015739</td>\n",
       "      <td>Deane Meadowcraft</td>\n",
       "      <td>Cambridge</td>\n",
       "      <td>Massachusetts</td>\n",
       "    </tr>\n",
       "    <tr>\n",
       "      <th>1</th>\n",
       "      <td>WAUGU54D81N014453</td>\n",
       "      <td>Franciskus MacKilroe</td>\n",
       "      <td>Fort Worth</td>\n",
       "      <td>Texas</td>\n",
       "    </tr>\n",
       "    <tr>\n",
       "      <th>2</th>\n",
       "      <td>WVWED7AJ1BW280098</td>\n",
       "      <td>Currie Standen</td>\n",
       "      <td>Pueblo</td>\n",
       "      <td>Colorado</td>\n",
       "    </tr>\n",
       "    <tr>\n",
       "      <th>3</th>\n",
       "      <td>1N6AF0KY0EN732688</td>\n",
       "      <td>Leela Woolley</td>\n",
       "      <td>Detroit</td>\n",
       "      <td>Michigan</td>\n",
       "    </tr>\n",
       "    <tr>\n",
       "      <th>4</th>\n",
       "      <td>3N1CE2CP6FL121469</td>\n",
       "      <td>Dallas Carde</td>\n",
       "      <td>Newark</td>\n",
       "      <td>New Jersey</td>\n",
       "    </tr>\n",
       "    <tr>\n",
       "      <th>...</th>\n",
       "      <td>...</td>\n",
       "      <td>...</td>\n",
       "      <td>...</td>\n",
       "      <td>...</td>\n",
       "    </tr>\n",
       "    <tr>\n",
       "      <th>995</th>\n",
       "      <td>KL4CJDSB4FB719162</td>\n",
       "      <td>Ellen Varvell</td>\n",
       "      <td>Laredo</td>\n",
       "      <td>Texas</td>\n",
       "    </tr>\n",
       "    <tr>\n",
       "      <th>996</th>\n",
       "      <td>19UYA42663A630243</td>\n",
       "      <td>Clair Gauvain</td>\n",
       "      <td>North Little Rock</td>\n",
       "      <td>Arkansas</td>\n",
       "    </tr>\n",
       "    <tr>\n",
       "      <th>997</th>\n",
       "      <td>1FMJK1JT4FE583724</td>\n",
       "      <td>Randall Mowsdill</td>\n",
       "      <td>West Hartford</td>\n",
       "      <td>Connecticut</td>\n",
       "    </tr>\n",
       "    <tr>\n",
       "      <th>998</th>\n",
       "      <td>1G4PT5SVXE4160071</td>\n",
       "      <td>Vilma Lead</td>\n",
       "      <td>Louisville</td>\n",
       "      <td>Kentucky</td>\n",
       "    </tr>\n",
       "    <tr>\n",
       "      <th>999</th>\n",
       "      <td>WAUJT58E44A317589</td>\n",
       "      <td>Chaim Santino</td>\n",
       "      <td>Hampton</td>\n",
       "      <td>Virginia</td>\n",
       "    </tr>\n",
       "  </tbody>\n",
       "</table>\n",
       "<p>1000 rows × 4 columns</p>\n",
       "</div>"
      ],
      "text/plain": [
       "                   vin                   nom              ville           etat\n",
       "0    SCFAD05D49G015739     Deane Meadowcraft          Cambridge  Massachusetts\n",
       "1    WAUGU54D81N014453  Franciskus MacKilroe         Fort Worth          Texas\n",
       "2    WVWED7AJ1BW280098        Currie Standen             Pueblo       Colorado\n",
       "3    1N6AF0KY0EN732688         Leela Woolley            Detroit       Michigan\n",
       "4    3N1CE2CP6FL121469          Dallas Carde             Newark     New Jersey\n",
       "..                 ...                   ...                ...            ...\n",
       "995  KL4CJDSB4FB719162         Ellen Varvell             Laredo          Texas\n",
       "996  19UYA42663A630243         Clair Gauvain  North Little Rock       Arkansas\n",
       "997  1FMJK1JT4FE583724      Randall Mowsdill      West Hartford    Connecticut\n",
       "998  1G4PT5SVXE4160071            Vilma Lead         Louisville       Kentucky\n",
       "999  WAUJT58E44A317589         Chaim Santino            Hampton       Virginia\n",
       "\n",
       "[1000 rows x 4 columns]"
      ]
     },
     "execution_count": 18,
     "metadata": {},
     "output_type": "execute_result"
    }
   ],
   "source": [
    "import csv\n",
    "import pandas\n",
    "\n",
    "def charger_fichier( nom_fic ):\n",
    "    \"\"\"\n",
    "    Permet de lire un fichier CSV en utilisant la ligne d'entêtes\n",
    "    Retourne une liste de dictionnaires.\n",
    "    \"\"\"\n",
    "    table = []\n",
    "    fichier_csv = open( nom_fic , \"r\", newline =\"\", encoding =\"utf-8\" )\n",
    "    lecteur_fichier = csv.DictReader( fichier_csv , delimiter =\",\")    \n",
    "    for enreg in lecteur_fichier :\n",
    "        table.append (dict ( enreg )) # enreg est de type OrderedDict on le remet endict\n",
    "    fichier_csv.close()    \n",
    "    return table\n",
    "\n",
    "def enregistrer_en_csv(chemin_fichier, table):\n",
    "    with open(chemin_fichier, 'w', newline='', encoding = 'UTF-8') as csvfile:\n",
    "        fieldnames = table[0].keys()\n",
    "        writer = csv.DictWriter(csvfile, fieldnames=fieldnames)\n",
    "        writer.writeheader()\n",
    "        for row in table:\n",
    "            writer.writerow(row)\n",
    "\n",
    "def afficher(table):\n",
    "    f = pandas.DataFrame(table)\n",
    "    return f\n",
    "\n",
    "p1 = charger_fichier('./proprietaires1.csv')\n",
    "p2 = charger_fichier('./proprietaires2.csv')\n",
    "v1 = charger_fichier('./voitures1.csv')\n",
    "v2 = charger_fichier('./voitures2.csv')\n",
    "v3 = charger_fichier('./voitures3.csv')\n",
    "\n",
    "afficher(p1)"
   ]
  },
  {
   "cell_type": "code",
   "execution_count": 19,
   "metadata": {},
   "outputs": [
    {
     "data": {
      "text/html": [
       "<div>\n",
       "<style scoped>\n",
       "    .dataframe tbody tr th:only-of-type {\n",
       "        vertical-align: middle;\n",
       "    }\n",
       "\n",
       "    .dataframe tbody tr th {\n",
       "        vertical-align: top;\n",
       "    }\n",
       "\n",
       "    .dataframe thead th {\n",
       "        text-align: right;\n",
       "    }\n",
       "</style>\n",
       "<table border=\"1\" class=\"dataframe\">\n",
       "  <thead>\n",
       "    <tr style=\"text-align: right;\">\n",
       "      <th></th>\n",
       "      <th>vin</th>\n",
       "      <th>marque</th>\n",
       "      <th>modele</th>\n",
       "      <th>annee</th>\n",
       "      <th>couleur</th>\n",
       "    </tr>\n",
       "  </thead>\n",
       "  <tbody>\n",
       "    <tr>\n",
       "      <th>0</th>\n",
       "      <td>WUARL48H27K445065</td>\n",
       "      <td>Ford</td>\n",
       "      <td>Aerostar</td>\n",
       "      <td>1986</td>\n",
       "      <td>Teal</td>\n",
       "    </tr>\n",
       "    <tr>\n",
       "      <th>1</th>\n",
       "      <td>2HNYD2H32DH900167</td>\n",
       "      <td>Mazda</td>\n",
       "      <td>Navajo</td>\n",
       "      <td>1991</td>\n",
       "      <td>Violet</td>\n",
       "    </tr>\n",
       "    <tr>\n",
       "      <th>2</th>\n",
       "      <td>JH4DC54842C828185</td>\n",
       "      <td>Jeep</td>\n",
       "      <td>Liberty</td>\n",
       "      <td>2009</td>\n",
       "      <td>Turquoise</td>\n",
       "    </tr>\n",
       "    <tr>\n",
       "      <th>3</th>\n",
       "      <td>WBAYE8C56ED997058</td>\n",
       "      <td>Mercedes-Benz</td>\n",
       "      <td>CL-Class</td>\n",
       "      <td>1999</td>\n",
       "      <td>Fuscia</td>\n",
       "    </tr>\n",
       "    <tr>\n",
       "      <th>4</th>\n",
       "      <td>1B3BD4FB7BN591271</td>\n",
       "      <td>Volkswagen</td>\n",
       "      <td>Passat</td>\n",
       "      <td>1991</td>\n",
       "      <td>Purple</td>\n",
       "    </tr>\n",
       "    <tr>\n",
       "      <th>...</th>\n",
       "      <td>...</td>\n",
       "      <td>...</td>\n",
       "      <td>...</td>\n",
       "      <td>...</td>\n",
       "      <td>...</td>\n",
       "    </tr>\n",
       "    <tr>\n",
       "      <th>995</th>\n",
       "      <td>WAUDFAFL0AA683592</td>\n",
       "      <td>Mercedes-Benz</td>\n",
       "      <td>400E</td>\n",
       "      <td>1992</td>\n",
       "      <td>Khaki</td>\n",
       "    </tr>\n",
       "    <tr>\n",
       "      <th>996</th>\n",
       "      <td>WAUGL78E47A085070</td>\n",
       "      <td>Lexus</td>\n",
       "      <td>GS</td>\n",
       "      <td>2004</td>\n",
       "      <td>Indigo</td>\n",
       "    </tr>\n",
       "    <tr>\n",
       "      <th>997</th>\n",
       "      <td>1G6DK1E39C0153522</td>\n",
       "      <td>Chrysler</td>\n",
       "      <td>Fifth Ave</td>\n",
       "      <td>1992</td>\n",
       "      <td>Khaki</td>\n",
       "    </tr>\n",
       "    <tr>\n",
       "      <th>998</th>\n",
       "      <td>WBALW3C53EC214455</td>\n",
       "      <td>Ford</td>\n",
       "      <td>Escort</td>\n",
       "      <td>1993</td>\n",
       "      <td>Crimson</td>\n",
       "    </tr>\n",
       "    <tr>\n",
       "      <th>999</th>\n",
       "      <td>2G4GR5EC7B9011764</td>\n",
       "      <td>Lincoln</td>\n",
       "      <td>Continental</td>\n",
       "      <td>1985</td>\n",
       "      <td>Orange</td>\n",
       "    </tr>\n",
       "  </tbody>\n",
       "</table>\n",
       "<p>1000 rows × 5 columns</p>\n",
       "</div>"
      ],
      "text/plain": [
       "                   vin         marque       modele annee    couleur\n",
       "0    WUARL48H27K445065           Ford     Aerostar  1986       Teal\n",
       "1    2HNYD2H32DH900167          Mazda       Navajo  1991     Violet\n",
       "2    JH4DC54842C828185           Jeep      Liberty  2009  Turquoise\n",
       "3    WBAYE8C56ED997058  Mercedes-Benz     CL-Class  1999     Fuscia\n",
       "4    1B3BD4FB7BN591271     Volkswagen       Passat  1991     Purple\n",
       "..                 ...            ...          ...   ...        ...\n",
       "995  WAUDFAFL0AA683592  Mercedes-Benz         400E  1992      Khaki\n",
       "996  WAUGL78E47A085070          Lexus           GS  2004     Indigo\n",
       "997  1G6DK1E39C0153522       Chrysler    Fifth Ave  1992      Khaki\n",
       "998  WBALW3C53EC214455           Ford       Escort  1993    Crimson\n",
       "999  2G4GR5EC7B9011764        Lincoln  Continental  1985     Orange\n",
       "\n",
       "[1000 rows x 5 columns]"
      ]
     },
     "execution_count": 19,
     "metadata": {},
     "output_type": "execute_result"
    }
   ],
   "source": [
    "afficher(v1)"
   ]
  },
  {
   "cell_type": "code",
   "execution_count": 39,
   "metadata": {},
   "outputs": [
    {
     "data": {
      "text/plain": [
       "2000"
      ]
     },
     "execution_count": 39,
     "metadata": {},
     "output_type": "execute_result"
    }
   ],
   "source": [
    "p = p1 + p2\n",
    "s = set([px['nom'] for px in p])\n",
    "len(s)"
   ]
  },
  {
   "cell_type": "code",
   "execution_count": 40,
   "metadata": {},
   "outputs": [],
   "source": [
    "import random\n",
    "import copy\n",
    "\n",
    "v = v1 + v2 + v3\n",
    "pnew = []\n",
    "for vx in v:\n",
    "    proprio = copy.deepcopy(random.choice(p))\n",
    "    proprio['vin'] = vx['vin']\n",
    "    pnew.append(proprio)\n",
    "    \n",
    "random.shuffle(pnew)\n",
    "enregistrer_en_csv('./proprietaires.csv', pnew)\n"
   ]
  },
  {
   "cell_type": "code",
   "execution_count": 41,
   "metadata": {},
   "outputs": [],
   "source": [
    "enregistrer_en_csv('./voitures.csv', v)"
   ]
  },
  {
   "cell_type": "code",
   "execution_count": 42,
   "metadata": {},
   "outputs": [
    {
     "data": {
      "text/plain": [
       "3000"
      ]
     },
     "execution_count": 42,
     "metadata": {},
     "output_type": "execute_result"
    }
   ],
   "source": [
    "vvin = set([vx['vin'] for vx in v])\n",
    "pvin = set([px['vin'] for px in pnew])\n",
    "\n",
    "xxx = vvin.intersection(pvin)\n",
    "len(xxx)"
   ]
  },
  {
   "cell_type": "code",
   "execution_count": 43,
   "metadata": {},
   "outputs": [
    {
     "data": {
      "text/plain": [
       "3000"
      ]
     },
     "execution_count": 43,
     "metadata": {},
     "output_type": "execute_result"
    }
   ],
   "source": [
    "len(vvin)"
   ]
  },
  {
   "cell_type": "code",
   "execution_count": 44,
   "metadata": {},
   "outputs": [
    {
     "data": {
      "text/plain": [
       "3000"
      ]
     },
     "execution_count": 44,
     "metadata": {},
     "output_type": "execute_result"
    }
   ],
   "source": [
    "len(pvin)"
   ]
  },
  {
   "cell_type": "code",
   "execution_count": 47,
   "metadata": {},
   "outputs": [
    {
     "data": {
      "text/plain": [
       "{3: 236, 2: 509, 1: 700, 5: 24, 4: 109, 6: 3}"
      ]
     },
     "execution_count": 47,
     "metadata": {},
     "output_type": "execute_result"
    }
   ],
   "source": [
    "s = dict()\n",
    "for px in pnew:\n",
    "    if px['nom'] in s.keys():\n",
    "        s[px['nom']] += 1\n",
    "    else:\n",
    "        s[px['nom']] = 1\n",
    "\n",
    "ss = dict()\n",
    "for v in s.values():\n",
    "    if v in ss.keys():\n",
    "        ss[v] += 1\n",
    "    else:\n",
    "        ss[v] = 1\n",
    "ss\n",
    "#repartition du nombre de véhicules par propriétaire\n",
    "\n",
    "    "
   ]
  },
  {
   "cell_type": "code",
   "execution_count": 48,
   "metadata": {},
   "outputs": [
    {
     "data": {
      "text/plain": [
       "3000"
      ]
     },
     "execution_count": 48,
     "metadata": {},
     "output_type": "execute_result"
    }
   ],
   "source": [
    "somme = 0\n",
    "for k,v in ss.items():\n",
    "    somme += k*v\n",
    "somme"
   ]
  },
  {
   "cell_type": "code",
   "execution_count": null,
   "metadata": {},
   "outputs": [],
   "source": []
  }
 ],
 "metadata": {
  "kernelspec": {
   "display_name": "Python 3",
   "language": "python",
   "name": "python3"
  },
  "language_info": {
   "codemirror_mode": {
    "name": "ipython",
    "version": 3
   },
   "file_extension": ".py",
   "mimetype": "text/x-python",
   "name": "python",
   "nbconvert_exporter": "python",
   "pygments_lexer": "ipython3",
   "version": "3.8.2"
  }
 },
 "nbformat": 4,
 "nbformat_minor": 4
}
