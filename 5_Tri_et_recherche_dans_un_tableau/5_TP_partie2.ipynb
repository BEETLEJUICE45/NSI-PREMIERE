{
 "cells": [
  {
   "cell_type": "markdown",
   "metadata": {},
   "source": [
    "# TP : partie 2"
   ]
  },
  {
   "cell_type": "markdown",
   "metadata": {},
   "source": [
    "### Activité 1 : chronométrer les tris par insertion et par sélection\n",
    "\n",
    "Le module `time` offre un grand nombre de méthodes pour gérer le temps. La méthode `perf_counter` de ce module permet de chronométrer le temps en secondes. On l'utilise **une première fois** pour avoir l'heure de début, puis **une deuxième fois** pour avoir l'heure de fin. En faisant **la différence** on a chronométré le temps mis entre le début et la fin. Voici un exemple pour chronométrer combien de temps met une boucle de 10000000 de passages à être exécutée."
   ]
  },
  {
   "cell_type": "code",
   "execution_count": null,
   "metadata": {},
   "outputs": [],
   "source": [
    "import time\n",
    "\n",
    "moment_debut = time.perf_counter() # on mesure le temps au début\n",
    "cpt = 0\n",
    "for i in range(10000000):\n",
    "    cpt = cpt + 1\n",
    "moment_fin = time.perf_counter() # on mesure le temps à la fin\n",
    "\n",
    "chrono = moment_fin - moment_debut #on fait la différence : mesure le temps mis entre le début et la fin\n",
    "\n",
    "print('Temps mis pour faire 10 millions de passages dans la boucle (en secondes):')\n",
    "print(chrono)"
   ]
  },
  {
   "cell_type": "markdown",
   "metadata": {},
   "source": [
    "Voici ci-dessous deux fonctions qui implémentent les tris par insertion et par sélection."
   ]
  },
  {
   "cell_type": "code",
   "execution_count": null,
   "metadata": {},
   "outputs": [],
   "source": [
    "def tri_insertion(tableau):\n",
    "    ''' Trie le tableau par insertion '''\n",
    "    index = 0\n",
    "    while index<len(tableau):\n",
    "        valeur_a_inserer = tableau[index]\n",
    "        j = index\n",
    "        while j > 0 and valeur_a_inserer < tableau[j-1] :\n",
    "            tableau[j] = tableau[j-1]\n",
    "            j = j - 1\n",
    "        tableau[j] = valeur_a_inserer\n",
    "        index = index + 1\n",
    "\n",
    "def tri_selection(T):\n",
    "    ''' Trie le tableau par sélection '''\n",
    "    i = 0\n",
    "    while i<len(T):\n",
    "        j_min = i\n",
    "        j = j_min + 1\n",
    "        while j<len(T):\n",
    "            if T[j] < T[j_min]:\n",
    "                j_min = j\n",
    "            j = j + 1\n",
    "        T[i], T[j_min] = T[j_min], T[i]\n",
    "        i = i + 1"
   ]
  },
  {
   "cell_type": "markdown",
   "metadata": {},
   "source": [
    "Et voici pour rappel deux fonctions qui génèrent des tableaux aléatoires ou des tableaux presque triés (voir si besoin le précédent notebook) :"
   ]
  },
  {
   "cell_type": "code",
   "execution_count": null,
   "metadata": {},
   "outputs": [],
   "source": [
    "import random\n",
    "\n",
    "def creer_tableau_presque_trie(N, T):\n",
    "    ''' Crée un tableau presque trié de N entiers et de pseudo-période T '''\n",
    "    t = [i - 2 * (i%T) for i in range(N)]\n",
    "    return t\n",
    "\n",
    "def creer_tableau_nombres_hasard(N, a, b):\n",
    "    ''' Crée un tableau de N nombres entiers aléatoires compris entre a et b'''\n",
    "    t = [random.randint(a, b) for i in range(N)]\n",
    "    return t"
   ]
  },
  {
   "cell_type": "markdown",
   "metadata": {},
   "source": [
    "<div class = \"alert alert-info\">\n",
    "\n",
    "En utilisant les fonctions précédentes :\n",
    "\n",
    "- Créer un tableau T1 de taille N = 5000 de nombres aléatoires compris entre 0 et 50000  \n",
    "- Créer un tableau T2 presque trié de taille N = 5000 de pseudo-période T = 10  \n",
    "- Créer un tableau T3 de taille N = 20000 de nombres aléatoires compris entre 0 et 50000  \n",
    "- Créer un tableau T4 presque trié de taille N = 20000 de pseudo-période T = 10  "
   ]
  },
  {
   "cell_type": "code",
   "execution_count": null,
   "metadata": {},
   "outputs": [],
   "source": [
    "# Votre code ici"
   ]
  },
  {
   "cell_type": "markdown",
   "metadata": {},
   "source": [
    "<div class = \"alert alert-info\">\n",
    "\n",
    "- Chronométrer le temps mis par le tri par sélection sur chacun des quatre tableaux.  \n",
    "*Votre réponse ici ...*   \n",
    "\n",
    "\n",
    "- Est-ce que ce temps d'exécution est en accord avec le coût théorique quadratique dans le pire des cas ? Justifier brièvement.   \n",
    "*Votre réponse ici ...*   \n"
   ]
  },
  {
   "cell_type": "code",
   "execution_count": null,
   "metadata": {},
   "outputs": [],
   "source": [
    "# Votre code ici"
   ]
  },
  {
   "cell_type": "markdown",
   "metadata": {},
   "source": [
    "<div class = \"alert alert-info\">\n",
    "\n",
    "- Re-créer à nouveau les tableaux T1, T2, T3 et T4 (afin qu'ils ne soient plus triés) en re-exécutant la cellule ci-dessus.\n"
   ]
  },
  {
   "cell_type": "markdown",
   "metadata": {},
   "source": [
    "<div class = \"alert alert-info\">\n",
    "\n",
    "- Chronométrer le temps mis par le tri par insertion sur chacun des quatre tableaux.  \n",
    "*Votre réponse ici ...*   \n",
    "\n",
    "\n",
    "- Justifier brièvement la différence observée avec le tri par sélection.  \n",
    "*Votre réponse ici ...*   \n",
    "\n"
   ]
  },
  {
   "cell_type": "code",
   "execution_count": null,
   "metadata": {},
   "outputs": [],
   "source": [
    "# Votre code ici"
   ]
  },
  {
   "cell_type": "markdown",
   "metadata": {},
   "source": [
    "### Activité 2 : chasse aux pokémons\n",
    "\n",
    "Exécutez la cellule ci-dessous :"
   ]
  },
  {
   "cell_type": "code",
   "execution_count": null,
   "metadata": {},
   "outputs": [],
   "source": [
    "def fournir_tableau(fichier_texte):\n",
    "    L = []\n",
    "    with open(fichier_texte, encoding='utf-8') as f:\n",
    "        for line in f:\n",
    "            L.append(line)\n",
    "        for i, mot in enumerate(L[:-1]): #on enlève tous les sauts à la ligne en trop (CRLF)\n",
    "            L[i] = mot[:-1]\n",
    "    return L\n",
    "\n",
    "tab_des_poks = fournir_tableau('./datas_TP/noms_pokemons.txt')"
   ]
  },
  {
   "cell_type": "markdown",
   "metadata": {},
   "source": [
    "Vous disposez désormais dans `tab_des_poks` des noms de plein de pokemons :"
   ]
  },
  {
   "cell_type": "markdown",
   "metadata": {},
   "source": [
    "<div class = \"alert alert-info\">\n",
    "\n",
    "- Quel est le nom du premier pokemon du tableau ?   \n",
    "*Votre réponse ici ...*  \n",
    "\n",
    "\n",
    "- Quel est le nom du dernier pokemon du tableau ?   \n",
    "*Votre réponse ici ...*  \n",
    "\n",
    "\n",
    "- Combien y-a-t-il de noms de pokemons en tout dans le tableau ?   \n",
    "*Votre réponse ici ...*   \n",
    "\n",
    "\n",
    "- Les noms sont-ils triés par ordre alphabétique croissant ?  \n",
    "*Votre réponse ici ...*"
   ]
  },
  {
   "cell_type": "code",
   "execution_count": null,
   "metadata": {},
   "outputs": [],
   "source": []
  },
  {
   "cell_type": "markdown",
   "metadata": {},
   "source": [
    "On souhaite trier le tableau. Heureusement Python sait comparer deux chaînes de caractères et dire laquelle est \"inférieure\" et laquelle est \"supérieure\" en les triant par ordre alphabétique (**pas par longueur !**):"
   ]
  },
  {
   "cell_type": "code",
   "execution_count": null,
   "metadata": {},
   "outputs": [],
   "source": [
    "print('anticonstitutionnellement' > 'zoo')\n",
    "print('artichaut' < 'archi tôt')\n",
    "print('cabaret' > 'bac à raies')\n",
    "\n"
   ]
  },
  {
   "cell_type": "markdown",
   "metadata": {},
   "source": [
    "Par conséquent on peut aisément trier un tableau de chaînes de caractères."
   ]
  },
  {
   "cell_type": "markdown",
   "metadata": {},
   "source": [
    "<div class = \"alert alert-info\">\n",
    "\n",
    "En utilisant la fonction `tri_insertion` de l'activité 1, trier le tableau de pokemons."
   ]
  },
  {
   "cell_type": "code",
   "execution_count": null,
   "metadata": {},
   "outputs": [],
   "source": []
  },
  {
   "cell_type": "markdown",
   "metadata": {},
   "source": [
    "La fonction ci-dessous implémente la recherche dichotomique :"
   ]
  },
  {
   "cell_type": "code",
   "execution_count": null,
   "metadata": {},
   "outputs": [],
   "source": [
    "def dichotomie(tableau, val):\n",
    "    '''\n",
    "    Détermine l'indice de val dans tableau si val y est présent\n",
    "    Sinon retourne -1\n",
    "    '''\n",
    "    gauche = 0\n",
    "    droite = len(tableau)-1\n",
    "    while gauche <= droite:\n",
    "        \n",
    "        if tableau[milieu] == val:\n",
    "            return milieu \n",
    "        elif tableau[milieu] < val: \n",
    "            droite = milieu + 1\n",
    "        else:\n",
    "            gauche = milieu - 1\n",
    "      \n",
    "    return -1"
   ]
  },
  {
   "cell_type": "markdown",
   "metadata": {},
   "source": [
    "<div class = \"alert alert-info\">\n",
    "Malheureusement : \n",
    "- une ligne de code a disparu \n",
    "- le programmeur a fait une petite confusion entre deux autres lignes de code\n",
    "\n",
    "Corriger cela"
   ]
  },
  {
   "cell_type": "markdown",
   "metadata": {},
   "source": [
    "<div class = \"alert alert-info\">\n",
    "Chasser chacun des pokemons suivants dans le tableau trié en donnant leur indice (ou -1 s'ils ne s'y trouvent pas) :\n",
    "- Pikachu  \n",
    "*Votre réponse ici...*  \n",
    "\n",
    "\n",
    "- Miasmax  \n",
    "*Votre réponse ici...*  \n",
    "\n",
    "\n",
    "- Skitty   \n",
    "*Votre réponse ici...*  \n",
    "\n"
   ]
  },
  {
   "cell_type": "code",
   "execution_count": null,
   "metadata": {},
   "outputs": [],
   "source": []
  },
  {
   "cell_type": "markdown",
   "metadata": {},
   "source": [
    "### Activité 3 : amélioration du score au Scrabble\n",
    "\n",
    "Grâce à l'exécution de la cellule de code ci-dessous vous disposez du tableau `tab_mots` des mots autorisés au Scrabble (en MAJUSCULES)."
   ]
  },
  {
   "cell_type": "code",
   "execution_count": null,
   "metadata": {},
   "outputs": [],
   "source": [
    "def fournir_tableau_mots():\n",
    "    L = []\n",
    "    with open('./datas_TP/ods7.txt', encoding='utf-8') as f:\n",
    "        for line in f:\n",
    "            L.append(line)\n",
    "        for i, mot in enumerate(L[:-1]): #on enlève tous les sauts à la ligne en trop (CRLF)\n",
    "            L[i] = mot[:-1]\n",
    "    return L\n",
    "\n",
    "tab_mots = fournir_tableau_mots()"
   ]
  },
  {
   "cell_type": "code",
   "execution_count": null,
   "metadata": {},
   "outputs": [],
   "source": [
    "tab_mots[342474]"
   ]
  },
  {
   "cell_type": "code",
   "execution_count": null,
   "metadata": {},
   "outputs": [],
   "source": [
    "tab_mots[339865]"
   ]
  },
  {
   "cell_type": "code",
   "execution_count": null,
   "metadata": {},
   "outputs": [],
   "source": [
    "tab_mots[78682]"
   ]
  },
  {
   "cell_type": "markdown",
   "metadata": {},
   "source": [
    "Normalement vous êtes maintenant habitués aux tableaux.  \n",
    "Et vous vous souvenez sans doute de l'exercice fait il y a quelques semaines où vous aviez créé une fonction `score_mot` calculant le score d'un mot au scrabble."
   ]
  },
  {
   "cell_type": "markdown",
   "metadata": {},
   "source": [
    "<div class = \"alert alert-info\">\n",
    "- De quel algorithme de parcours de tableau présent dans le cours, l'algorithme implémenté par score_mot est-il proche ?  \n",
    "*Votre réponse ici...*\n",
    "\n",
    "\n",
    "- Modifiez la fonction `score_mot` ci-dessous afin qu'elle retourne :\n",
    "    - 0 point si le mot passé en argument n'est pas présent dans le tableau passé en argument,\n",
    "    - le score du mot au Scrabble si le mot est présent dans le tableau passé en argument.\n",
    "    - On utilisera **obligatoirement**  la fonction `dichotomie` de l'activité 2."
   ]
  },
  {
   "cell_type": "code",
   "execution_count": null,
   "metadata": {},
   "outputs": [],
   "source": [
    "def score_lettre(car):\n",
    "    '''Retourne le nombre de points au Scrabble du caractère car (en minuscule).'''\n",
    "    if car in \"EAINORSTUL\":\n",
    "        score = 1\n",
    "    elif car in \"DMG\":\n",
    "        score = 2\n",
    "    elif car in \"BCP\":\n",
    "        score = 3\n",
    "    elif car in \"FHV\":\n",
    "        score = 4\n",
    "    elif car in \"JQ\":\n",
    "        score = 8\n",
    "    elif car in \"KWXYZ\":\n",
    "        score = 10\n",
    "    return score\n",
    "\n",
    "\n",
    "def score_mot(mot, tableau):\n",
    "    '''\n",
    "    Retourne le score au Scrabble de la chaîne de caractères mot si elle est présente dans tableau\n",
    "    Retourne 0 sinon\n",
    "    '''\n",
    "    #à modifier\n",
    "    score_total = 0\n",
    "    for car in mot:\n",
    "        score_total = score_total + score_lettre(car)\n",
    "    return score_total"
   ]
  },
  {
   "cell_type": "code",
   "execution_count": null,
   "metadata": {},
   "outputs": [],
   "source": [
    "score_mot('ZOO', tab_mots)"
   ]
  },
  {
   "cell_type": "code",
   "execution_count": null,
   "metadata": {},
   "outputs": [],
   "source": [
    "score_mot('ABSURDE', tab_mots)"
   ]
  },
  {
   "cell_type": "code",
   "execution_count": null,
   "metadata": {},
   "outputs": [],
   "source": [
    "score_mot('ZOOABSURDE', tab_mots)"
   ]
  },
  {
   "cell_type": "markdown",
   "metadata": {},
   "source": [
    "<div class = \"alert alert-info\">\n",
    "Quel opérateur python déjà rencontré et utilisé pour les chaînes de caractères peut à votre avis tester la présence d'un élément dans un tableau et remplacer l'utilisation de la fonction `dichotomie` (lorsqu'on n'a pas besoin de l'indice de l'élément cherché) ? \n",
    "*Votre réponse ici...*   \n",
    "\n",
    "\n",
    "Lorsqu'on a pas besoin de l'indice, cet opérateur est-il plus ou moins pratique à utiliser que la fonction `dichotomie` ?   \n",
    "*Votre réponse ici...*"
   ]
  },
  {
   "cell_type": "markdown",
   "metadata": {},
   "source": [
    "<div class = \"alert alert-info\">\n",
    "Tester cet opérateur ci-dessous :"
   ]
  },
  {
   "cell_type": "code",
   "execution_count": null,
   "metadata": {},
   "outputs": [],
   "source": []
  }
 ],
 "metadata": {
  "kernelspec": {
   "display_name": "Python 3",
   "language": "python",
   "name": "python3"
  },
  "language_info": {
   "codemirror_mode": {
    "name": "ipython",
    "version": 3
   },
   "file_extension": ".py",
   "mimetype": "text/x-python",
   "name": "python",
   "nbconvert_exporter": "python",
   "pygments_lexer": "ipython3",
   "version": "3.6.4"
  }
 },
 "nbformat": 4,
 "nbformat_minor": 2
}
