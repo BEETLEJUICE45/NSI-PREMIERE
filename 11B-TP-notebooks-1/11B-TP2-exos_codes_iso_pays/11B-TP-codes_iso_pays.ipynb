{
 "cells": [
  {
   "cell_type": "markdown",
   "metadata": {},
   "source": [
    "# Codes iso\n",
    "\n",
    "<div class =\"alert alert-danger\"> \n",
    "\n",
    "Pour fonctionner, ce notebook doit être dans le même répertoire (ou dossier) que le dossier `./ISO_3166_Countries/` qui contient un fichier CSV : `./ISO_3166_Countries/all.csv`."
   ]
  },
  {
   "cell_type": "markdown",
   "metadata": {},
   "source": [
    "Commencer par exécuter la cellule de code ci-dessous."
   ]
  },
  {
   "cell_type": "code",
   "execution_count": null,
   "metadata": {},
   "outputs": [],
   "source": [
    "import csv\n",
    "import pandas\n",
    "\n",
    "def charger_fichier( nom_fic ):\n",
    "    \"\"\"\n",
    "    Permet de lire un fichier CSV en utilisant la ligne d'entêtes\n",
    "    Retourne une liste de dictionnaires.\n",
    "    \"\"\"\n",
    "    table = []\n",
    "    fichier_csv = open( nom_fic , \"r\", newline =\"\", encoding =\"utf-8\" )\n",
    "    lecteur_fichier = csv.DictReader( fichier_csv , delimiter =\",\")    \n",
    "    for enreg in lecteur_fichier :\n",
    "        table.append (dict ( enreg )) # enreg est de type OrderedDict on le remet endict\n",
    "    fichier_csv.close()    \n",
    "    return table\n",
    "\n",
    "def afficher(table):\n",
    "    f = pandas.DataFrame(table)\n",
    "    return f\n",
    "\n",
    "table_pays = charger_fichier('./ISO_3166_Countries/all_light.csv')"
   ]
  },
  {
   "cell_type": "markdown",
   "metadata": {},
   "source": [
    "Pour faciliter l'affichage **des tables**, vous pouvez utiliser la fonction `afficher`."
   ]
  },
  {
   "cell_type": "code",
   "execution_count": null,
   "metadata": {},
   "outputs": [],
   "source": [
    "afficher(table_pays)"
   ]
  },
  {
   "cell_type": "markdown",
   "metadata": {},
   "source": [
    "Une fois cette cellule de code exécutée, `table_pays` contient une table correspondant à des enregistrements donnant des informations sur différents pays du globe et en particulier sur leurs codes alpha ou iso.  \n",
    "\n",
    "\n",
    "*Remarque :* On parle de pays mais c'est un peu inexact, certains enregistrements correspondent à des entités administratives qui ne sont pas des pays au sens propre. Par exemple Mayotte dispose de son enregistrement alors que c'est désormais un département français (même chose pour d'autres territoires d'outre-mer français)."
   ]
  },
  {
   "cell_type": "markdown",
   "metadata": {},
   "source": [
    "*Question 1 :* \n",
    "\n",
    "\n",
    "En étudiant le code ci-dessus : \n",
    "    \n",
    "- Quel est l'encodage du fichier CSV utilisé : `utf-8` ou `ascii` ou `iso-8859-1`?\n",
    "\n",
    "- Quel est le séparateur du fichier CSV utilisé : `;` ou `,` ou `:` ?    "
   ]
  },
  {
   "cell_type": "raw",
   "metadata": {},
   "source": [
    "L'encodage du fichier CSV utilisé est : ...\n",
    "\n",
    "Le séparateur du fichier CSV utilisé est : ...\n"
   ]
  },
  {
   "cell_type": "markdown",
   "metadata": {},
   "source": [
    "*Question 2 :*  \n",
    "\n",
    "En exécutant une instruction bien choisie, déterminer combien d'*enregistrements* (c-à-d de lignes) contient cette table."
   ]
  },
  {
   "cell_type": "code",
   "execution_count": null,
   "metadata": {},
   "outputs": [],
   "source": [
    "..."
   ]
  },
  {
   "cell_type": "markdown",
   "metadata": {},
   "source": [
    "*Question 3 :*  \n",
    "\n",
    "Exécuter la cellule de code ci-dessous puis donner les six *descripteurs* des enregistrements."
   ]
  },
  {
   "cell_type": "code",
   "execution_count": null,
   "metadata": {},
   "outputs": [],
   "source": [
    "table_pays[0]"
   ]
  },
  {
   "cell_type": "raw",
   "metadata": {},
   "source": [
    "Les six descripteurs sont : ..."
   ]
  },
  {
   "cell_type": "markdown",
   "metadata": {},
   "source": [
    "<hr/>\n",
    "\n",
    "\n",
    "**Remarque :**\n",
    "\n",
    "Pour la suite, rappelez vous que les valeurs de tous les champs sont de type `str` et qu'il faut les convertir en `float` ou en `int` si besoin.  \n",
    "  \n",
    "  \n",
    " <hr/>"
   ]
  },
  {
   "cell_type": "markdown",
   "metadata": {},
   "source": [
    "*Question 4 :*  \n",
    "\n",
    "Compléter l'instruction ci-dessous afin d'obtenir la liste **des codes alpha-2** de tous les pays figurant dans la table."
   ]
  },
  {
   "cell_type": "code",
   "execution_count": null,
   "metadata": {},
   "outputs": [],
   "source": [
    "noms = [...[...] for ... in ... ]\n",
    "noms"
   ]
  },
  {
   "cell_type": "markdown",
   "metadata": {},
   "source": [
    "*Question 5 :*  \n",
    "\n",
    "Compléter l'instruction ci-dessous afin d'obtenir la liste **des noms** de tous les pays américains figurant dans la table (dont le descripteur `'region'` est `'Americas'`)."
   ]
  },
  {
   "cell_type": "code",
   "execution_count": null,
   "metadata": {},
   "outputs": [],
   "source": [
    "codes_a2_am = [...[...] for ... in ... if ...[...] == ...]\n",
    "codes_a2_am"
   ]
  },
  {
   "cell_type": "markdown",
   "metadata": {},
   "source": [
    "*Question 6 :*  \n",
    "\n",
    "Compléter l'instruction ci-dessous afin d'obtenir la liste **des enregistrements** dont le descripteur `'region'` est indéfini (c'est à dire égal à la chaîne de caractères vide)."
   ]
  },
  {
   "cell_type": "code",
   "execution_count": null,
   "metadata": {},
   "outputs": [],
   "source": [
    "no_region = [... for ... in ... if ...[...] == ...]\n",
    "afficher(no_region)"
   ]
  },
  {
   "cell_type": "markdown",
   "metadata": {},
   "source": [
    "*Question 7 :*  \n",
    "\n",
    "Compléter l'instruction ci-dessous afin d'obtenir une liste contenant **le seul enregistrement** dont le code alpha-2 est `'CC'`."
   ]
  },
  {
   "cell_type": "code",
   "execution_count": null,
   "metadata": {},
   "outputs": [],
   "source": [
    "code_cc = [... for ... in ... if ...[...] == ...]\n",
    "afficher(code_cc)"
   ]
  },
  {
   "cell_type": "markdown",
   "metadata": {},
   "source": [
    "*Question 8 :*  \n",
    "\n",
    "Compléter l'instruction ci-dessous afin d'obtenir la liste **des enregistrements** de tous les pays africains (dont le descripteur `'region'` est `'Africa')` figurant dans la table et dont le nom commence par `'S'`.\n",
    "\n",
    "*Remarque :* le premier caractère d'une chaîne de caractère `ch` s'obtient grâce à `ch[0]`."
   ]
  },
  {
   "cell_type": "code",
   "execution_count": null,
   "metadata": {},
   "outputs": [],
   "source": [
    "table_pays_afr_s = [... for ... in ... if ...[...] == ... and ...[...][0] == ...]\n",
    "afficher(table_pays_afr_s)"
   ]
  },
  {
   "cell_type": "markdown",
   "metadata": {},
   "source": [
    "*Question 9 :*  \n",
    "\n",
    "Compléter les instructions ci-dessous afin d'obtenir la table des pays **triés par ordre croissant de code alpha-2**. \n",
    "\n",
    "\n",
    "On prendra garde aux conversions de type, pour ne pas trier par ordre alphabétique au lieu de trier par ordre numérique (voir remarque n°1"
   ]
  },
  {
   "cell_type": "code",
   "execution_count": null,
   "metadata": {},
   "outputs": [],
   "source": [
    "def alpha_2(enregistrement):\n",
    "    return ...[...]\n",
    "\n",
    "\n",
    "table_pays_triee_alpha_2 = sorted(..., key = alpha_2, reverse = ...)\n",
    "afficher(table_pays_triee_alpha_2)"
   ]
  },
  {
   "cell_type": "markdown",
   "metadata": {},
   "source": [
    "*Question 10 :*  \n",
    "\n",
    "Compléter les instructions ci-dessous afin d'obtenir la table des pays **triés par ordre croissant de country-code**. \n",
    "\n",
    "\n",
    "On prendra garde aux conversions de type, pour ne pas trier par ordre alphabétique au lieu de trier par ordre numérique."
   ]
  },
  {
   "cell_type": "code",
   "execution_count": null,
   "metadata": {},
   "outputs": [],
   "source": [
    "def country_code(enregistrement):\n",
    "    return int(...[...])\n",
    "\n",
    "\n",
    "table_pays_triee_country_code = sorted(..., key = country_code, reverse = ...)\n",
    "afficher(table_pays_triee_country_code)"
   ]
  },
  {
   "cell_type": "markdown",
   "metadata": {},
   "source": [
    "*Question 11 :*  \n",
    "\n",
    "Compléter les instructions ci-dessous afin d'obtenir la table des pays **triés par région et - au sein de chaque région - triés par sous-région**. "
   ]
  },
  {
   "cell_type": "code",
   "execution_count": null,
   "metadata": {},
   "outputs": [],
   "source": [
    "def region(enregistrement):\n",
    "    return ...[...]\n",
    "\n",
    "def sous_region(enregistrement):\n",
    "    return ...[...]\n",
    "\n",
    "table_triee_geo = sorted(table_pays, ..., ...)\n",
    "table_triee_geo = sorted(table_triee_geo, ..., ...)\n",
    "afficher(table_triee_geo)"
   ]
  }
 ],
 "metadata": {
  "kernelspec": {
   "display_name": "Python 3",
   "language": "python",
   "name": "python3"
  },
  "language_info": {
   "codemirror_mode": {
    "name": "ipython",
    "version": 3
   },
   "file_extension": ".py",
   "mimetype": "text/x-python",
   "name": "python",
   "nbconvert_exporter": "python",
   "pygments_lexer": "ipython3",
   "version": "3.8.2"
  }
 },
 "nbformat": 4,
 "nbformat_minor": 4
}
