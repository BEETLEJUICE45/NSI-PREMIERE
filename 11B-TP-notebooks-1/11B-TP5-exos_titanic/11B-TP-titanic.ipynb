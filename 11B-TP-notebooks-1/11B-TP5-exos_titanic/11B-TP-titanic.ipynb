{
 "cells": [
  {
   "cell_type": "markdown",
   "metadata": {},
   "source": [
    "# Titanic\n",
    "\n",
    "<div class =\"alert alert-danger\"> \n",
    "\n",
    "Pour fonctionner, ce notebook doit être dans le même répertoire (ou dossier) que le dossier `./passengers/` qui contient le fichier CSV : `./passengers/titanic.csv`."
   ]
  },
  {
   "cell_type": "markdown",
   "metadata": {},
   "source": [
    "Commencer par exécuter la cellule de code ci-dessous."
   ]
  },
  {
   "cell_type": "code",
   "execution_count": null,
   "metadata": {},
   "outputs": [],
   "source": [
    "import csv\n",
    "import pandas\n",
    "\n",
    "def charger_fichier( nom_fic ):\n",
    "    \"\"\"\n",
    "    Permet de lire un fichier CSV en utilisant la ligne d'entêtes\n",
    "    Retourne une liste de dictionnaires.\n",
    "    \"\"\"\n",
    "    table = []\n",
    "    fichier_csv = open( nom_fic , \"r\", newline =\"\", encoding =\"utf-8\" )\n",
    "    lecteur_fichier = csv.DictReader( fichier_csv , delimiter =\",\")    \n",
    "    for enreg in lecteur_fichier :\n",
    "        table.append (dict ( enreg )) # enreg est de type OrderedDict on le remet endict\n",
    "    fichier_csv.close()    \n",
    "    return table\n",
    "\n",
    "def afficher(table):\n",
    "    f = pandas.DataFrame(table)\n",
    "    return f\n",
    "\n",
    "table_passagers = charger_fichier('./passengers/titanic.csv')"
   ]
  },
  {
   "cell_type": "markdown",
   "metadata": {},
   "source": [
    "Pour faciliter l'affichage **des tables**, vous pouvez utiliser la fonction `afficher`."
   ]
  },
  {
   "cell_type": "code",
   "execution_count": null,
   "metadata": {},
   "outputs": [],
   "source": [
    "afficher(table_passagers)"
   ]
  },
  {
   "cell_type": "markdown",
   "metadata": {},
   "source": [
    "Une fois cette cellule de code exécutée, `table_passagers` contient une table correspondant à des enregistrements donnant des informations sur des aéroports."
   ]
  },
  {
   "cell_type": "markdown",
   "metadata": {},
   "source": [
    "*Question 1 :* \n",
    "\n",
    "\n",
    "En étudiant le code ci-dessus : \n",
    "    \n",
    "- Quel est l'encodage du fichier CSV utilisé : `utf-8` ou `ascii` ou `iso-8859-1`?\n",
    "\n",
    "- Quel est le séparateur du fichier CSV utilisé : `;` ou `,` ou `:` ?    "
   ]
  },
  {
   "cell_type": "raw",
   "metadata": {},
   "source": [
    "L'encodage du fichier CSV utilisé est : ...\n",
    "\n",
    "Le séparateur du fichier CSV utilisé est : ...\n"
   ]
  },
  {
   "cell_type": "markdown",
   "metadata": {},
   "source": [
    "*Question 2 :*  \n",
    "\n",
    "En exécutant une instruction bien choisie, déterminer combien d'*enregistrements* (c-à-d de lignes) contient cette table."
   ]
  },
  {
   "cell_type": "code",
   "execution_count": null,
   "metadata": {},
   "outputs": [],
   "source": [
    "..."
   ]
  },
  {
   "cell_type": "markdown",
   "metadata": {},
   "source": [
    "*Question 3 :*  \n",
    "\n",
    "Exécuter la cellule de code ci-dessous puis donner les sept *descripteurs* des enregistrements."
   ]
  },
  {
   "cell_type": "code",
   "execution_count": null,
   "metadata": {},
   "outputs": [],
   "source": [
    "table_passagers[0]"
   ]
  },
  {
   "cell_type": "raw",
   "metadata": {},
   "source": [
    "Les sept descripteurs sont : ..."
   ]
  },
  {
   "cell_type": "markdown",
   "metadata": {},
   "source": [
    "*Précisions sur les descripteurs :* \n",
    "- La `'classe'` d'un passager indique s'il voyageait en première, seconde ou troisième classe. \n",
    "- Lorsque `survivant = '1'`, le passager a survécu et lorsque `survivant = '0'` il a péri.\n",
    "- L'`'embarquement'` désigne le port d'embarquement (`'C'` pour Cherbourg, `'S'` pour Southampton et `'Q'` pour Queenstown)."
   ]
  },
  {
   "cell_type": "markdown",
   "metadata": {},
   "source": [
    "<hr/>\n",
    "\n",
    "\n",
    "**Remarque :**\n",
    "\n",
    "Pour la suite, rappelez vous que les valeurs de tous les champs sont de type `str` et qu'il faut les convertir en `float` ou en `int` si besoin.  \n",
    "  \n",
    "  \n",
    " <hr/>"
   ]
  },
  {
   "cell_type": "markdown",
   "metadata": {},
   "source": [
    "*Question 4-1 :*  \n",
    "\n",
    "Compléter la séquence d'instructions ci-dessous afin d'obtenir le nombre `s` de passagers qui ont survécu et le nombre `p` de passagers qui ont péri."
   ]
  },
  {
   "cell_type": "code",
   "execution_count": null,
   "metadata": {},
   "outputs": [],
   "source": [
    "s, p = ..., ...\n",
    "for passager in table_passagers :\n",
    "    if ...[...] == ... :\n",
    "        s = ... + ...\n",
    "    else :\n",
    "        p = ... + ...\n",
    "        \n",
    "s, p"
   ]
  },
  {
   "cell_type": "markdown",
   "metadata": {},
   "source": [
    "*Question 4-2 :*  \n",
    "\n",
    "Compléter la cellule de code ci-dessous afin d'obtenir le pourcentage de passagers ayant survécu."
   ]
  },
  {
   "cell_type": "code",
   "execution_count": null,
   "metadata": {},
   "outputs": [],
   "source": [
    "..."
   ]
  },
  {
   "cell_type": "markdown",
   "metadata": {},
   "source": [
    "*Question 5 :*  \n",
    "\n",
    "Compléter la séquence d'instructions ci-dessous afin d'obtenir le nombre `s` de passagers **de première classe** qui ont survécu et le nombre `p` de passagers **de première classe** qui ont péri. Puis utiliser la seconde cellule de code pour calculer le pourcentage de passagers **de première classe** ayant survécu."
   ]
  },
  {
   "cell_type": "code",
   "execution_count": null,
   "metadata": {},
   "outputs": [],
   "source": [
    "s, p = ..., ...\n",
    "for passager in table_passagers :\n",
    "    if ...[...] == ... :\n",
    "        if ...[...] == ... :\n",
    "            s = ... + ...\n",
    "        else :\n",
    "            p = ... + ...\n",
    "        \n",
    "s, p"
   ]
  },
  {
   "cell_type": "code",
   "execution_count": null,
   "metadata": {},
   "outputs": [],
   "source": [
    "#calcul du pourcentage\n",
    "..."
   ]
  },
  {
   "cell_type": "markdown",
   "metadata": {},
   "source": [
    "*Question 6 :*  \n",
    "\n",
    "Modifier la séquence d'instructions ci-dessus pour calculer les pourcentages de passagers **de seconde classe** ayant survécu puis le pourcentage de passagers de **troisième classe** ayant survécu. Noter vos résultats ci-dessous :"
   ]
  },
  {
   "cell_type": "raw",
   "metadata": {},
   "source": [
    "Le pourcentage de passagers de première classe ayant survécu est : ...\n",
    "Le pourcentage de passagers de seconde classe ayant survécu est : ...  \n",
    "Le pourcentage de passagers de troisième classe ayant survécu est : ...  "
   ]
  },
  {
   "cell_type": "markdown",
   "metadata": {},
   "source": [
    "*Question 7 :*  \n",
    "\n",
    "Modifier la séquence d'instructions précédente pour obtenir les pourcentages indiqués ci-dessous."
   ]
  },
  {
   "cell_type": "raw",
   "metadata": {},
   "source": [
    "Le pourcentage de passagers mineurs ayant survécu est : ... \n",
    "Le pourcentage de passagers masculins majeurs ayant survécu est : ...\n",
    "Le pourcentage de passagers féminins majeurs ayant survécu est : ...  "
   ]
  },
  {
   "cell_type": "markdown",
   "metadata": {},
   "source": [
    "*Question 8 :*  \n",
    "\n",
    "Compléter la séquence d'instructions ci-dessous afin de calculer l'âge moyen des passagers du Titanic.  \n",
    "\n",
    "*Attention :* ne pas oublier de convertir l'âge en entier ( `int(passager['age'])` ) si nécessaire."
   ]
  },
  {
   "cell_type": "code",
   "execution_count": null,
   "metadata": {},
   "outputs": [],
   "source": [
    "somme = ...\n",
    "for passager in table_passagers :\n",
    "    somme = ... + ...[...]\n",
    "        \n",
    "moyenne = ... / ...\n",
    "moyenne"
   ]
  },
  {
   "cell_type": "markdown",
   "metadata": {},
   "source": [
    "*Question 9 :*  \n",
    "\n",
    "Compléter la séquence d'instructions ci-dessous afin d'obtenir l'âge de la personne la plus âgée du Titanic.  \n",
    "\n",
    "*Attention :* ne pas oublier de convertir l'âge en entier ( `int(passager['age'])` ) si nécessaire."
   ]
  },
  {
   "cell_type": "code",
   "execution_count": null,
   "metadata": {},
   "outputs": [],
   "source": [
    "age_max = int(table_passagers[0][...])\n",
    "for passager in table_passagers :\n",
    "    if int(...[...]) > ... :\n",
    "        age_max = ...\n",
    "        \n",
    "age_max"
   ]
  },
  {
   "cell_type": "markdown",
   "metadata": {},
   "source": [
    "Une seule personne à cet âge maximal. A-t-elle survécu ?"
   ]
  },
  {
   "cell_type": "code",
   "execution_count": null,
   "metadata": {},
   "outputs": [],
   "source": [
    "..."
   ]
  }
 ],
 "metadata": {
  "kernelspec": {
   "display_name": "Python 3",
   "language": "python",
   "name": "python3"
  },
  "language_info": {
   "codemirror_mode": {
    "name": "ipython",
    "version": 3
   },
   "file_extension": ".py",
   "mimetype": "text/x-python",
   "name": "python",
   "nbconvert_exporter": "python",
   "pygments_lexer": "ipython3",
   "version": "3.8.2"
  }
 },
 "nbformat": 4,
 "nbformat_minor": 4
}
