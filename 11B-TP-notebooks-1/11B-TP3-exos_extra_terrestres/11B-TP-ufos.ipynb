{
 "cells": [
  {
   "cell_type": "markdown",
   "metadata": {},
   "source": [
    "# Ufos\n",
    "\n",
    "<div class =\"alert alert-danger\"> \n",
    "\n",
    "Pour fonctionner, ce notebook doit être dans le même répertoire (ou dossier) que le dossier `./ufo-sightings/` qui contient un fichier CSV : `./ufo-sightings/complete.csv`."
   ]
  },
  {
   "cell_type": "markdown",
   "metadata": {},
   "source": [
    "Commencer par exécuter la cellule de code ci-dessous."
   ]
  },
  {
   "cell_type": "code",
   "execution_count": null,
   "metadata": {},
   "outputs": [],
   "source": [
    "import csv\n",
    "import pandas\n",
    "\n",
    "def charger_fichier( nom_fic ):\n",
    "    \"\"\"\n",
    "    Permet de lire un fichier CSV en utilisant la ligne d'entêtes\n",
    "    Retourne une liste de dictionnaires.\n",
    "    \"\"\"\n",
    "    table = []\n",
    "    fichier_csv = open( nom_fic , \"r\", newline =\"\", encoding =\"utf-8\" )\n",
    "    lecteur_fichier = csv.DictReader( fichier_csv , delimiter =\",\")    \n",
    "    for enreg in lecteur_fichier :\n",
    "        table.append (dict ( enreg )) # enreg est de type OrderedDict on le remet endict\n",
    "    fichier_csv.close()    \n",
    "    return table\n",
    "\n",
    "def afficher(table):\n",
    "    f = pandas.DataFrame(table)\n",
    "    return f\n",
    "\n",
    "table_ufos = charger_fichier('./ufo-sightings/complete.csv')"
   ]
  },
  {
   "cell_type": "markdown",
   "metadata": {},
   "source": [
    "Pour faciliter l'affichage **des tables**, vous pouvez utiliser la fonction `afficher`."
   ]
  },
  {
   "cell_type": "code",
   "execution_count": null,
   "metadata": {},
   "outputs": [],
   "source": [
    "afficher(table_ufos)"
   ]
  },
  {
   "cell_type": "markdown",
   "metadata": {},
   "source": [
    "Une fois cette cellule de code exécutée, `table_ufos` contient une table correspondant à des enregistrements donnant des informations sur différentes observations de phénomènes aériens non identifiés.  "
   ]
  },
  {
   "cell_type": "markdown",
   "metadata": {},
   "source": [
    "*Question 1 :* \n",
    "\n",
    "\n",
    "En étudiant le code ci-dessus : \n",
    "    \n",
    "- Quel est l'encodage du fichier CSV utilisé : `utf-8` ou `ascii` ou `iso-8859-1`?\n",
    "\n",
    "- Quel est le séparateur du fichier CSV utilisé : `;` ou `,` ou `:` ?    "
   ]
  },
  {
   "cell_type": "raw",
   "metadata": {},
   "source": [
    "L'encodage du fichier CSV utilisé est : ...\n",
    "\n",
    "Le séparateur du fichier CSV utilisé est : ...\n"
   ]
  },
  {
   "cell_type": "markdown",
   "metadata": {},
   "source": [
    "*Question 2 :*  \n",
    "\n",
    "En exécutant une instruction bien choisie, déterminer combien d'*enregistrements* (c-à-d de lignes) contient cette table."
   ]
  },
  {
   "cell_type": "code",
   "execution_count": null,
   "metadata": {},
   "outputs": [],
   "source": [
    "..."
   ]
  },
  {
   "cell_type": "markdown",
   "metadata": {},
   "source": [
    "*Question 3 :*  \n",
    "\n",
    "Exécuter la cellule de code ci-dessous puis donner les douze *descripteurs* des enregistrements."
   ]
  },
  {
   "cell_type": "code",
   "execution_count": null,
   "metadata": {},
   "outputs": [],
   "source": [
    "table_ufos[0]"
   ]
  },
  {
   "cell_type": "raw",
   "metadata": {},
   "source": [
    "Les douze descripteurs sont : ..."
   ]
  },
  {
   "cell_type": "markdown",
   "metadata": {},
   "source": [
    "<hr/>\n",
    "\n",
    "\n",
    "**Remarque :**\n",
    "\n",
    "Pour la suite, rappelez vous que les valeurs de tous les champs sont de type `str` et qu'il faut les convertir en `float` ou en `int` si besoin.  \n",
    "  \n",
    "  \n",
    " <hr/>"
   ]
  },
  {
   "cell_type": "markdown",
   "metadata": {},
   "source": [
    "*Question 4 :*  \n",
    "\n",
    "Compléter l'instruction ci-dessous afin d'obtenir la liste **des formes** (descripteurs `'shape'`) qui ont été attribuées à des observations."
   ]
  },
  {
   "cell_type": "code",
   "execution_count": null,
   "metadata": {},
   "outputs": [],
   "source": [
    "noms = [...[...] for ... in ... ]\n",
    "noms"
   ]
  },
  {
   "cell_type": "markdown",
   "metadata": {},
   "source": [
    "*Question 5 :*  \n",
    "\n",
    "Compléter l'instruction ci-dessous afin d'obtenir la liste **des durées** de toutes les durées figurant dans la table (descripteur `'duration (hours/min)'`)."
   ]
  },
  {
   "cell_type": "code",
   "execution_count": null,
   "metadata": {},
   "outputs": [],
   "source": [
    "durations = [...[...] for ... in ...]\n",
    "durations"
   ]
  },
  {
   "cell_type": "markdown",
   "metadata": {},
   "source": [
    "*Question 6 :* En observant le résultat de la question précédente, justifier que les données présentes dans le fichier CSV nécessiteraient un [nettoyage de données](https://fr.wikipedia.org/wiki/Nettoyage_de_donn%C3%A9es)."
   ]
  },
  {
   "cell_type": "raw",
   "metadata": {},
   "source": [
    "Il faudrait un nettoyage de données car ..."
   ]
  },
  {
   "cell_type": "markdown",
   "metadata": {},
   "source": [
    "*Question 7 :*  \n",
    "\n",
    "En observant les valeurs associées aux descripteurs `'datetime'` justifier que le format des valeurs utilisé n'est pas le meilleur possible pour une exploitation informatique."
   ]
  },
  {
   "cell_type": "code",
   "execution_count": null,
   "metadata": {},
   "outputs": [],
   "source": [
    "..."
   ]
  },
  {
   "cell_type": "raw",
   "metadata": {},
   "source": [
    "Le format des valeurs utilisé n'est pas le meilleur possible car ..."
   ]
  }
 ],
 "metadata": {
  "kernelspec": {
   "display_name": "Python 3",
   "language": "python",
   "name": "python3"
  },
  "language_info": {
   "codemirror_mode": {
    "name": "ipython",
    "version": 3
   },
   "file_extension": ".py",
   "mimetype": "text/x-python",
   "name": "python",
   "nbconvert_exporter": "python",
   "pygments_lexer": "ipython3",
   "version": "3.8.2"
  }
 },
 "nbformat": 4,
 "nbformat_minor": 4
}
