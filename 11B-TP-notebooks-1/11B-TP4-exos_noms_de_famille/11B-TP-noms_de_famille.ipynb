{
 "cells": [
  {
   "cell_type": "markdown",
   "metadata": {},
   "source": [
    "# Noms de famille\n",
    "\n",
    "<div class =\"alert alert-danger\"> \n",
    "\n",
    "Pour fonctionner, ce notebook doit être dans le même répertoire (ou dossier) que le dossier `./datas_noms_de_famille/` qui contient un fichier CSV : `'./datas_noms_de_famille/noms_de_famille_1891_2000.csv'`."
   ]
  },
  {
   "cell_type": "markdown",
   "metadata": {},
   "source": [
    "*Remarque :* Auparavant on parlait de «patronyme» à la place de «nom de famille». Compte-tenu de son étymologie (*patro* vient de *pater* : le père en latin), ce terme n'est plus utilisé dans la loi depuis 2002 (année à partir de laquelle il a été possible pour un enfant de prendre le nom de sa mère).\n",
    "\n",
    "\n",
    "Commencer par exécuter la cellule de code ci-dessous :"
   ]
  },
  {
   "cell_type": "code",
   "execution_count": null,
   "metadata": {},
   "outputs": [],
   "source": [
    "import csv\n",
    "import pandas\n",
    "\n",
    "def charger_fichier( nom_fic ):\n",
    "    \"\"\"\n",
    "    Permet de lire un fichier CSV en utilisant la ligne d'entêtes\n",
    "    Retourne une liste de dictionnaires.\n",
    "    \"\"\"\n",
    "    table = []\n",
    "    fichier_csv = open( nom_fic , \"r\", newline =\"\", encoding =\"utf-8\" )\n",
    "    lecteur_fichier = csv.DictReader( fichier_csv , delimiter =\",\")    \n",
    "    for enreg in lecteur_fichier :\n",
    "        table.append (dict ( enreg )) # enreg est de type OrderedDict on le remet endict\n",
    "    fichier_csv.close()    \n",
    "    return table\n",
    "\n",
    "def afficher(table):\n",
    "    f = pandas.DataFrame(table)\n",
    "    return f"
   ]
  },
  {
   "cell_type": "code",
   "execution_count": null,
   "metadata": {},
   "outputs": [],
   "source": [
    "table_noms = charger_fichier('./datas_noms_de_famille/noms_de_famille_1891_2000.csv')"
   ]
  },
  {
   "cell_type": "markdown",
   "metadata": {},
   "source": [
    "Pour faciliter l'affichage **des tables**, vous pouvez utiliser la fonction `afficher`."
   ]
  },
  {
   "cell_type": "code",
   "execution_count": null,
   "metadata": {},
   "outputs": [],
   "source": [
    "afficher(table_noms)"
   ]
  },
  {
   "cell_type": "markdown",
   "metadata": {},
   "source": [
    "Une fois cette cellule de code exécutée, `table_noms` contient une table correspondant à des enregistrements donnant le nombre de naissances par décennie des différents noms de famille (**sans accents ni signes diacritiques**) en France entre 1891 et 2000 (sauf pour les noms très rares, regroupés dans le nom `'AUTRES NOMS'`"
   ]
  },
  {
   "cell_type": "markdown",
   "metadata": {},
   "source": [
    "*Question 1 :* \n",
    "\n",
    "\n",
    "En étudiant le code ci-dessus : \n",
    "    \n",
    "- Quel est l'encodage du fichier CSV utilisé : `utf-8` ou `ascii` ou `iso-8859-1`?\n",
    "\n",
    "- Quel est le séparateur du fichier CSV utilisé : `;` ou `,` ou `:` ?    "
   ]
  },
  {
   "cell_type": "raw",
   "metadata": {},
   "source": [
    "L'encodage du fichier CSV utilisé est : ...\n",
    "\n",
    "Le séparateur du fichier CSV utilisé est : ...\n"
   ]
  },
  {
   "cell_type": "markdown",
   "metadata": {},
   "source": [
    "*Question 2 :*  \n",
    "\n",
    "En exécutant une instruction bien choisie, déterminer combien d'*enregistrements* (c-à-d de lignes) contient cette table."
   ]
  },
  {
   "cell_type": "code",
   "execution_count": null,
   "metadata": {},
   "outputs": [],
   "source": [
    "..."
   ]
  },
  {
   "cell_type": "markdown",
   "metadata": {},
   "source": [
    "<hr/>\n",
    "\n",
    "\n",
    "**Remarque :**\n",
    "\n",
    "Pour la suite, rappelez vous que les valeurs de tous les champs sont de type `str` et qu'il faut les convertir en `float` ou en `int` si besoin.  \n",
    "  \n",
    "  \n",
    " <hr/>"
   ]
  },
  {
   "cell_type": "markdown",
   "metadata": {},
   "source": [
    "*Question 3 :*  \n",
    "Compléter la cellule de code ci-dessous afin que la fonction `enregistrement` :\n",
    "- prenne en argument un nom de famille,\n",
    "- renvoie l'enregistrement correspondant à ce nom de famille ou `None` si le nom de famille n'est pas présent."
   ]
  },
  {
   "cell_type": "code",
   "execution_count": null,
   "metadata": {},
   "outputs": [],
   "source": [
    "def enregistrement(nom):\n",
    "    enregistrement_cherche = None\n",
    "    for n in table_noms :\n",
    "        if ...[...] == ...:\n",
    "            enregistrement_cherche = ...\n",
    "            break\n",
    "    return ..."
   ]
  },
  {
   "cell_type": "markdown",
   "metadata": {},
   "source": [
    "Utiliser votre fonction pour obtenir les enregistrements :\n",
    "- de votre nom de famille,\n",
    "- du nom de famille `'LOVELACE'`,\n",
    "- du nom de famille `'VON NEUMANN'`"
   ]
  },
  {
   "cell_type": "code",
   "execution_count": null,
   "metadata": {},
   "outputs": [],
   "source": [
    "enregistrement(...)"
   ]
  },
  {
   "cell_type": "code",
   "execution_count": null,
   "metadata": {},
   "outputs": [],
   "source": [
    "enregistrement(...)"
   ]
  },
  {
   "cell_type": "code",
   "execution_count": null,
   "metadata": {},
   "outputs": [],
   "source": [
    "enregistrement(...)"
   ]
  },
  {
   "cell_type": "markdown",
   "metadata": {},
   "source": [
    "*Question 4 :*   \n",
    "\n",
    "*On rappelle que les dictionnaires sont mutables et que par conséquent un dictionnaire défini à l'extérieur d'une fonction peut être muté à l'intérieur de la fonction*.\n",
    "\n",
    "\n",
    "Compléter la fonction `ajouter_total` ci-dessous qui prend en argument un dictionnaire correspondant à un enregistrement de la table `'table_noms'` et le mute afin de lui rajouter une paire clef:valeur où :\n",
    "- la clef est `'total'`,\n",
    "- la valeur est **la chaîne de caractères** correspondant à la somme des attributions du nom sur la période 1891-2000.  \n",
    "\n",
    "On fera attention aux problèmes de conversions de type."
   ]
  },
  {
   "cell_type": "code",
   "execution_count": null,
   "metadata": {},
   "outputs": [],
   "source": [
    "def ajouter_total(enregistrement):\n",
    "    somme = 0\n",
    "    for key, val in ... :\n",
    "        if ... != 'NOM':\n",
    "            somme = somme + ...\n",
    "    enregistrement[...] = ..."
   ]
  },
  {
   "cell_type": "markdown",
   "metadata": {},
   "source": [
    "**Attention :**  \n",
    "    \n",
    "Si vous exécutez la cellule de code ci-dessous, vous allez muter `v_n` qui est une variable pointant vers un élément de `table_noms`. Vous allez donc muter un élément de `table_noms`.   \n",
    "\n",
    "Or une table est une liste qui est - comme les dictionnaires - mutable : vous allez donc muter `table_noms`.\n",
    "\n",
    "Donc pour l'instant, n'exécutez pas la cellule de code ci-dessous (c'est pourquoi elle est en 'Texte Brut')."
   ]
  },
  {
   "cell_type": "raw",
   "metadata": {},
   "source": [
    "n = enregistrement('LOVELACE')\n",
    "ajouter_total(n)\n",
    "n"
   ]
  },
  {
   "cell_type": "markdown",
   "metadata": {},
   "source": [
    "Vous pouvez en revanche exécuter celle-ci (qui fait une copie de `v_n` afin de rendre `v_n` indépendante de `table_noms`) :"
   ]
  },
  {
   "cell_type": "code",
   "execution_count": null,
   "metadata": {},
   "outputs": [],
   "source": [
    "import copy\n",
    "\n",
    "n = enregistrement('LOVELACE')\n",
    "n = copy.deepcopy(n)\n",
    "ajouter_total(n)\n",
    "n"
   ]
  },
  {
   "cell_type": "markdown",
   "metadata": {},
   "source": [
    "*Question 5 :*  \n",
    "\n",
    "Compléter l'instruction ci-dessous afin de rajouter à chacun des enregistrements de `table_noms` la clef `'total'` et la valeur correspondant au total de toutes les attributions :\n",
    "\n",
    "On fera attention aux problèmes de conversions de type."
   ]
  },
  {
   "cell_type": "code",
   "execution_count": null,
   "metadata": {},
   "outputs": [],
   "source": [
    "for ... in ... :\n",
    "    ...(...)"
   ]
  },
  {
   "cell_type": "markdown",
   "metadata": {},
   "source": [
    "**Attention :** si vous exécutez plusieurs fois cette cellule, vous allez cumuler les totaux ce qui conduira à des résultats erronés.  \n",
    "Dans ce cas, vous devrez recharger la table `table_noms` originelle en haut du notebook."
   ]
  },
  {
   "cell_type": "markdown",
   "metadata": {},
   "source": [
    "*Question 6 :*  \n",
    "Compléter les instructions ci-dessous afin d'obtenir une table `table_triee` correspondant à la table `table_noms` triée par ordre des totaux décroissants : \n",
    "\n",
    "On fera attention aux problèmes de conversions de type."
   ]
  },
  {
   "cell_type": "code",
   "execution_count": null,
   "metadata": {},
   "outputs": [],
   "source": [
    "def total(enregistrement):\n",
    "    return int(...[...])\n",
    "\n",
    "table_triee = sorted(table_noms, ..., ...)\n",
    "afficher(table_triee)"
   ]
  },
  {
   "cell_type": "markdown",
   "metadata": {},
   "source": [
    "*Question 7 :*  \n",
    "\n",
    "Compléter les instructions ci-dessous afin d'obtenir une liste `top_500` des 500 noms les plus attribués en France entre 1890 et 2000. Cette liste sera constituée de 500 couples (des 2-uplets) de la forme `(nom, total)`.  \n",
    "\n",
    "(Ne pas prendre `'AUTRES NOMS'`)."
   ]
  },
  {
   "cell_type": "code",
   "execution_count": null,
   "metadata": {},
   "outputs": [],
   "source": [
    "top_500 = []\n",
    "for i in range(..., ...):\n",
    "    top_500.append((table_triee[...][...], table_triee[...][...]))\n",
    "\n",
    "top_500"
   ]
  },
  {
   "cell_type": "markdown",
   "metadata": {},
   "source": [
    "*Question 8 :*  \n",
    "\n",
    "Compléter la fonction `dans_top_500` qui prend un nom en paramètre et renvoie `True` ou `False` selon que le nom passé en argument est présent ou pas dans le top 500."
   ]
  },
  {
   "cell_type": "code",
   "execution_count": null,
   "metadata": {},
   "outputs": [],
   "source": [
    "def dans_top_500(nom):\n",
    "    global top_500\n",
    "    for couple in top_500 :\n",
    "        if ...[...] == ... :\n",
    "            return ...\n",
    "    return ..."
   ]
  },
  {
   "cell_type": "markdown",
   "metadata": {},
   "source": [
    "Vérifier si votre nom est dans le top 500 :"
   ]
  },
  {
   "cell_type": "code",
   "execution_count": null,
   "metadata": {},
   "outputs": [],
   "source": [
    "..."
   ]
  }
 ],
 "metadata": {
  "kernelspec": {
   "display_name": "Python 3",
   "language": "python",
   "name": "python3"
  },
  "language_info": {
   "codemirror_mode": {
    "name": "ipython",
    "version": 3
   },
   "file_extension": ".py",
   "mimetype": "text/x-python",
   "name": "python",
   "nbconvert_exporter": "python",
   "pygments_lexer": "ipython3",
   "version": "3.8.2"
  }
 },
 "nbformat": 4,
 "nbformat_minor": 4
}
