{
 "cells": [
  {
   "cell_type": "markdown",
   "metadata": {},
   "source": [
    "# Aéroports du monde\n",
    "\n",
    "<div class =\"alert alert-danger\"> \n",
    "\n",
    "Pour fonctionner, ce notebook doit être dans le même répertoire (ou dossier) que le dossier `./airports/` qui contient deux fichiers CSV : `./airports/airports.csv` et `./airports/countries.csv`"
   ]
  },
  {
   "cell_type": "markdown",
   "metadata": {},
   "source": [
    "Commencer par exécuter la cellule de code ci-dessous."
   ]
  },
  {
   "cell_type": "code",
   "execution_count": null,
   "metadata": {},
   "outputs": [],
   "source": [
    "import csv\n",
    "import pandas\n",
    "\n",
    "def charger_fichier( nom_fic ):\n",
    "    \"\"\"\n",
    "    Permet de lire un fichier CSV en utilisant la ligne d'entêtes\n",
    "    Retourne une liste de dictionnaires.\n",
    "    \"\"\"\n",
    "    table = []\n",
    "    fichier_csv = open( nom_fic , \"r\", newline =\"\", encoding =\"utf-8\" )\n",
    "    lecteur_fichier = csv.DictReader( fichier_csv , delimiter =\",\")    \n",
    "    for enreg in lecteur_fichier :\n",
    "        table.append (dict ( enreg )) # enreg est de type OrderedDict on le remet endict\n",
    "    fichier_csv.close()    \n",
    "    return table\n",
    "\n",
    "def afficher(table):\n",
    "    f = pandas.DataFrame(table)\n",
    "    return f\n",
    "\n",
    "table_aeroports = charger_fichier('./airports/airports.csv')"
   ]
  },
  {
   "cell_type": "markdown",
   "metadata": {},
   "source": [
    "Pour faciliter l'affichage **des tables**, vous pouvez utiliser la fonction `afficher`."
   ]
  },
  {
   "cell_type": "code",
   "execution_count": null,
   "metadata": {},
   "outputs": [],
   "source": [
    "afficher(table_aeroports)"
   ]
  },
  {
   "cell_type": "markdown",
   "metadata": {},
   "source": [
    "Une fois cette cellule de code exécutée, `table_aeroports` contient une table correspondant à des enregistrements donnant des informations sur des aéroports."
   ]
  },
  {
   "cell_type": "markdown",
   "metadata": {},
   "source": [
    "*Question 1 :* \n",
    "\n",
    "\n",
    "En étudiant le code ci-dessus : \n",
    "    \n",
    "- Quel est l'encodage du fichier CSV utilisé : `utf-8` ou `ascii` ou `iso-8859-1`?\n",
    "\n",
    "- Quel est le séparateur du fichier CSV utilisé : `;` ou `,` ou `:` ?    "
   ]
  },
  {
   "cell_type": "raw",
   "metadata": {},
   "source": [
    "L'encodage du fichier CSV utilisé est : ...\n",
    "\n",
    "Le séparateur du fichier CSV utilisé est : ...\n"
   ]
  },
  {
   "cell_type": "markdown",
   "metadata": {},
   "source": [
    "*Question 2 :*  \n",
    "\n",
    "En exécutant une instruction bien choisie, déterminer combien d'*enregistrements* (c-à-d de lignes) contient cette table."
   ]
  },
  {
   "cell_type": "code",
   "execution_count": null,
   "metadata": {},
   "outputs": [],
   "source": [
    "..."
   ]
  },
  {
   "cell_type": "markdown",
   "metadata": {},
   "source": [
    "*Question 3 :*  \n",
    "\n",
    "Exécuter la cellule de code ci-dessous puis donner les neuf *descripteurs* des enregistrements."
   ]
  },
  {
   "cell_type": "code",
   "execution_count": null,
   "metadata": {},
   "outputs": [],
   "source": [
    "table_aeroports[0]"
   ]
  },
  {
   "cell_type": "raw",
   "metadata": {},
   "source": [
    "Les neuf descripteurs sont : ..."
   ]
  },
  {
   "cell_type": "markdown",
   "metadata": {},
   "source": [
    "<hr/>\n",
    "\n",
    "\n",
    "**Remarque :**\n",
    "\n",
    "Pour la suite, rappelez vous que les valeurs de tous les champs sont de type `str` et qu'il faut les convertir en `float` ou en `int` si besoin.  \n",
    "  \n",
    "  \n",
    " <hr/>"
   ]
  },
  {
   "cell_type": "markdown",
   "metadata": {},
   "source": [
    "*Question 4 :*  \n",
    "\n",
    "Compléter l'instruction ci-dessous afin d'obtenir la liste **des noms** de tous les aéroports figurant dans la table."
   ]
  },
  {
   "cell_type": "code",
   "execution_count": null,
   "metadata": {},
   "outputs": [],
   "source": [
    "noms = [...[...] for ... in ... ]\n",
    "noms"
   ]
  },
  {
   "cell_type": "markdown",
   "metadata": {},
   "source": [
    "*Question 5 :*  \n",
    "\n",
    "Compléter l'instruction ci-dessous afin d'obtenir la liste **des noms** de tous les aéroports **français** figurant dans la table (dont le descripteur `'Country_Code'` est `'FR'`)."
   ]
  },
  {
   "cell_type": "code",
   "execution_count": null,
   "metadata": {},
   "outputs": [],
   "source": [
    "noms_fr = [...[...] for ... in ... if ...[...] == ...]\n",
    "noms_fr"
   ]
  },
  {
   "cell_type": "markdown",
   "metadata": {},
   "source": [
    "*Question 6 :*  \n",
    "\n",
    "Compléter l'instruction ci-dessous afin d'obtenir la liste **des enregistrements** de tous les aéroports figurant dans la table dont l'altitude est supérieure à 3281 pieds (1000 mètres).  \n",
    "\n",
    "On prendra garde aux conversions de type, pour bien comparer des entiers et pas des chaînes de caractères."
   ]
  },
  {
   "cell_type": "code",
   "execution_count": null,
   "metadata": {},
   "outputs": [],
   "source": [
    "table_aeroports_alt = [... for ... in ... if int(...[...]) >= ...]\n",
    "afficher(table_aeroports_alt)"
   ]
  },
  {
   "cell_type": "markdown",
   "metadata": {},
   "source": [
    "*Question 7 :*  \n",
    "\n",
    "Compléter l'instruction ci-dessous afin d'obtenir la liste **des enregistrements** de tous les aéroports **chinois** (dont le descripteur `'Country_Code'` est `'CN')` figurant dans la table et dont le type est `'large_airport'`."
   ]
  },
  {
   "cell_type": "code",
   "execution_count": null,
   "metadata": {},
   "outputs": [],
   "source": [
    "table_aeroports_cn_xl = [... for ... in ... if ...[...] == ... and ...[...] == ...]\n",
    "afficher(table_aeroports_cn_xl)"
   ]
  },
  {
   "cell_type": "markdown",
   "metadata": {},
   "source": [
    "*Question 8 :*  \n",
    "\n",
    "Compléter les instructions ci-dessous afin d'obtenir la table des aéroports **triée par ordre décroissant d'altitude**. \n",
    "\n",
    "\n",
    "On prendra garde aux conversions de type, pour ne pas trier par ordre alphabétique au lieu de trier par ordre numérique (voir remarque n°1"
   ]
  },
  {
   "cell_type": "code",
   "execution_count": null,
   "metadata": {},
   "outputs": [],
   "source": [
    "def altitude(enregistrement):\n",
    "    return int(...[...])\n",
    "\n",
    "\n",
    "table_aeroports_triee = sorted(..., key = altitude, reverse = ...)\n",
    "afficher(table_aeroports_triee)"
   ]
  },
  {
   "cell_type": "markdown",
   "metadata": {},
   "source": [
    "*Question 9 :*  \n",
    "\n",
    "Compléter l'instruction ci-dessous afin d'obtenir la liste **des noms** des 20 aéroports les plus hauts du monde."
   ]
  },
  {
   "cell_type": "code",
   "execution_count": null,
   "metadata": {},
   "outputs": [],
   "source": [
    "vingt_plus_hauts = [ ...[...]['Name'] for ... in range(...)]\n",
    "vingt_plus_hauts"
   ]
  }
 ],
 "metadata": {
  "kernelspec": {
   "display_name": "Python 3",
   "language": "python",
   "name": "python3"
  },
  "language_info": {
   "codemirror_mode": {
    "name": "ipython",
    "version": 3
   },
   "file_extension": ".py",
   "mimetype": "text/x-python",
   "name": "python",
   "nbconvert_exporter": "python",
   "pygments_lexer": "ipython3",
   "version": "3.8.2"
  }
 },
 "nbformat": 4,
 "nbformat_minor": 4
}
