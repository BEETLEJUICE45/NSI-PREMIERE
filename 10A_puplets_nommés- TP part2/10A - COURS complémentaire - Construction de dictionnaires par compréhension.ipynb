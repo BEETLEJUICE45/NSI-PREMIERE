{
 "cells": [
  {
   "cell_type": "markdown",
   "metadata": {},
   "source": [
    "# Construction de dictionnaires par compréhension"
   ]
  },
  {
   "cell_type": "code",
   "execution_count": null,
   "metadata": {},
   "outputs": [],
   "source": [
    "from metakernel import register_ipython_magics\n",
    "register_ipython_magics()"
   ]
  },
  {
   "cell_type": "markdown",
   "metadata": {},
   "source": [
    "## Exemple 1 : dictionnaire construit à partir d'indices entiers\n",
    "\n",
    "On souhaite contruire un dictionnaire donnant les carrés des premiers entiers : `{0:0, 1:1, 2:4, 3:9, 4:16, 5:25 ...}`\n",
    "\n",
    "On peut le construire à partir en utilisant une boucle `for` :"
   ]
  },
  {
   "cell_type": "code",
   "execution_count": null,
   "metadata": {},
   "outputs": [],
   "source": [
    "%%tutor\n",
    "\n",
    "carres = {}\n",
    "for i in range(21):\n",
    "    carres[i] = i*i\n",
    "\n",
    "print(carres)"
   ]
  },
  {
   "cell_type": "markdown",
   "metadata": {},
   "source": [
    "On peut aussi le construire par *compréhension* en une seule ligne de code :"
   ]
  },
  {
   "cell_type": "code",
   "execution_count": null,
   "metadata": {},
   "outputs": [],
   "source": [
    "%%tutor\n",
    "\n",
    "carres = {i : i*i for i in range(21)}\n",
    "print(carres)"
   ]
  },
  {
   "cell_type": "markdown",
   "metadata": {},
   "source": [
    "L'instruction est ici à lire comme \"dictionnaire des paires clef:valeur de la forme `i:i*i` pour i entre 0 et 20\""
   ]
  },
  {
   "cell_type": "markdown",
   "metadata": {},
   "source": [
    "## Exemple 2 : dictionnaire des paires élément:indice d'une liste"
   ]
  },
  {
   "cell_type": "markdown",
   "metadata": {},
   "source": [
    "On considère une liste de prénoms donnant le classement d'élèves à une course à pied (edin est le premier arrivé, maureen la seconde etc.) :"
   ]
  },
  {
   "cell_type": "code",
   "execution_count": null,
   "metadata": {},
   "outputs": [],
   "source": [
    "arrivees = ['edin', 'maureen', 'tiphaine', 'afsa', 'lyam', 'wendel', 'gaye', 'violaine', 'alphonse', 'haydar']"
   ]
  },
  {
   "cell_type": "markdown",
   "metadata": {},
   "source": [
    "On souhaite obtenir un dictionnaire dont les clefs sont les prénoms des élèves et dont les valeurs associées sont les classements des élèves. On peut le faire avec une boucle `for` :"
   ]
  },
  {
   "cell_type": "code",
   "execution_count": null,
   "metadata": {},
   "outputs": [],
   "source": [
    "%%tutor\n",
    "arrivees = ['edin', 'maureen', 'tiphaine', 'afsa', 'lyam', 'wendel', 'gaye', 'violaine', 'alphonse', 'haydar']\n",
    "\n",
    "classement = {}\n",
    "\n",
    "for indice in range(len(arrivees)):\n",
    "    classement[arrivees[indice]] = indice + 1\n",
    "    \n",
    "classement"
   ]
  },
  {
   "cell_type": "code",
   "execution_count": null,
   "metadata": {},
   "outputs": [],
   "source": [
    "classement[\"tiphaine\"]"
   ]
  },
  {
   "cell_type": "markdown",
   "metadata": {},
   "source": [
    "On peut aussi faire en une seule ligne avec une définition par **compréhension** :"
   ]
  },
  {
   "cell_type": "code",
   "execution_count": null,
   "metadata": {},
   "outputs": [],
   "source": [
    "%%tutor\n",
    "arrivees = ['edin', 'maureen', 'tiphaine', 'afsa', 'lyam', 'wendel', 'gaye', 'violaine', 'alphonse', 'haydar']\n",
    "\n",
    "classement = {arrivees[indice]:(indice + 1) for indice in range(len(arrivees))}\n",
    "\n",
    "classement"
   ]
  },
  {
   "cell_type": "code",
   "execution_count": null,
   "metadata": {},
   "outputs": [],
   "source": [
    "classement[\"tiphaine\"]"
   ]
  },
  {
   "cell_type": "markdown",
   "metadata": {},
   "source": [
    "## Exemple 3 : sous-dictionnaire extrait d'un dictionnaire"
   ]
  },
  {
   "cell_type": "markdown",
   "metadata": {},
   "source": [
    "On dispose du dictionnaire suivant qui donne les moyennes générales de certains élèves :"
   ]
  },
  {
   "cell_type": "code",
   "execution_count": null,
   "metadata": {},
   "outputs": [],
   "source": [
    "dic_eleves = {'edin' : 17.5, 'maureen' : 14.3, 'tiphaine' : 12.7, 'afsa' : 11.2, 'lyam' : 14.9, 'wendel' : 14.8, 'gaye' : 17.7,   'violaine' : 10.2, 'alphonse' : 13.8, 'haydar' : 15.6}\n",
    "dic_eleves"
   ]
  },
  {
   "cell_type": "markdown",
   "metadata": {},
   "source": [
    "On peut en extraire le sous-dictionnaire des paires clef:valeur correspondant à des élèves ayant eu plus de 15 de moyenne :"
   ]
  },
  {
   "cell_type": "code",
   "execution_count": null,
   "metadata": {},
   "outputs": [],
   "source": [
    "%%tutor\n",
    "dic_eleves = {'edin' : 17.5, 'maureen' : 14.3, 'tiphaine' : 12.7, 'afsa' : 11.2, 'lyam' : 14.9, 'wendel' : 14.8, 'gaye' : 17.7,   'violaine' : 10.2, 'alphonse' : 13.8, 'haydar' : 15.6}\n",
    "\n",
    "\n",
    "sup_15 = {}\n",
    "for eleve, moyenne in dic_eleves.items():\n",
    "    if moyenne >= 15:\n",
    "        sup_15[eleve] = moyenne\n",
    "        \n",
    "sup_15"
   ]
  },
  {
   "cell_type": "markdown",
   "metadata": {},
   "source": [
    "On peut aussi le construire par *compréhension* en une seule ligne de code :"
   ]
  },
  {
   "cell_type": "code",
   "execution_count": null,
   "metadata": {},
   "outputs": [],
   "source": [
    "%%tutor\n",
    "dic_eleves = {'edin' : 17.5, 'maureen' : 14.3, 'tiphaine' : 12.7, 'afsa' : 11.2, 'lyam' : 14.9, 'wendel' : 14.8, 'gaye' : 17.7,   'violaine' : 10.2, 'alphonse' : 13.8, 'haydar' : 15.6}\n",
    "\n",
    "sup_15 = {eleve:moyenne for eleve, moyenne in dic_eleves.items() if moyenne >= 15}\n",
    "\n",
    "sup_15"
   ]
  },
  {
   "cell_type": "markdown",
   "metadata": {},
   "source": [
    "## Exemple 4 : construction d'un dictionnaire à partir de deux listes"
   ]
  },
  {
   "cell_type": "markdown",
   "metadata": {},
   "source": [
    "On dispose d'une liste de prénoms et d'une liste des ordres de passage à un examen :"
   ]
  },
  {
   "cell_type": "code",
   "execution_count": null,
   "metadata": {},
   "outputs": [],
   "source": [
    "prenoms = ['edin', 'maureen', 'tiphaine', 'afsa', 'lyam', 'wendel', 'gaye', 'violaine', 'alphonse', 'haydar']\n",
    "ordres_passage = [8, 9, 4, 6, 1, 10, 7, 2, 5, 3]"
   ]
  },
  {
   "cell_type": "markdown",
   "metadata": {},
   "source": [
    "On souhaite associer dans un dictionnaire chaque prénom à son ordre de passage.  \n",
    "\n",
    "\n",
    "Cela peut se faire avec une boucle `for` :"
   ]
  },
  {
   "cell_type": "code",
   "execution_count": null,
   "metadata": {},
   "outputs": [],
   "source": [
    "%%tutor\n",
    "prenoms = ['edin', 'maureen', 'tiphaine', 'afsa', 'lyam', 'wendel', 'gaye', 'violaine', 'alphonse', 'haydar']\n",
    "ordres_passage = [8, 9, 4, 6, 1, 10, 7, 2, 5, 3]\n",
    "\n",
    "passage = {}\n",
    "\n",
    "for i in range(len(prenoms)):\n",
    "    passage[prenoms[i]] = ordres_passage[i]\n",
    "\n",
    "passage"
   ]
  },
  {
   "cell_type": "code",
   "execution_count": null,
   "metadata": {},
   "outputs": [],
   "source": [
    "passage['lyam']"
   ]
  },
  {
   "cell_type": "markdown",
   "metadata": {},
   "source": [
    "On peut aussi faire cela en utilisant un dictionnaire défini par *compréhension* :"
   ]
  },
  {
   "cell_type": "code",
   "execution_count": null,
   "metadata": {},
   "outputs": [],
   "source": [
    "%%tutor\n",
    "prenoms = ['edin', 'maureen', 'tiphaine', 'afsa', 'lyam', 'wendel', 'gaye', 'violaine', 'alphonse', 'haydar']\n",
    "ordres_passage = [8, 9, 4, 6, 1, 10, 7, 2, 5, 3]\n",
    "\n",
    "dico_passages = { prenoms[i]:ordres_passage[i] for i in range(len(prenoms)) }\n",
    "\n",
    "dico_passages"
   ]
  },
  {
   "cell_type": "code",
   "execution_count": null,
   "metadata": {},
   "outputs": [],
   "source": [
    "passage['lyam']"
   ]
  }
 ],
 "metadata": {
  "kernelspec": {
   "display_name": "Python 3",
   "language": "python",
   "name": "python3"
  },
  "language_info": {
   "codemirror_mode": {
    "name": "ipython",
    "version": 3
   },
   "file_extension": ".py",
   "mimetype": "text/x-python",
   "name": "python",
   "nbconvert_exporter": "python",
   "pygments_lexer": "ipython3",
   "version": "3.7.2"
  }
 },
 "nbformat": 4,
 "nbformat_minor": 4
}
