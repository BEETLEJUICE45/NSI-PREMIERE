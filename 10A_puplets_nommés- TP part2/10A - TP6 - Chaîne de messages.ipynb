{
 "cells": [
  {
   "cell_type": "markdown",
   "metadata": {},
   "source": [
    "# 10A - TP6 - Chaîne de messages"
   ]
  },
  {
   "cell_type": "markdown",
   "metadata": {},
   "source": [
    "On considère 6 personnes A, B, C, D, E, F qui peuvent s'envoyer des messages avec deux règles à respecter : \n",
    "- chaque personne ne peut envoyer des messages qu'à la même personne (éventuellement elle-même),\n",
    "- chaque personne ne peut recevoir des messages qu'en provenance d'une seule personne (éventuellement elle-même).\n",
    "\n",
    "\n",
    "Voici un exemple de plan d'envoi des messages :\n",
    "- A envoie ses messages à E\n",
    "- E envoie ses messages à B\n",
    "- B envoie ses messages à F\n",
    "- F envoie ses messages à A\n",
    "- C envoie ses messages à D\n",
    "- D envoie ses messages à C\n",
    "\n",
    "Et le dictionnaire correspondant :"
   ]
  },
  {
   "cell_type": "code",
   "execution_count": 4,
   "metadata": {},
   "outputs": [],
   "source": [
    "plan = {'A':'E', 'F':'A', 'C':'D', 'E':'B', 'B':'F', 'D':'C'}"
   ]
  },
  {
   "cell_type": "markdown",
   "metadata": {},
   "source": [
    "Sur le plan d'envoi ci-dessus il y a deux boucles distinctes :\n",
    "- une avec A, E, B et F,\n",
    "- une autre avec C et D.\n",
    "\n",
    "\n",
    "On dit qu'un plan d'envoi de messages est *monoboucle* s'il y a une unique boucle de longueur 6, c'est à dire si chaque personne peut faire transférer un message vers n'importe quelle autre personne. Sur l'exemple ci-dessus, le plan n'est pas *monoboucle* et par conséquent A ne peut pas transférer de messages à tout le monde :\n",
    "- dans la première boucle, A peut transférer des messages à E, à B (en passant par E) et à F (en passant par B puis E)\n",
    "- mais A ne peut PAS transférer de messages à ceux de la seconde boucle : ni à C, ni à  D (et donc la chaîne n'est pas complète)."
   ]
  },
  {
   "cell_type": "markdown",
   "metadata": {},
   "source": [
    "*Question 1 :*  Compléter la fonction `est_monoboucle` qui prend en paramètre un dictionnaire `plan` **de longueur 6** correspondant à un plan d'envoi de messages entre des personnes A, B, C, D, E, F et renvoie un booléen indiquant si le plan est complet ou pas."
   ]
  },
  {
   "cell_type": "code",
   "execution_count": 6,
   "metadata": {},
   "outputs": [],
   "source": [
    "def est_monoboucle(plan):\n",
    "    suivant = 'A'                #suivant = 'A' est le premier de la chaîne\n",
    "    \n",
    "    ...\n",
    "    ... \n",
    "    ...\n",
    "    ...\n",
    "    ...\n",
    "    ...\n",
    "    ...\n",
    "    ...\n",
    "    ...\n",
    "    ...\n",
    "    \n",
    "    return True        "
   ]
  },
  {
   "cell_type": "markdown",
   "metadata": {},
   "source": [
    "*Question 2 :* Tester votre fonction avec le jeu de tests ci-dessous."
   ]
  },
  {
   "cell_type": "code",
   "execution_count": 7,
   "metadata": {},
   "outputs": [],
   "source": [
    "plan = {'A':'E', 'F':'A', 'C':'D', 'E':'B', 'B':'F', 'D':'C'}\n",
    "assert not est_monoboucle(plan)\n",
    "\n",
    "plan = {'A':'E', 'F':'C', 'C':'D', 'E':'B', 'B':'F', 'D':'A'}\n",
    "assert est_monoboucle(plan)\n",
    "\n",
    "plan = {'A':'B', 'F':'C', 'C':'D', 'E':'A', 'B':'F', 'D':'E'}\n",
    "assert est_monoboucle(plan)\n",
    "\n",
    "plan = {'A':'B', 'F':'A', 'C':'D', 'E':'C', 'B':'F', 'D':'E'}\n",
    "assert not est_monoboucle(plan)"
   ]
  },
  {
   "cell_type": "markdown",
   "metadata": {},
   "source": [
    "*Question 3 :*  Modifier la fonction `est_monoboucle` (avec des boucles !) pour qu'elle puisse prendre en argument un dictionnaire correspondant à un plan d'envoi entre un nombre quelconque de personnes A, B, C, D, ..."
   ]
  },
  {
   "cell_type": "code",
   "execution_count": 8,
   "metadata": {},
   "outputs": [],
   "source": [
    "from random import choice\n",
    "\n",
    "def est_monoboucle(plan):\n",
    "    suivant = 'A'\n",
    "    ...\n",
    "    ...\n",
    "    ...\n",
    "    ...\n",
    "    ...\n"
   ]
  },
  {
   "cell_type": "markdown",
   "metadata": {},
   "source": [
    "*Question 4 :* Tester votre fonction avec le jeu de tests ci-dessous."
   ]
  },
  {
   "cell_type": "code",
   "execution_count": 9,
   "metadata": {},
   "outputs": [],
   "source": [
    "plan = {'A':'E', 'F':'A', 'C':'D', 'E':'B', 'B':'F', 'D':'G', 'G':'C'}\n",
    "assert not est_monoboucle(plan)\n",
    "\n",
    "plan = {'A':'E', 'E':'C', 'C':'A'}\n",
    "assert est_monoboucle(plan)\n",
    "\n",
    "plan = {'A':'B', 'F':'C', 'C':'D', 'E':'G', 'I':'A', 'B':'F', 'D':'E', 'H':'I', 'G':'H'}\n",
    "assert est_monoboucle(plan)\n",
    "\n",
    "plan = {'A':'B', 'B':'A', 'C':'D', 'D':'C', 'E':'F', 'F':'E'}\n",
    "assert not est_monoboucle(plan)"
   ]
  }
 ],
 "metadata": {
  "kernelspec": {
   "display_name": "Python 3",
   "language": "python",
   "name": "python3"
  },
  "language_info": {
   "codemirror_mode": {
    "name": "ipython",
    "version": 3
   },
   "file_extension": ".py",
   "mimetype": "text/x-python",
   "name": "python",
   "nbconvert_exporter": "python",
   "pygments_lexer": "ipython3",
   "version": "3.7.2"
  }
 },
 "nbformat": 4,
 "nbformat_minor": 4
}
