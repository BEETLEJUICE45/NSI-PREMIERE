{
 "cells": [
  {
   "cell_type": "markdown",
   "metadata": {},
   "source": [
    "# 10A - TP8 - Attaque de kouikoui\n",
    "*Remarque 1 :* Soit `dico` un dictionnaire défini à l'extérieur d'une fonction. Les modifications effectuées par **mutation** sur la variable `dico` à l'intérieur d'une fonction prendront également effet sur le contenu de la variable `dico` à l'extérieur de la fonction.\n",
    "\n",
    "\n",
    "*Remarque 2 :* les méthodes `choice` et `randint` du module `random` permettent respectivement :\n",
    "- de choisir au hasard un élément dans une liste d'éléments,\n",
    "- de tirer au hasard un nombre entier compris entre deux bornes :\n"
   ]
  },
  {
   "cell_type": "code",
   "execution_count": null,
   "metadata": {},
   "outputs": [],
   "source": [
    "from random import randint, choice"
   ]
  },
  {
   "cell_type": "code",
   "execution_count": null,
   "metadata": {},
   "outputs": [],
   "source": [
    "liste = ['tut', 'pouet', 'dring', 'bip']\n",
    "x = choice(liste)\n",
    "x"
   ]
  },
  {
   "cell_type": "code",
   "execution_count": null,
   "metadata": {},
   "outputs": [],
   "source": [
    "y = randint(1, 6) #lancer d'un dé\n",
    "y"
   ]
  },
  {
   "cell_type": "markdown",
   "metadata": {},
   "source": [
    "\n",
    "\n",
    "<br/>  \n",
    "\n",
    "Les kouikouis sont des personnages d'un jeu. Ils disposent de cinq descripteurs :\n",
    "- nom : une chaîne de caractères correspondnat au nom du kouikoui ;\n",
    "- element : une chaîne de caractères parmi 'terre', 'ciel', 'eau', 'feu' ;\n",
    "- pvie (points de vie) : un nombre entier entre 70 et 140 ;\n",
    "- patq (point d'attaque) : un nombre entier entre 20 et 70 ;\n",
    "- pdef (points de défense) : un nombre entier entre 0 et 50.\n",
    "\n",
    "Voici quelques exemples de kouikouis sous forme de dictionnaires :"
   ]
  },
  {
   "cell_type": "code",
   "execution_count": null,
   "metadata": {},
   "outputs": [],
   "source": [
    "k_1 = {'nom' : 'pythuring',     'element' : 'feu',   'pvie' : 130, 'patq' : 45, 'pdef' : 30}\n",
    "k_2 = {'nom' : 'objectovelace', 'element' : 'eau',   'pvie' : 75,  'patq' : 25, 'pdef' : 35}\n",
    "k_3 = {'nom' : 'bashopper',     'element' : 'terre', 'pvie' : 95,  'patq' : 70, 'pdef' : 15}\n",
    "k_4 = {'nom' : 'ocamann',       'element' : 'terre', 'pvie' : 105, 'patq' : 35, 'pdef' : 45}\n",
    "k_5 = {'nom' : 'delphilton',    'element' : 'ciel',  'pvie' : 135, 'patq' : 20, 'pdef' : 40}"
   ]
  },
  {
   "cell_type": "markdown",
   "metadata": {},
   "source": [
    "\n",
    "Lorsqu'un kouikoui A attaque un kouikoui B, le kouikoui B perd des points de vie. Le nombre de points de vie perdus lors de l'attaque est donné par la différence entre le nombre de points d'attaque de A et le nombre de points de défense de B (ou 0 point de vie si le résultat est négatif), sachant que :\n",
    "- le nombre de points de vie restant après l'attaque ne peut pas descendre en dessous de zéro,\n",
    "- si le nombre de points de vie restant après l'attaque vaut zéro, le kouikoui B doit aller se faire soigner."
   ]
  },
  {
   "cell_type": "markdown",
   "metadata": {},
   "source": [
    "*Question 1 :*  Compléter le code de la fonction `generer_kouikoui` qui prend en paramètre le nom d'un kouikoui et renvoie un kouikoui dont l'élément et les points de vie, d'attaque et de défense ont été choisis au hasard."
   ]
  },
  {
   "cell_type": "code",
   "execution_count": null,
   "metadata": {},
   "outputs": [],
   "source": [
    "from random import choice, randint\n",
    "\n",
    "\n",
    "def generer_kouikoui(nom):\n",
    "    ...\n",
    "    ...\n",
    "    ...\n",
    "    ...\n",
    "    ...\n",
    "    return kouikoui"
   ]
  },
  {
   "cell_type": "markdown",
   "metadata": {},
   "source": [
    "*Question 2 :* Tester votre fonction en faisant quelques appels de fonction :"
   ]
  },
  {
   "cell_type": "code",
   "execution_count": null,
   "metadata": {},
   "outputs": [],
   "source": [
    "k_6 = generer_kouikoui('algates')\n",
    "k_6"
   ]
  },
  {
   "cell_type": "code",
   "execution_count": null,
   "metadata": {},
   "outputs": [],
   "source": [
    "k_7 = generer_kouikoui('hugojobs')\n",
    "k_7"
   ]
  },
  {
   "cell_type": "markdown",
   "metadata": {},
   "source": [
    "*Question 3 :* Compléter la fonction `attaque` qui :\n",
    "- prend en paramètres deux dictionnaires correspondant à deux kouikouis `k_a` et `k_b`,\n",
    "- et qui **mute** le dictionnaire `k_b` afin que la modification corresponde à une attaque de `k_a` sur `k_b`. "
   ]
  },
  {
   "cell_type": "code",
   "execution_count": null,
   "metadata": {},
   "outputs": [],
   "source": [
    "def attaque(k_a, k_b):\n",
    "    if ... - ... >= 0 :\n",
    "        points_perdus = ... - ...\n",
    "    else :\n",
    "        points_perdus = ...\n",
    "    \n",
    "    if points_perdus > ...:\n",
    "        k_b[...] = ...\n",
    "    else:\n",
    "        k_b[...] = ... - ...\n"
   ]
  },
  {
   "cell_type": "markdown",
   "metadata": {},
   "source": [
    "*Question 4 :* Tester votre fonction grâce au jeu de tests ci-dessous :"
   ]
  },
  {
   "cell_type": "code",
   "execution_count": null,
   "metadata": {},
   "outputs": [],
   "source": [
    "k_1 = {'nom' : 'pythuring',     'element' : 'feu',   'pvie' : 130, 'patq' : 45, 'pdef' : 30}\n",
    "k_2 = {'nom' : 'objectovelace', 'element' : 'eau',   'pvie' : 75,  'patq' : 25, 'pdef' : 35}\n",
    "k_3 = {'nom' : 'bashopper',     'element' : 'terre', 'pvie' : 95,  'patq' : 70, 'pdef' : 15}\n",
    "k_4 = {'nom' : 'ocamann',       'element' : 'terre', 'pvie' : 105, 'patq' : 35, 'pdef' : 45}\n",
    "k_5 = {'nom' : 'delphilton',    'element' : 'ciel',  'pvie' : 135, 'patq' : 20, 'pdef' : 40}\n",
    "\n",
    "attaque(k_1, k_2)\n",
    "assert k_2 == {'nom' : 'objectovelace', 'element' : 'eau',   'pvie' : 65,  'patq' : 25, 'pdef' : 35}\n",
    "\n",
    "attaque(k_4, k_5)\n",
    "assert k_5 == {'nom' : 'delphilton',    'element' : 'ciel',  'pvie' : 135, 'patq' : 20, 'pdef' : 40}"
   ]
  },
  {
   "cell_type": "markdown",
   "metadata": {},
   "source": [
    "*Question 5 :* Lorsque deux kouikouis font un match, ils enchaînent à tour de rôle les attaques jusqu'à ce que l'un d'eux n'ait plus de points de vie et doive aller se faire soigner.  \n",
    "Compléter la fonction *match* qui prend en argument deux dictionnaires `k_a` et `k_b` correspondant à deux kouikouis et qui :\n",
    "- **mute** `k_a` et `k_b` de sorte que les mutations correspondent aux pertes de points de vie lors du match, \n",
    "- renvoie le nom du kouikoui gagnant  (en considérant que `k_a` commence en premier à attaquer) ou `None` si le match conduit à ce que toutes les attaques n'aient aucun effet."
   ]
  },
  {
   "cell_type": "code",
   "execution_count": null,
   "metadata": {},
   "outputs": [],
   "source": [
    "def match(k_a, k_b): \n",
    "    ...\n",
    "    ...\n",
    "    ...\n",
    "    ...\n",
    "    return ..."
   ]
  },
  {
   "cell_type": "markdown",
   "metadata": {},
   "source": [
    "*Question 5 :* Tester votre fonction grâce au jeu de tests ci-dessous."
   ]
  },
  {
   "cell_type": "code",
   "execution_count": null,
   "metadata": {},
   "outputs": [],
   "source": [
    "k_1 = {'nom' : 'pythuring',     'element' : 'feu',   'pvie' : 130, 'patq' : 45, 'pdef' : 30}\n",
    "k_2 = {'nom' : 'objectovelace', 'element' : 'eau',   'pvie' : 75,  'patq' : 25, 'pdef' : 35}\n",
    "k_3 = {'nom' : 'bashopper',     'element' : 'terre', 'pvie' : 95,  'patq' : 70, 'pdef' : 15}\n",
    "k_4 = {'nom' : 'ocamann',       'element' : 'terre', 'pvie' : 105, 'patq' : 35, 'pdef' : 45}\n",
    "k_5 = {'nom' : 'delphilton',    'element' : 'ciel',  'pvie' : 135, 'patq' : 20, 'pdef' : 40}\n",
    "\n",
    "assert match(k_1, k_2) == 'pythuring'\n",
    "assert match(k_1, k_3) == 'pythuring'\n",
    "assert match(k_3, k_1) == 'bashopper'"
   ]
  }
 ],
 "metadata": {
  "kernelspec": {
   "display_name": "Python 3",
   "language": "python",
   "name": "python3"
  },
  "language_info": {
   "codemirror_mode": {
    "name": "ipython",
    "version": 3
   },
   "file_extension": ".py",
   "mimetype": "text/x-python",
   "name": "python",
   "nbconvert_exporter": "python",
   "pygments_lexer": "ipython3",
   "version": "3.7.2"
  }
 },
 "nbformat": 4,
 "nbformat_minor": 4
}
