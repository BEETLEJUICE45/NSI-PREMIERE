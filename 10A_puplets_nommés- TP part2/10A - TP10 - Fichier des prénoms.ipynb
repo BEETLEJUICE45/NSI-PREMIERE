{
 "cells": [
  {
   "cell_type": "markdown",
   "metadata": {},
   "source": [
    "# 10A - TP10 - Fichier des prénoms"
   ]
  },
  {
   "cell_type": "markdown",
   "metadata": {},
   "source": [
    "*Remarque 1 :* Pour ajouter des éléments au fur et à mesure dans une liste, on utilise la méthode `append` :"
   ]
  },
  {
   "cell_type": "code",
   "execution_count": null,
   "metadata": {},
   "outputs": [],
   "source": [
    "L = []\n",
    "L.append('chat')\n",
    "L.append('chien')\n",
    "L.append('cheval')\n",
    "L"
   ]
  },
  {
   "cell_type": "markdown",
   "metadata": {},
   "source": [
    "*Remarque 2:* La méthode `choices` du module `random` permet de choisir au hasard des éléments dans une liste tout en spécifiant des poids. Par exemple l'instruction suivante :"
   ]
  },
  {
   "cell_type": "code",
   "execution_count": null,
   "metadata": {},
   "outputs": [],
   "source": [
    "from random import choices\n",
    "\n",
    "tirage = choices([0, 1, 2, 5, 10], weights = [5000, 3000, 1500, 400, 100], k = 10)\n",
    "tirage"
   ]
  },
  {
   "cell_type": "markdown",
   "metadata": {},
   "source": [
    "simule un tirage de `k = 10` tickets parmi des tickets de loterie pouvant rapporter 0, 1, 2, 5 ou 10 euros sachant que :\n",
    "- la probabilité d'avoir 0 euro est 5000/10000,\n",
    "- la probabilité d'avoir 1 euro est 3000/10000,\n",
    "- la probabilité d'avoir 2 euros est 1500/10000,\n",
    "- la probabilité d'avoir 5 euros est 400/10000,\n",
    "- la probabilité d'avoir 10 euros est 100/10000.\n",
    "\n",
    "(Le 10000 est obtenu avec 5000 + 3000 + 1500 + 400 + 100)"
   ]
  },
  {
   "cell_type": "markdown",
   "metadata": {},
   "source": [
    "<br/>\n",
    "\n",
    "\n",
    "<br/>\n",
    "\n",
    "\n",
    "Commencer par exécuter la cellule de code ci-dessous"
   ]
  },
  {
   "cell_type": "code",
   "execution_count": null,
   "metadata": {},
   "outputs": [],
   "source": [
    "import csv\n",
    "\n",
    "def charger_fichier_entete( nom_fic ):\n",
    "    \"\"\"\n",
    "    Permet de lire un fichier CSV en utilisant la ligne d'entêtes\n",
    "    Retourne une liste de dictionnaires.\n",
    "    \"\"\"\n",
    "    lignes = []\n",
    "    with open( nom_fic , \"r\", newline =\"\", encoding =\"utf -8\" ) as csvfile :\n",
    "        lecteur = csv.DictReader( csvfile , delimiter =\";\")\n",
    "        for enreg in lecteur :\n",
    "            lignes.append (dict ( enreg )) # enreg est de type OrderedDict on le remet endict\n",
    "    return lignes\n",
    "\n",
    "FICHIER_TOTAL = charger_fichier_entete('./datas/nat2019.csv')\n",
    "\n",
    "def fournir_dictionnaire(annee):\n",
    "    global FICHIER_TOTAL\n",
    "    annee = str(annee)\n",
    "    stats_prenoms = {}\n",
    "    for line in FICHIER_TOTAL:\n",
    "        if line['preusuel'] == '_PRENOMS_RARES':\n",
    "            continue\n",
    "        if line['annais'] == 'XXXX':\n",
    "            continue\n",
    "        if line['annais'] not in stats_prenoms.keys():\n",
    "            stats_prenoms[line['annais']] = {line['preusuel']:int(line['nombre'])}\n",
    "        else:\n",
    "            if line['preusuel'] not in stats_prenoms[line['annais']].keys():\n",
    "                stats_prenoms[line['annais']][line['preusuel']] = int(line['nombre'])\n",
    "            else:\n",
    "                stats_prenoms[line['annais']][line['preusuel']] += int(line['nombre'])\n",
    "    return stats_prenoms[annee]\n",
    "    "
   ]
  },
  {
   "cell_type": "markdown",
   "metadata": {},
   "source": [
    "Vous pouvez maintenant accéder à un dictionnaire donnant les effectifs des prénoms qui ont été attribués une année donnée en France. Par exemple pour 2004 :"
   ]
  },
  {
   "cell_type": "code",
   "execution_count": null,
   "metadata": {},
   "outputs": [],
   "source": [
    "prenoms_2004 = fournir_dictionnaire(2004)"
   ]
  },
  {
   "cell_type": "markdown",
   "metadata": {},
   "source": [
    "Ce dictionnaire est très long :"
   ]
  },
  {
   "cell_type": "code",
   "execution_count": null,
   "metadata": {},
   "outputs": [],
   "source": [
    "len(prenoms_2004)"
   ]
  },
  {
   "cell_type": "code",
   "execution_count": null,
   "metadata": {},
   "outputs": [],
   "source": [
    "prenoms_2004"
   ]
  },
  {
   "cell_type": "markdown",
   "metadata": {},
   "source": [
    "Il permet donc d'obtenir le nombre de nouveaux-nés qui se sont vus attribuer tel ou tel prénom en 2003 :"
   ]
  },
  {
   "cell_type": "code",
   "execution_count": null,
   "metadata": {},
   "outputs": [],
   "source": [
    "prenoms_2004['JEAN-MICHEL']"
   ]
  },
  {
   "cell_type": "markdown",
   "metadata": {},
   "source": [
    "À condition que la clef correspondante soit bien dans le dictionnaire, sinon on obtient une erreur :"
   ]
  },
  {
   "cell_type": "code",
   "execution_count": null,
   "metadata": {},
   "outputs": [],
   "source": [
    "prenoms_2004['GERTRUDE']"
   ]
  },
  {
   "cell_type": "markdown",
   "metadata": {},
   "source": [
    "Erreur que l'on aurait pu eviter en utilisant l'opérateur `in` :"
   ]
  },
  {
   "cell_type": "code",
   "execution_count": null,
   "metadata": {},
   "outputs": [],
   "source": [
    "if 'GERTRUDE' in prenoms_2004.keys():\n",
    "    print(prenoms_2004['GERTRUDE'])"
   ]
  },
  {
   "cell_type": "markdown",
   "metadata": {},
   "source": [
    "<br/>\n",
    "\n",
    "\n",
    "<br/>\n",
    "\n",
    "\n",
    "*Question 1 :* Compléter l'instruction ci-dessous afin d'extraire du dictionnaire `prenoms_2004` le dictionnaire de tous les prénoms et effectifs associés dont l'effectif était supérieur à 5000."
   ]
  },
  {
   "cell_type": "code",
   "execution_count": null,
   "metadata": {},
   "outputs": [],
   "source": [
    "sup_5000 = {... : ... for ..., ... in ... if ... >= ...}\n",
    "sup_5000"
   ]
  },
  {
   "cell_type": "markdown",
   "metadata": {},
   "source": [
    "<br/>\n",
    "\n",
    "\n",
    "<br/>\n",
    "\n",
    "\n",
    "*Question 2 :* Compléter l'instruction ci-dessous afin d'extraire du dictionnaire `prenoms_2004` le dictionnaire de tous les prénoms et effectifs associés dont les deux premières lettres du prénom sont les mêmes que celles de votre prénom."
   ]
  },
  {
   "cell_type": "code",
   "execution_count": null,
   "metadata": {},
   "outputs": [],
   "source": [
    "memes_lettres = {...:... for ..., ... in ... if ... == ... and ... == ...}\n",
    "memes_lettres"
   ]
  },
  {
   "cell_type": "markdown",
   "metadata": {},
   "source": [
    "<br/>\n",
    "\n",
    "\n",
    "<br/>\n",
    "\n",
    "\n",
    "*Question 3 :* Compléter le code de la fonction `extraire` qui prend en paramètre une liste `liste_prenoms` de prénoms et renvoie l'extrait du dictionnaire `prenoms_2004` correspondant à ces prénoms là, avec un effectif de zéro si un des prénoms de `liste_prenoms` n'est pas présent dans le dictionnaire."
   ]
  },
  {
   "cell_type": "code",
   "execution_count": null,
   "metadata": {},
   "outputs": [],
   "source": [
    "def extraire(liste_prenoms):\n",
    "    global prenoms_2004\n",
    "    extrait = {}\n",
    "    for prenom in ... :\n",
    "        if ... in ... :\n",
    "            ...\n",
    "        else :\n",
    "            ...\n",
    "    return extrait"
   ]
  },
  {
   "cell_type": "code",
   "execution_count": null,
   "metadata": {},
   "outputs": [],
   "source": [
    "extraire(['BASILE', 'ABDEL', 'FATOU', 'ANDREA', 'CYRILLE', 'PERSONNE'])"
   ]
  },
  {
   "cell_type": "markdown",
   "metadata": {},
   "source": [
    "<br/>\n",
    "\n",
    "\n",
    "<br/>\n",
    "\n",
    "*Question 4 :* Compléter la fonction `groupe_virtuel` ci-dessous qui prend en argument un nombre `nb_prenoms` et renvoie une liste de `nb_prenoms` prénoms tirés au hasard parmi les prénoms de l'année 2004 **sachant que chaque prénom devra avoir d'autant plus de chances d'être tiré que son effectif a été nombreux en 2004**.\n",
    "\n",
    "\n",
    "Cela revient a prendre pour :\n",
    "- éléments dans lesquels utiliser `choices` les clefs du dictionnaire,\n",
    "- poids à utiliser avec la méthode `choices` les valeurs du dictionnaire.\n",
    "\n",
    "**! Attention !** les dictionnaires n'étant pas ordonnés, deux parcours différents sont a-priori effectués dans des ordres différents.  \n",
    "Il faut donc effectuer un seul parcours dans une unique boucle qui permettra de compléter les deux listes à la fois."
   ]
  },
  {
   "cell_type": "code",
   "execution_count": null,
   "metadata": {},
   "outputs": [],
   "source": [
    "from random import choices\n",
    "\n",
    "def groupe_virtuel(nb_prenoms):\n",
    "    global prenoms_2004\n",
    "    \n",
    "    #construction des deux listes : les prénoms d'un côté et les poids de l'autre\n",
    "    liste_prenoms = []\n",
    "    liste_poids = []\n",
    "    for ..., ... in ... :\n",
    "        ...\n",
    "        ...\n",
    "    \n",
    "    # utilisation des deux listes pur effectuer le tirage au hasard\n",
    "    groupe_choisi = choices(..., ..., ...)\n",
    "    return groupe_choisi"
   ]
  },
  {
   "cell_type": "markdown",
   "metadata": {},
   "source": [
    "*Question 5 :* Tester votre fonction pour obtenir un groupe de 35 élèves virtuels (ce pourrait être utile pour illustrer des exercices et ne pas rester sur les prénoms des années 70 ou 80 ...):"
   ]
  },
  {
   "cell_type": "code",
   "execution_count": null,
   "metadata": {},
   "outputs": [],
   "source": []
  }
 ],
 "metadata": {
  "kernelspec": {
   "display_name": "Python 3",
   "language": "python",
   "name": "python3"
  },
  "language_info": {
   "codemirror_mode": {
    "name": "ipython",
    "version": 3
   },
   "file_extension": ".py",
   "mimetype": "text/x-python",
   "name": "python",
   "nbconvert_exporter": "python",
   "pygments_lexer": "ipython3",
   "version": "3.7.2"
  }
 },
 "nbformat": 4,
 "nbformat_minor": 4
}
