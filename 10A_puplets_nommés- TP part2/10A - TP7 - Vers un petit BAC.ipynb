{
 "cells": [
  {
   "cell_type": "markdown",
   "metadata": {},
   "source": [
    "# 10A - TP7 - Vers un petit BAC"
   ]
  },
  {
   "cell_type": "markdown",
   "metadata": {},
   "source": [
    "*Remarque 1 :* On peut ajouter des éléments à une liste en utilisant la méthode `.append()` :"
   ]
  },
  {
   "cell_type": "code",
   "execution_count": null,
   "metadata": {},
   "outputs": [],
   "source": [
    "L = ['lundi', 'mardi', 'mercredi']\n",
    "L.append('jeudi')\n",
    "L"
   ]
  },
  {
   "cell_type": "markdown",
   "metadata": {},
   "source": [
    "*Remarque 2 :* On peut choisir un élément au hasard dans une liste grâce à la méthode `choice` du module `random`."
   ]
  },
  {
   "cell_type": "code",
   "execution_count": null,
   "metadata": {},
   "outputs": [],
   "source": [
    "from random import choice"
   ]
  },
  {
   "cell_type": "code",
   "execution_count": null,
   "metadata": {},
   "outputs": [],
   "source": [
    "choice(L)"
   ]
  },
  {
   "cell_type": "markdown",
   "metadata": {},
   "source": [
    "# Partie 1"
   ]
  },
  {
   "cell_type": "markdown",
   "metadata": {},
   "source": [
    "On considère des listes de mots thématiques :"
   ]
  },
  {
   "cell_type": "code",
   "execution_count": null,
   "metadata": {},
   "outputs": [],
   "source": [
    "animaux = [ \"Addax\",\"Agneau\",\"Agouti\",\"Aigle\",\"Albatros\",\"Alligator\",\"Alpaga\",\"Anaconda\",\"Ane\",\"Anoa\",\"Antilope\",\"Araignée\",\"Atèle\",\"Autruche\",\"Aye-aye\",\"Babouin\",\"Baleine\",\"Belette\",\"Béluga\",\"Biche\",\"Bison\",\"Blaireau\",\"Blobfish\",\"Boa\",\"Boeuf\",\"Bongos\",\"Bonobo\",\"Bouquetin\",\"Brebis\",\"Buffle\",\"Cachalot\",\"Campagnol\",\"Canard\",\"Capucin\",\"Capybara\",\"Caracal\",\"Carcajou\",\"Caribou\",\"Carpe\",\"Castor\",\"Cerf\",\"Chacal\",\"Chameau\",\"Chamois\",\"Chat\",\"Chaus\",\"Chauve-souris\",\"Cheval\",\"Chèvre\",\"Chevreuil\",\"Chien\",\"Chimpanzé\",\"Chinchilla\",\"Chouette\",\"Cigogne\",\"Civette\",\"Coati\",\"Cobaye\",\"Cobe\",\"Coccinelle\",\"Cochon\",\"Colocolo\",\"Coq\",\"Couscous\",\"Coyote\",\"Crabe\",\"Crocodile\",\"Cygne\",\"Daim\",\"Dauphin\",\"Dinde\",\"Dindon\",\"Dingo\",\"Drill\",\"Dromadaire\",\"Échidné\",\"Écureuil\",\"Élan\",\"Éland\",\"Éléphant\",\"Émeu\",\"Epaulard\",\"Escargot\",\"Espadon\",\"Eyra\",\"Faisan\",\"Faon\",\"Faucon\",\"Fennec\",\"Flamant rose\",\"Fouine\",\"Fourmilier\",\"Furet\",\"Gaufre\",\"Gaur\",\"Gazelle\",\"Gélada\",\"Genette\",\"Gerbille\",\"Gerboise\",\"Gibbon\",\"Girafe\",\"Glouton\",\"Gnou\",\"Goret\",\"Gorille\",\"Grenouille\",\"Grizzly\",\"Grue\",\"Guanaco\",\"Guépard\",\"Guigna\",\"Hamster\",\"Hérisson\",\"Hermine\",\"Héron\",\"Hibou\",\"Hippocampe\",\"Hippopotame\",\"Hirondelle\",\"Hyène\",\"Ibis\",\"Iguane\",\"Impala\",\"Isard\",\"Isatis\",\"Jaguar\",\"Jaguarondi\",\"Kangourou\",\"Kiwi\",\"Koala\",\"Kodiak\",\"Kodkod\",\"Koudou\",\"Lamantin\",\"Lamas\",\"Lapin\",\"Lemming\",\"Lémurien\",\"Léopard\",\"Lérot\",\"Lézard\",\"Lièvre\",\"Lion\",\"Loir\",\"Lophophore\",\"Lori\",\"Loup\",\"Loutre\",\"Lycaons\",\"Lynx\",\"Macaque\",\"Mammouth\",\"Manchot\",\"Mandrill\",\"Mangouste\",\"Manul\",\"Mara\",\"Marmotte\",\"Marsouin\",\"Martre\",\"Mésange\",\"Morse\",\"Mouette\",\"Moufette\",\"Mouflon\",\"Mouton\",\"Mulet\",\"Mulot\",\"Musaraigne\",\"Muscardin\",\"Naja\",\"Nandou\",\"Narval\",\"Nasique\",\"Nason\",\"Noctule\",\"Notou\",\"Numbat\",\"Ocelot\",\"Octodon\",\"Oie\",\"Okapi\",\"Once\",\"Opossum\",\"Oran\",\"Ornithorynque\",\"Orques\",\"Oryctérope\",\"Oryx\",\"Otarie\",\"Ouistiti\",\"Ours\",\"Pandas\",\"Pangolin\",\"Panthère\",\"Paon\",\"Paresseux\",\"Pécaris\",\"Pékan\",\"Pélican\",\"Perroquet\",\"Phacochère\",\"Phoque\",\"Pie\",\"Pika\",\"Pingouin\",\"Pipistrelles\",\"Piton\",\"Pogona\",\"Poisson\",\"Polatouche\",\"Poney\",\"Porc\",\"Porc-épic\",\"Poule\",\"Poulet\",\"Poulpe\",\"Poussin\",\"Puma\",\"Putois\",\"Python\",\"Quetzal\",\"Quiscale\",\"Quokka\",\"Ragondin\",\"Rat\",\"Raton laveur\",\"Ratufa\",\"Renard\",\"Requin\",\"Requin baleine\",\"Rhésus\",\"Rhinocéros\",\"Roussette\",\"Salamandre\",\"Sanglier\",\"Serpent\",\"Serval\",\"Singe\",\"Souris\",\"Sphynx\",\"Springbok\",\"Suricate\",\"Tamandua\",\"Tamanoir\",\"Tamarin\",\"Tamia\",\"Tapir\",\"Tarsier\",\"Tatou\",\"Taupe\",\"Taureau\",\"Tigre\",\"Tortue\",\"Toucan\",\"Trigonocéphale\",\"Unau\",\"Urubu\",\"Vache\",\"Varan\",\"Vautour\",\"Veau\",\"Vipère\",\"Vison\",\"Wallaby\",\"Wapiti\",\"Watussi\",\"Wombat\",\"Xérus\",\"Yack\",\"Zèbre\",\"Zébrule\",\"Zébu\",\"Zibeline\",\"Zorille\"]\n",
    "metiers = [\"Acheteur\",\"Acrobate\",\"Acteur\",\"Actrice\",\"Actuaire\",\"Affréteur\",\"Agent commercial\",\"Agent immobilier\",\"Agent secret\",\"Agriculteur\",\"Aide comptable\",\"Aide de laboratoire\",\"Aide médico-psychologique\",\"Aide soignant\",\"Aide technique de laboratoire\",\"Alchimiste\",\"Alpiniste\",\"Ambassadeur\",\"Ambulancier\",\"Analyste\",\"Anesthésiste\",\"Animateur\",\"Antiquaire\",\"Apiculteur\",\"Arbitre\",\"Archéologue\",\"Architecte\",\"Archiviste\",\"Artificier\",\"Artiste-peintre\",\"Assistant son\",\"Assistant vétérinaire\",\"Assistante maternelle\",\"Assistante sociale\",\"Astronaute\",\"Astronome\",\"Athlète\",\"Attaché de police\",\"Attaché de préfecture\",\"Attaché de presse\",\"Auteur\",\"Auxiliaire de puériculture\",\"Auxiliaire de vie\",\"Auxiliaire de vie sociale\",\"Aviateur\",\"Avocat\",\"Banquier\",\"Barman\",\"Bibliothécaire\",\"Bijoutier joaillier\",\"Billettiste\",\"Bio-informaticien\",\"Biologiste\",\"Boucher\",\"Boulanger\",\"Brasseur malteur\",\"Bronzier\",\"Bûcheron\",\"Cadreur\",\"Caissier\",\"Cancérologue\",\"Capitaine\",\"Cardiologue\",\"Carreleur\",\"Carrossier\",\"Cartographe\",\"Caviste\",\"Chanteur\",\"Charcutier-traiteur\",\"Chargé de clientèle\",\"Chargé de référencement\",\"Chargé de relations publiques\",\"Charpentier\",\"Chaudronnier\",\"Chauffagiste\",\"Chauffeur\",\"Chef d'orchestre\",\"Chef de chantier\",\"Chef de chœur\",\"Chef de comptoir\",\"Chef de fabrication\",\"Chef de produits voyages\",\"Chef de projet\",\"Chef de publicité\",\"Chef de rayon\",\"Chef de service\",\"Chef opérateur\",\"Chercheur\",\"Chirurgien\",\"Chocolatier\",\"Chorégraphe\",\"Clerc de notaire\",\"Coiffeur\",\"Coiffeuse\",\"Comédien\",\"Commerçant\",\"Commis de cuisine\",\"Commissaire de police\",\"Commissaire priseur\",\"Comportementalisme\",\"Comptable\",\"Concepteur de jeux électroniqu\",\"Concepteur rédacteur\",\"Concierge d'hôtel\",\"Conducteur\",\"Conseiller d'insertion\",\"Conseiller d'orientation\",\"Conseiller en développement\",\"Conservateur du patrimoine\",\"Consultant\",\"Contrôleur aérien\",\"Contrôleur de gestion\",\"Contrôleur de travaux\",\"Contrôleur du travail\",\"Convoyeur de fonds\",\"Coordinatrice de crèches\",\"Correcteur\",\"Cosmonaute\",\"Costumier\",\"Coursier\",\"Courtier d'assurances\",\"Couturier\",\"Couvreur\",\"Créateur de parfum\",\"Cueilleur\",\"Cuisinier\",\"Cyberdocumentaliste\",\"Danseur\",\"Décorateur\",\"Délégué médical\",\"Déménageur\",\"Démographe\",\"Dentiste\",\"Dépanneur\",\"Designer\",\"Dessinateur\",\"Détective privé\",\"Développeur\",\"Diététicien\",\"Directeur\",\"Docker\",\"Docteur\",\"Documentaliste\",\"Dompteur\",\"Douanier\",\"Ebéniste\",\"Eboueur\",\"Eco-conseiller\",\"Ecotoxicologue\",\"Ecrivain\",\"Educateur de jeunes enfants\",\"Educateur spécialisé\",\"Educateur sportif\",\"Educateur technique spécialisé\",\"Electricien\",\"Employé\",\"Encadreur\",\"Enseignant\",\"Entraîneur\",\"Epicier\",\"Ergonome\",\"Ergothérapeute\",\"Esthéticien\",\"Esthéticienne\",\"Ethnologue\",\"Ethologue\",\"Expert automobile\",\"Expert comptable\",\"Facteur\",\"Femme de chambre\",\"Fermier\",\"Ferronnier\",\"Fiscaliste\",\"Fleuriste\",\"Forain\",\"Forfaitiste\",\"Formateur\",\"Fournisseur\",\"Funambule\",\"Game designer\",\"Gantier\",\"Garagiste\",\"Garçon de café\",\"Garde du corps\",\"Garde-champêtre\",\"Gardien d'immeuble\",\"Gardien de la paix\",\"Gendarme\",\"Géographe\",\"Géologue\",\"Géomaticien\",\"Géomètre topographe\",\"Gérant d'hôtel\",\"Graphiste\",\"Greffier\",\"Grutier\",\"Guichetier\",\"Guide accompagnateur\",\"Guide de haute montagne\",\"Guide Interprète\",\"Gynécologue\",\"Habilleur\",\"Harpiste\",\"Herboriste\",\"Herpétologue\",\"Historien\",\"Horiculteur\",\"Horloger\",\"Horticulteur\",\"Hôtelier\",\"Hôtesse\",\"Hôtesse d'accueil\",\"Hôtesse de l'air\",\"Hotliner\",\"Huissier\",\"Huissier de justice\",\"Iconographe\",\"Imam\",\"Imprimeur\",\"Infirmier\",\"Informaticien\",\"Ingénieur\",\"Inspecteur\",\"Instituteur\",\"Intégrateur Web\",\"Interprète\",\"Jardinier\",\"Joaillier\",\"Jockey\",\"Jongleur\",\"Journaliste\",\"Juge\",\"Juriste\",\"Kinésithérapeute\",\"Kiosquier\",\"Laitier\",\"Laveur de vitre\",\"Libraire\",\"Lieutenant de police\",\"Lieutenant de sapeurs-pompiers\",\"Lithographe\",\"Livreur\",\"Luthier\",\"Maçon\",\"Magasinier\",\"Magistrat\",\"Maïeuticien\",\"Maître chien\",\"Maître d'hôtel\",\"Maître de conférence\",\"Maître ouvrier\",\"Maître-nageur sauveteur\",\"Major de sapeur-pompier\",\"Manipulateur d'électroradiolog\",\"Mannequin\",\"Manutentionnaire cariste\",\"Maquettiste\",\"Maréchal-ferrant\",\"Mareyeur\",\"Marin\",\"Marionnettiste\",\"Masseur\",\"Masseur kinésithérapeute\",\"Mathématicien\",\"Mécanicien\",\"Médecin\",\"Média-planner\",\"Médiateur social\",\"Menuisier\",\"Métayer\",\"Météorologue\",\"Metteur en scène\",\"Meunier\",\"Militaire\",\"Modélisateur\",\"Moniteur d'auto-école\",\"Moniteur de ski\",\"Moniteur éducateur\",\"Monteur\",\"Musicien\",\"Nageur\",\"Netsurfer\",\"Neurologue\",\"Notaire\",\"Nourrice\",\"Nutritionniste\",\"Océanographe\",\"Océanologue\",\"Opérateur\",\"Opticien lunetier\",\"Optométriste\",\"Orthophoniste\",\"Orthoptiste\",\"Ouvrier\",\"Pâtissier\",\"Paysagiste\",\"Paysan\",\"Pédiatre\",\"Pédicure podologue\",\"Peintre\",\"Peintre en bâtiment\",\"Pépiniériste\",\"Personnel de surveillance\",\"Pharmacien\",\"Photographe\",\"Pigiste\",\"Pilote d'avion\",\"Plagiste\",\"Plaquiste\",\"Plâtrier\",\"Plombier\",\"Poissonnier\",\"Policier\",\"Pompier\",\"Pompiste\",\"Portier\",\"Postier\",\"Préparateur\",\"Prêtre\",\"Primeur\",\"Procureur\",\"Professeur\",\"Projectionniste\",\"Prothésiste\",\"Psychanalyste\",\"Psychiatre\",\"Psychologue\",\"Psychométricien\",\"Psychomotricien\",\"Puéricultrice\",\"Quincaillier\",\"Rabbin\",\"Radiologue\",\"Ramoneur\",\"Réalisateur\",\"Réceptionniste\",\"Rédacteur en chef\",\"Rééducateur\",\"Régisseur\",\"Relieur-doreur\",\"Responsable\",\"Restaurateur\",\"Roboticien\",\"Routier\",\"Sage-Femme\",\"Sapeur pompier\",\"Sapeurs-pompiers\",\"Scénariste\",\"Scripte\",\"Secrétaire\",\"Sécurité civile\",\"Serveur\",\"Sexologue\",\"Skippeur\",\"Sociologue\",\"Soigneur animalier\",\"Sommelier\",\"Sorcier\",\"Soudeur\",\"Standardiste\",\"Stenotypiste\",\"Story-boarder\",\"Styliste\",\"Superviseur\",\"Tatoueur\",\"Taxidermiste\",\"Technicien\",\"Teinturier\",\"Télévendeur\",\"Toiletteur\",\"Tôlier\",\"Tourneur-fraiseur\",\"Trader\",\"Traducteur\",\"Traffic Manager\",\"Transporteur\",\"Urbaniste\",\"Urgentiste\",\"Urologue\",\"Valet de chambre\",\"Vendeur\",\"Verrier\",\"Vétérinaire\",\"Viticulteur\",\"Vitrailliste\",\"Vitrier\",\"Voiturier\",\"Volcanologue\",\"VRP\",\"Wagonnier\",\"Wakeboarder\",\"Wal\",\"Wappeur\",\"Wattman\",\"Webdesigner\",\"Webdeveloper\",\"Webmarketeur\",\"Webmaster\",\"Webmasteur\",\"Webmestre\",\"Webplanner\",\"Wedding planner\",\"Xylophoniste\",\"Yield-manager\",\"Ymagier\",\"Zingueur\",\"Zoologiste\",\"Zoologue\"]\n",
    "legumes = [\"Ail\",\"Artichaut\",\"Asperge\",\"Aubergine\",\"Avocat\",\"Bette\",\"Betterave\",\"Blette\",\"Brocoli\",\"Carotte\",\"Catalonia\",\"Céleri\",\"Champignon\",\"Chou-fleur\",\"Choux\",\"Citrouille\",\"Concombre\",\"Courge\",\"Courgette\",\"Cresson\",\"Crosne\",\"Dachine\",\"Daikon\",\"Échalote\",\"Endive\",\"Épinard\",\"Fenouil\",\"Fève\",\"Flageolet\",\"Giromon\",\"Haricot\",\"Igname\",\"Kancon\",\"Konbu\",\"Laitue\",\"Lentille\",\"Mâche\",\"Maïs\",\"Manioc\",\"Navet\",\"Oignon\",\"Olive\",\"Oseille\",\"Panais\",\"Patate\",\"Pâtisson\",\"Poireau\",\"Poivron\",\"Potimarron\",\"Potiron\",\"Radis\",\"Rhubarbe\",\"Roquette\",\"Rutabaga\",\"Salade\",\"Salsifi\",\"Salsifis\",\"Tétragone\",\"Tomate\",\"Topinambour\",\"Udo\",\"Vitelotte\",\"Wakame\",\"Wasabi\",\"Yin Tsoï\"]\n",
    "fleurs = [\"Agapanthe\",\"Ancolie\",\"Arum\",\"Astrance\",\"Bégonia\",\"Bleuet\",\"Boutons d'or\",\"Buglose\",\"Calla\",\"Callune\",\"Camélia\",\"Camomille\",\"Campanule\",\"Capucine\",\"Carline\",\"Chardon\",\"Chèvrefeuille\",\"Chicorée\",\"Ciboulette\",\"Cirse\",\"Ciste\",\"Clématite\",\"Colza\",\"Coquelicot\",\"Coronille\",\"Crocus\",\"Dahlia\",\"Dame-d'onze-heures\",\"Digitale\",\"Echinops\",\"Edelweiss\",\"Epiaire\",\"Epilobe\",\"Esparcette\",\"Eupatoire\",\"Euphorbe\",\"Ficaire\",\"Fumeterre\",\"Gaillet\",\"Genêt\",\"Gentiane\",\"Géranium\",\"Gesse\",\"Glaïeul\",\"Globulaire\",\"Grebera\",\"Hélianthème\",\"Hellébore\",\"Hortense\",\"Hortensia\",\"Immortelle\",\"Iris\",\"Jacinthe\",\"Jarosse\",\"Jasmin\",\"Jonc\",\"Jonquille\",\"Joubarde\",\"Kalmie\",\"Lamier\",\"Lavande\",\"Lilas\",\"Linaigrette\",\"Linaire\",\"Liseron\",\"Lotier\",\"Lotus\",\"Lunaire\",\"Lychnis\",\"Lys\",\"Lysimaque\",\"Magnolia\",\"Marguerite\",\"Marjolaine\",\"Mauve\",\"Mélampyre\",\"Mélisse\",\"Millepertuis\",\"Mimosa\",\"Mouron\",\"Muguet\",\"Muscari\",\"Myosotis\",\"Narcisse\",\"Nenuphar\",\"Oeillet\",\"Oiseau du paradis\",\"Onagre\",\"Ononis\",\"Onopordon\",\"Ophrys\",\"Orchidée\",\"Orchis\",\"Origan\",\"Orobanche\",\"Orpin\",\"Ortie\",\"Oseille\",\"Pâquerette\",\"Patience\",\"Pavot\",\"Pédiculaire\",\"Pensée\",\"Perce-neige\",\"Petite pervenche\",\"Petunia\",\"Phacélie\",\"Phalangère\",\"Pissenlit\",\"Pivoine\",\"Plantain\",\"Polygale\",\"Potentille\",\"Primevère\",\"Pulmonaire\",\"Pulsatille\",\"Raiponce\",\"Renoncule\",\"Renouée\",\"Réséda\",\"Rose\",\"Sainfoin\",\"Sanve\",\"Saponaire\",\"Sauge\",\"Scabieuse\",\"Scorsonère\",\"Silène\",\"Solidage\",\"Stellaire\",\"Tournesol\",\"Trèfle\",\"Tulipe\",\"Tussilage\",\"Véronique\",\"Violette\",\"Vipérine\",\"Xanthium\",\"Ylang-ylang\",\"Zinnia\",\"Œillet\"]\n",
    "fruits = [\"Abricot\",\"Acajou\",\"Aigue-marine\",\"Aile de corbeau\",\"Albâtre\",\"Alezan\",\"Amarante\",\"Ambre\",\"Améthyste\",\"Ardoise\",\"Argent\",\"Argile\",\"Asperge\",\"Aubergine\",\"Auburn\",\"Aurore\",\"Azur\",\"Azur brume\",\"Azur clair\",\"Azurin\",\"Basané\",\"Beige\",\"Beige clair\",\"Beigeasse\",\"Beurre\",\"Beurre frais\",\"Bis\",\"Bisque\",\"Bistre\",\"Bitume\",\"Blanc\",\"Blanc cassé\",\"Blanc céruse\",\"Blanc crème\",\"Blanc d'argent\",\"Blanc d'Espagne\",\"Blanc d'ivoire\",\"Blanc de lait\",\"Blanc de lin\",\"Blanc de platine\",\"Blanc de plomb\",\"Blanc de Saturne\",\"Blanc de Troyes\",\"Blanc de Zinc\",\"Blanc écru\",\"Blanc lunaire\",\"Blanc neige\",\"Blanc opalin\",\"Blanc-bleu\",\"Blé\",\"Blet\",\"Bleu\",\"Bleu acier\",\"Bleu ardoise\",\"Bleu barbeau\",\"Bleu bleuet\",\"Bleu bondi\",\"Bleu céleste\",\"Bleu céruléen\",\"Bleu charrette\",\"Bleu charron\",\"Bleu ciel\",\"Bleu cobalt\",\"Bleu de Berlin\",\"Bleu de France\",\"Bleu de minuit\",\"Bleu de Prusse\",\"Bleu denim\",\"Bleu des mers du sud\",\"Bleu dragée\",\"Bleu égyptien\",\"Bleu électrique\",\"Bleu guède\",\"Bleu horizon\",\"Bleu majorelle\",\"Bleu marine\",\"Bleu maya\",\"Bleu minéral\",\"Bleu nuit\",\"Bleu outremer\",\"Bleu paon\",\"Bleu persan\",\"Bleu pétrole\",\"Bleu roi\",\"Bleu saphir\",\"Bleu sarcelle\",\"Bleu smalt\",\"Bleu tiffany\",\"Bleu turquin\",\"Bleu turquoise\",\"Blond\",\"Bordeaux\",\"Boutton d'or\",\"Brique\",\"Bronze\",\"Brou de noix\",\"Brun\",\"Bulle\",\"Bureau\",\"Byzantin\",\"Byzantium\",\"Caca d'oie\",\"Cacao\",\"Cachou\",\"Café\",\"Café au lait\",\"Canard\",\"Cannelle\",\"Caramel\",\"Carotte\",\"Cassis\",\"Céladon\",\"Cerise\",\"Cérulé\",\"Chair\",\"Chamois\",\"Champagne\",\"Châtaigne\",\"Châtain\",\"Chaudron\",\"Chocolat\",\"Chrome\",\"Citron\",\"Citrouille\",\"Coeruléum\",\"Colombin\",\"Coquille d'oeuf\",\"Corail\",\"Cuisse de nymphe\",\"Cuivre\",\"Cyan\",\"Dorian\",\"Ebène\",\"Ecarlate\",\"Etain oxydé\",\"Etain pur\",\"Fauve\",\"Feuille-morte\",\"Flave\",\"Fleur de soufre\",\"Fraise\",\"Fraise écrasée\",\"Framboise\",\"Fumée\",\"Fushia\",\"Givré\",\"Glauque\",\"Glycine\",\"Gomme-gutte\",\"Grège\",\"Grenadine\",\"Grenat\",\"Gris\",\"Gris acier\",\"Gris anthracite\",\"Gris de lin\",\"Gris de maure\",\"Gris de Payne\",\"Gris fer\",\"Gris Perle\",\"Gris souris\",\"Gris tourterelle\",\"Héliotrope\",\"Hooker\",\"Incarnadin\",\"Incarnat\",\"Indigo\",\"Indigo du web\",\"Ivoire\",\"Jade\",\"Jaune\",\"Jaune auréolin\",\"Jaune banane\",\"Jaune canari\",\"Jaune chartreuse\",\"Jaune d'or\",\"Jaune de cobalt\",\"Jaune de Naples\",\"Jaune impérial\",\"Jaune mimosa\",\"Jaune moutarde\",\"Jaune nankin\",\"Jaune olive\",\"Jaune paille\",\"Jaune poussin\",\"Kaki\",\"Klein\",\"Lapis-lazuli\",\"Lavallière\",\"Lavande\",\"Lie de vin\",\"Lilas\",\"Magenta\",\"Magenta foncé\",\"Magenta fushia\",\"Maïs\",\"Mandarine\",\"Marron\",\"Mars\",\"Mastic\",\"Mauve\",\"Melon\",\"Menthe\",\"Menthe à l'eau\",\"Miel\",\"Mordoré\",\"Nacarat\",\"Noir\",\"Noir animal\",\"Noir charbon\",\"Noir d'aniline\",\"Noir d'encre\",\"Noir d'ivoire\",\"Noir de carbone\",\"Noir de fumée\",\"Noir de jais\",\"Noiraud\",\"Noisette\",\"Ocre jaune\",\"Ocre rouge\",\"Or\",\"Orange\",\"Orange brûlée\",\"Orchidée\",\"Orpiment\",\"Parme\",\"Passe-velours\",\"Pastel\",\"Pêche\",\"Pervenche\",\"Pinchard\",\"Plomb\",\"Poil de chameau\",\"Pourpre\",\"Prune\",\"Puce\",\"Queue de vache\",\"Réglisse\",\"Rose\",\"Rose balais\",\"Rose bonbon\",\"Rose dragée\",\"Rose Mountbatten\",\"Rose thé\",\"Rose vif\",\"Rouge\",\"Rouge alizarine\",\"Rouge anglais\",\"Rouge bismarck\",\"Rouge bourgogne\",\"Rouge capucine\",\"Rouge cardinal\",\"Rouge carmin\",\"Rouge cinabre\",\"Rouge coquelicot\",\"Rouge cramoisi\",\"Rouge d'Andrinople\",\"Rouge d'aniline\",\"Rouge de falun\",\"Rouge de mars\",\"Rouge écrevisse\",\"Rouge feu\",\"Rouge garance\",\"Rouge groseille\",\"Rouge ponceau\",\"Rouge rubis\",\"Rouge sang\",\"Rouge tomate\",\"Rouge tomette\",\"Rouge turc\",\"Rouge vermillon\",\"Rouge-violet\",\"Rouille\",\"Roux\",\"Sable\",\"Safran\",\"Sang de boeuf\",\"Saumon\",\"Senois\",\"Sépia\",\"Sinople\",\"Soufre\",\"Tabac\",\"Tangerine\",\"Tanné\",\"Taupe\",\"Terracotta\",\"Terre d'ombre\",\"Terre de Sienne\",\"Topaze\",\"Tourdille\",\"Turquoise\",\"Vanille\",\"Vénitien\",\"Ventre de biche\",\"Vermeil\",\"Vert\",\"Vert absinthe\",\"Vert amande\",\"Vert anglais\",\"Vert anis\",\"Vert avocat\",\"Vert bouteille\",\"Vert chartreuse\",\"Vert citron\",\"Vert d'eau\",\"Vert de chrome\",\"Vert de gris\",\"Vert de vessie\",\"Vert émeraude\",\"Vert empire\",\"Vert épinard\",\"Vert gazon\",\"Vert impérial\",\"Vert kaki\",\"Vert lichen\",\"Vert lime\",\"Vert malachite\",\"Vert mélèse\",\"Vert militaire\",\"Vert mousse\",\"Vert olive\",\"Vert opaline\",\"Vert perroquet\",\"Vert pin\",\"Vert pistache\",\"Vert poireau\",\"Vert pomme\",\"Vert prairie\",\"Vert prasin\",\"Vert printemps\",\"Vert sapin\",\"Vert sauge\",\"Vert smaragdin\",\"Vert tilleul\",\"Vert véronèse\",\"Vert viride\",\"Violet\",\"Violet d'évêque\",\"Violine\",\"Zinzolin\"]\n",
    "capitales = [\"Abou Dhabi\",\"Abuja\",\"Accra\",\"Achgabat\",\"Addis Abeba\",\"Alger\",\"Amman\",\"Amsterdam\",\"Andorre-la-Vieille\",\"Ankara\",\"Antananarivo\",\"Apia\",\"Asmara\",\"Astana\",\"Asunción\",\"Athènes\",\"Bagdad\",\"Bakou\",\"Bamako\",\"Bangkok\",\"Bangui\",\"Banjul\",\"Belgrade\",\"Belmopa\",\"Berlin\",\"Berne\",\"Beyrouth\",\"Bichkek\",\"Bissau\",\"Bogota\",\"Brasilia\",\"Bratislava\",\"Bridgetown\",\"Bruxelles\",\"Bucarest\",\"Budapest\",\"Buenos Aires\",\"Bujumbura\",\"Canberra\",\"Caracas\",\"Chisinau\",\"Colombo\",\"Conakry\",\"Copenhague\",\"Daccan\",\"Dakar\",\"Damas\",\"Dar es Salam\",\"Delhi\",\"Djibouti\",\"Doha\",\"Douchanbé\",\"Dublin\",\"Erevan\",\"Freetown\",\"Funafuti\",\"Gaborone\",\"Georgetown\",\"Guatemala\",\"Hanoï\",\"Harare\",\"Helsinki\",\"Islamabad\",\"Jakarta\",\"Jérusalem\",\"Kaboul\",\"Kampala\",\"Katmandou\",\"Khartoum\",\"Kiev\",\"Kigali\",\"Kingston\",\"Kinshasa\",\"Koweït\",\"Kuala Lumpur\",\"La Havane\",\"La Paz\",\"La Valette\",\"Le Caire\",\"Libreville\",\"Lilongwe\",\"Lima\",\"Lisbonne\",\"Ljubljana\",\"Lomé\",\"Londres\",\"Lusaka\",\"Luxembourg\",\"Madrid\",\"Malabo\",\"Malé\",\"Managua\",\"Manama\",\"Manille\",\"Maputo\",\"Mascate\",\"Mbabane\",\"Mexico\",\"Minsk\",\"Mogadiscio\",\"Monaco\",\"Monrovia\",\"Montevideo\",\"Moroni\",\"Moscou\",\"Nairobi\",\"Nassau\",\"Ndjamena\",\"Niamey\",\"Nicosie\",\"Nouakchott\",\"Nuku'alofa\",\"Oslo\",\"Ottawa\",\"Ouagadougou\",\"Oulan-Bator\",\"Panama\",\"Paramaribo\",\"Paris\",\"Pékin\",\"Phnom Penh\",\"Podgorica\",\"Port Moresby\",\"Port of Spain\",\"Port-au-Prince\",\"Port-Vila\",\"Porto-Novo\",\"Prague\",\"Pretoria\",\"Pyongyang\",\"Quito\",\"Rabat\",\"Rangoun\",\"Reykjavik\",\"Riga\",\"Riyad\",\"Rome\",\"Saint-Domingue\",\"San José\",\"San Salvador\",\"Sanaa\",\"Santiago\",\"Sao Tomé\",\"Sarajevo\",\"Séoul\",\"Singapour\",\"Skopje\",\"Sofia\",\"Stockholm\",\"Suva\",\"Tachkent\",\"Tallinn\",\"Tbilissi\",\"Tegucigalpa\",\"Téhéran\",\"Tirana\",\"Tokyo\",\"Tripoli\",\"Tunis\",\"Vaduz\",\"Varsovie\",\"Vatican\",\"Victoria\",\"Vienne\",\"Vientiane\",\"Vilnius\",\"Washington\",\"Wellington\",\"Windhoek\",\"Yamoussoukro\",\"Yaoundé\",\"Zagreb\"]\n",
    "arbres = [\"Abelia\",\"Abricotier\",\"Acacia\",\"Acajou\",\"Acerola\",\"Acokanthera\",\"Adenia\",\"Adenium\",\"Agave\",\"Ailante\",\"Ailante glanduleux\",\"Airelle rouge\",\"Akebie à 5 feuilles\",\"Albizia\",\"Amandier\",\"Amélanchier\",\"Amorpha\",\"Anacardier\",\"Aporocactus\",\"Aquilaria crassna\",\"Aralia de Californie\",\"Aralia elata\",\"Araucaria\",\"Arbousier\",\"Arbre à miel\",\"Arbre à pain\",\"Arbre au caramel\",\"Arbre aux anémones\",\"Arbre aux faisans\",\"Arbre aux lanternes\",\"Arbre aux perles\",\"Arbre de judé\",\"Arbre de soie\",\"Arbre du clergé\",\"Arbre orchidée\",\"Argousier\",\"Asiminier trilobé\",\"Aubépine\",\"Aucuba\",\"Aulne\",\"Avocatier\",\"Azerolier\",\"Baguenaudier\",\"Bambou\",\"Bananier\",\"Baobab\",\"Beaucarnea\",\"Bélombra\",\"Benjoin\",\"Berberis\",\"Bergamotier\",\"Bibacier\",\"Bigaradier\",\"Bignone\",\"Bilimbi\",\"Bougainvillier\",\"Bouleau\",\"Bouleau verruqueux\",\"Bourdaine\",\"Brachychiton acerifolius\",\"Brugmansia\",\"Buddleia de David\",\"Buis\",\"Cacaoyer\",\"Cactus\",\"Caféier\",\"Callistemon citrinus\",\"Calocèdre\",\"Camélia\",\"Camphrier\",\"Canneberge\",\"Cannelier\",\"Cannelle de Magellan\",\"Câprier\",\"Caraganier de Sibérie\",\"Carambolier\",\"Caroubier\",\"Caryer ovale\",\"Casseille\",\"Cassissier\",\"Catalpa\",\"Cédratier\",\"Cèdre\",\"Ceiba\",\"Cephalotaxe de fortune\",\"Cerisier\",\"Charme\",\"Châtaignier\",\"Chêne\",\"Cherimolier\",\"Chèvrefeuille\",\"Citrangequat\",\"Citronnier\",\"Cocotier\",\"Cognassier\",\"Combava\",\"Cormier\",\"Cornouiller\",\"Cotinus\",\"Cotonnier\",\"Cynorhodon\",\"Cyprès\",\"Cytise\",\"Davidia\",\"Delonix regia\",\"Deutzia\",\"Dragonnier\",\"Echinocactus platyacanthus\",\"Eglantier\",\"Elaeagnus multiflore\",\"Elaeagnus umbrellata\",\"Epicéa\",\"Epinette\",\"Erable\",\"Erhetia\",\"Escallonia rubra\",\"Eucalyptus\",\"Exochorda\",\"Fatsia du Japon\",\"Feijoa\",\"Févier\",\"Figuier\",\"Filaire\",\"Filao\",\"Firmiana simplex\",\"Forsythia\",\"Fragon\",\"Framboisier\",\"Frangipanier\",\"Frêne\",\"Fusain ailé\",\"Fushia de Magellan\",\"Gainier du canada\",\"Gardenia jasminoides\",\"Gardenia thunbergia\",\"Gattilier\",\"Genêt à balais\",\"Genévrier\",\"Geranium jungle\",\"Germandrée arbustive\",\"Ginkgo biloba\",\"Girembellier\",\"Giroflier\",\"Glycine\",\"Gommier\",\"Grenadier\",\"Griottier\",\"Griselinia littoralis\",\"Groseillier\",\"Hamamélis\",\"Henné\",\"Hêtre\",\"Hévéa\",\"Hiba\",\"Hibiscus\",\"Hièble\",\"Hortensia\",\"Houx\",\"Hoya\",\"Hydrangea\",\"Idesia\",\"If\",\"Iochrome\",\"Jacaranda\",\"Jasmin de Madagascar\",\"Jojoba\",\"Jujubier\",\"Kaki\",\"Kalmia\",\"Kalopanax\",\"Kaloupilé\",\"Kauri\",\"Kiwaï\",\"Kiwi\",\"Kolkwitzia\",\"Kumquat\",\"L'Arbre corail\",\"Lasiocereus rupicola\",\"Latanier\",\"Laurier\",\"Lavatèra trimestris\",\"Liane de jade\",\"Libocèdre\",\"Lilas\",\"Liquidambar\",\"Longanier\",\"Lycianthes rantonnetii\",\"Lyciet de Barbarie\",\"Madrone du pacifique\",\"Magnolia\",\"Mandarinier\",\"Mehonia\",\"Mélèze\",\"Merisier\",\"Metrosideros\",\"Micocoulier\",\"Mimosa\",\"Mirabellier\",\"Mûre de Logan\",\"Murier blanc\",\"Mûrier platane\",\"Muscadier\",\"Myrte\",\"Myrtille arbustive\",\"Nashi\",\"Nectarinier\",\"Néflier\",\"Nerprun\",\"Niaouli\",\"Noisetier\",\"Nopal, cactus\",\"Notro\",\"Noyer\",\"Nyssa sylvestres\",\"Olivier\",\"Oranger\",\"Orme\",\"Osmophore\",\"Oxydendron\",\"Pacanier\",\"Palmier\",\"Pamplemoussier\",\"Papayer\",\"Parasolier\",\"Parrotia\",\"Paulownia\",\"Pavier rouge\",\"Pêcher\",\"Pepino\",\"Pernambouc\",\"Peuplier\",\"Phellodendron\",\"Photinia\",\"Physalis alkekenge\",\"Physocarpe pacifique\",\"Pieris\",\"Pin\",\"Pin parasol\",\"Pistachier\",\"Pivoine arbustive\",\"Platane\",\"Poirier\",\"Pommier\",\"Poncirier\",\"Prosopis alba\",\"Prunier\",\"Pterocarya stenoptera\",\"Pterocaryer du caucase\",\"Pterostyrax corymbosus\",\"Pyracanthe\",\"Quercus\",\"Quinina rouge\",\"Quisqualier\",\"Ragouminier\",\"Rauwolfia caffra\",\"Ravenale\",\"Rhododendron\",\"Rhubarbe\",\"Rosa beggeriana\",\"Rosa canina\",\"Ruttya fruticosa\",\"Sapin\",\"Sapotillier\",\"Sarcococca confusa\",\"Sassafra albidum\",\"Saule\",\"Saule marsault\",\"Saule pleureur\",\"Savonnier de Chine\",\"Schizophragma hydrangeoide\",\"Séquoia\",\"Séquoia géant\",\"Seringat\",\"Sophora\",\"Sorbier\",\"Stachyurus\",\"Stenocactus Vaupelianus\",\"Stewartia\",\"Sumac des corroyeurs\",\"Sureau\",\"Sureau-Sambucus\",\"Symphorine\",\"Tabebuia\",\"Tamarillo\",\"Tamarinier\",\"Tamaris de printemps\",\"Tasmannia\",\"Teck\",\"Tetrapanax papyrifer\",\"Théier\",\"Thelocactus macdowellii\",\"Thuya\",\"Thuya de Chine\",\"Tilleul\",\"Torreya\",\"Torreya du Japon\",\"Trachycarpus\",\"Trochodendron\",\"Troéne\",\"Tsuga\",\"Tulipier de virginie\",\"Ulmo\",\"Umbillicus rupestris\",\"Vernis du Japon\",\"Vigne\",\"Vinaigrier\",\"Viorne\",\"Virgilier\",\"Weigelia\",\"Wengé\",\"Wodyetia bifurcata\",\"Wollemia nobilis\",\"Xanthoceras\",\"Xanthorrhoea glauca\",\"Xanthoxylum-fagara\",\"Yerba maté\",\"Ylang-ylang\",\"Yucca\",\"Zelkova\",\"Ziziphus mucronata\"]\n",
    "pays = [\"Afghanistan\",\"Afrique du sud\",\"Albanie\",\"Algérie\",\"Allemagne\",\"Andorre\",\"Angleterre\",\"Angola\",\"Anguilla\",\"Antarctique\",\"Antigua et Barbuda\",\"Antilles néerlandaises\",\"Arabie saoudite\",\"Argentine\",\"Arménie\",\"Aruba\",\"Australie\",\"Autriche\",\"Azerbaïdjan\",\"Bahamas\",\"Bahrain\",\"Bangladesh\",\"Belgique\",\"Belize\",\"Benin\",\"Bermudes\",\"Bhoutan\",\"Biélorussie\",\"Birmanie\",\"Bolivie\",\"Bosnie-Herzégovine\",\"Botswana\",\"Bouvet\",\"Brésil\",\"Brunei\",\"Bulgarie\",\"Burkina Faso\",\"Burundi\",\"Cambodge\",\"Cameroun\",\"Canada\",\"Cap Vert\",\"Cayman\",\"Chili\",\"Chine\",\"Christmas\",\"Chypre\",\"Cocos\",\"Colombie\",\"Comores\",\"Congo\",\"Cook\",\"Corée du Nord\",\"Corée du Sud\",\"Costa Rica\",\"Côte d'Ivoire\",\"Croatie\",\"Cuba\",\"Danemark\",\"Djibouti\",\"Dominique\",\"Egypte\",\"El Salvador\",\"Emirats arabes unis\",\"Equateur\",\"Erythrée\",\"Espagne\",\"Estonie\",\"Etats-Unis\",\"Ethiopie\",\"Falkland\",\"Féroé\",\"Fidji\",\"Finlande\",\"France\",\"Gabon\",\"Gambie\",\"Géorgie\",\"Ghana\",\"Gibraltar\",\"Grèce\",\"Grenade\",\"Groenland\",\"Guadeloupe\",\"Guam\",\"Guatemala\",\"Guinée\",\"Guinée Equatoriale\",\"Guinée-Bissau\",\"Guyane\",\"Guyane française\",\"Haïti\",\"Honduras\",\"Hongrie\",\"Inde\",\"Indonésie\",\"Irak\",\"Iran\",\"Irlande\",\"Islande\",\"Israël\",\"Italie\",\"Jamaïque\",\"Japon\",\"Jordanie\",\"Kazakhstan\",\"Kenya\",\"Kirghizistan\",\"Kiribati\",\"Koweit\",\"La Barbad\",\"Laos\",\"Lesotho\",\"Lettonie\",\"Liban\",\"Libéria\",\"Libye\",\"Liechtenstein\",\"Lithuanie\",\"Luxembourg\",\"Macau\",\"Macédoine\",\"Madagascar\",\"Malaisie\",\"Malawi\",\"Maldives\",\"Mali\",\"Malte\",\"Mariannes du Nord\",\"Maroc\",\"Marshall\",\"Martinique\",\"Maurice\",\"Mauritanie\",\"Mayotte\",\"Mexique\",\"Micronésie\",\"Moldavie\",\"Monaco\",\"Mongolie\",\"Montserrat\",\"Mozambique\",\"Myanmar\",\"Namibie\",\"Nauru\",\"Nepal\",\"Nicaragua\",\"Niger\",\"Nigeria\",\"Niue\",\"Norfolk\",\"Norvège\",\"Nouvelle Calédonie\",\"Nouvelle-Zélande\",\"Oman\",\"Ouganda\",\"Ouzbékistan\",\"Pakistan\",\"Palau\",\"Panama\",\"Papouasie-Nouvelle-Guinée\",\"Paraguay\",\"Pays-Bas\",\"Pérou\",\"Philippines\",\"Pitcairn\",\"Pologne\",\"Polynésie française\",\"Porto Rico\",\"Portugal\",\"Qatar\",\"République centrafricaine\",\"République Dominicaine\",\"République tchèque\",\"Réunion\",\"Roumanie\",\"Royaume-Uni\",\"Russie\",\"Rwanda\",\"Sahara Occidental\",\"Saint Pierre et Miquelon\",\"Saint Vincent et les Grenadine\",\"Saint-Kitts et Nevis\",\"Saint-Marin\",\"Sainte Hélène\",\"Sainte Lucie\",\"Samoa\",\"Sénégal\",\"Seychelles\",\"Sierra Leone\",\"Singapour\",\"Slovaquie\",\"Slovénie\",\"Somalie\",\"Soudan\",\"Sri Lanka\",\"Suède\",\"Suisse\",\"Suriname\",\"Syrie\",\"Tadjikistan\",\"Taiwan\",\"Tanzanie\",\"Tchad\",\"Thailande\",\"Timor\",\"Togo\",\"Tokelau\",\"Tonga\",\"Trinité et Tobago\",\"Tunisie\",\"Turkménistan\",\"Turquie\",\"Tuvalu\",\"Ukraine\",\"Uruguay\",\"Vanuatu\",\"Vatican\",\"Venezuela\",\"Vierges\",\"Vietnam\",\"Wallis et Futuna\",\"Yemen\",\"Yougoslavie\",\"Zaïre\",\"Zambie\",\"Zimbabwe\"]\n",
    "sports = [\"Accrobranche\",\"Aerobic\",\"Aéromodélisme\",\"Aérostation\",\"Agility\",\"Aikido\",\"Airsoft\",\"Alpinisme\",\"Apnée\",\"Athlétisme\",\"Aviation\",\"Aviron\",\"Babyfoot\",\"Badminton\",\"Baseball\",\"Basketball\",\"Biathlon\",\"Billard\",\"BMX\",\"Bobsleigh\",\"Boccia\",\"Bodyboard\",\"Boomerang\",\"Bowling\",\"Boxe\",\"Bridge\",\"Canoë\",\"Canoë-kayak\",\"Canyonisme\",\"Capoeira\",\"Carrom\",\"Catch\",\"Chanbara\",\"Cheerleading\",\"Cirque\",\"Claquettes\",\"Combat\",\"Course\",\"Cricket\",\"Croquet\",\"Crosse\",\"Crossfit\",\"Curling\",\"Cyclisme\",\"Danse\",\"Danse orientale\",\"Deltaplane\",\"Echecs\",\"Equitation\",\"Escalade\",\"Escrime\",\"Fitness\",\"Flag\",\"Fléchettes\",\"Floorball\",\"Football\",\"Footing\",\"Funboard\",\"Futsal\",\"Giraviation\",\"Golf\",\"Gouren\",\"Grappling\",\"Gymnastique\",\"Haltérophilie\",\"Handball\",\"Handisport\",\"Hapkido\",\"Hockey\",\"Iaïdo\",\"Jetski\",\"Jodo\",\"Jorkyball\",\"Joutes\",\"Ju-Jitsu\",\"Judo\",\"Karaté\",\"Karting\",\"Kempo\",\"Kendo\",\"Kenjutsu\",\"Kitesurf\",\"Kobudo\",\"Krav-maga\",\"Kyudo\",\"Lancer du javelot\",\"Lancer du marteau\",\"Lancer du poids\",\"Luge\",\"Lutte\",\"Marche\",\"Monocycle\",\"Moto\",\"Motoneige\",\"Mountainboard\",\"Musculation\",\"Naginata\",\"Natation\",\"Natation synchronisée\",\"Ninjitsu\",\"Nunchaku\",\"Omnikin\",\"Padel\",\"Paintball\",\"Pancrace\",\"Parachutisme\",\"Paramoteur\",\"Parapente\",\"Patinage\",\"Pêche\",\"Pentathlon\",\"Pétanque\",\"Peteca\",\"Planche à voile\",\"Plongée\",\"Plongeon\",\"Polo\",\"Qi gong\",\"Quad\",\"Quilles\",\"Rafting\",\"Ragga\",\"Raid\",\"Rallye\",\"Randonnée\",\"Rock\",\"Roller\",\"Rugby\",\"Salsa\",\"Samba\",\"Sambo\",\"Sarbacane\",\"Sauvetage\",\"Skateboard\",\"Skeleton\",\"Ski\",\"Snowboard\",\"Softball\",\"Spéléologie\",\"Squash\",\"Sumo\",\"Surf\",\"Taekwondo\",\"Tambourin\",\"Tango\",\"Tennis\",\"Tir\",\"Tir à l'arc\",\"Traîneaux\",\"Trampoline\",\"Triathlon\",\"Trottinette\",\"Tumbling\",\"ULM\",\"Ultimate\",\"Ultimate fresbee\",\"Varappe\",\"Vélo\",\"Voile\",\"Volleyball\",\"Voltige\",\"VTT\",\"Wakeboard\",\"Waterpolo\",\"Yoga\",\"Zumba\"]\n"
   ]
  },
  {
   "cell_type": "markdown",
   "metadata": {},
   "source": [
    "*Question 1 :*  Compléter la fonction `mots_avec_initiale` qui prend en paramètres une liste de mots telles que celles ci-dessus et renvoie un dictionnaire :\n",
    "- dont les clefs sont les initiales majuscules des mots présents dans la liste,\n",
    "- dont les valeurs sont les listes de tous les mots ayant cette initiale.\n",
    "\n",
    "On aura par exemple :\n",
    "\n",
    "```\n",
    "mots_par_initiale(legumes) = { 'A' : [\"Ail\",\"Artichaut\",\"Asperge\",\"Aubergine\",\"Avocat\"],\n",
    "                               'B' : [\"Bette\",\"Betterave\",\"Blette\",\"Brocoli\"],\n",
    "                               .\n",
    "                               .\n",
    "                               .\n",
    "                               'Y' : [\"Yin Tsoï\"]}\n",
    "```"
   ]
  },
  {
   "cell_type": "code",
   "execution_count": null,
   "metadata": {},
   "outputs": [],
   "source": [
    "def mots_par_initiale(liste):\n",
    "    dictionnaire = {}\n",
    "    for mot in liste :\n",
    "        if ... in ...:\n",
    "            ...\n",
    "        else:\n",
    "            ...\n",
    "    return ...        "
   ]
  },
  {
   "cell_type": "code",
   "execution_count": null,
   "metadata": {},
   "outputs": [],
   "source": [
    "mots_par_initiale(metiers)"
   ]
  },
  {
   "cell_type": "markdown",
   "metadata": {},
   "source": [
    "*Question 2 :*  En utilisant la fonction précédente, compléter le code de la fonction `mot_aleatoire` qui prend en paramètres une liste de mots comme ci-dessus et une initiale et renvoie un mot au hasard parmi les mots de la liste ayant cette initiale.  \n",
    "\n",
    "Si aucun mot de la liste n'a cette initiale, on renverra la chaîne de caractères vide."
   ]
  },
  {
   "cell_type": "code",
   "execution_count": null,
   "metadata": {},
   "outputs": [],
   "source": [
    "from random import choice\n",
    "\n",
    "def mot_aleatoire(liste, initiale):\n",
    "    dico_initiales = mots_par_initiale(liste)\n",
    "    ...\n",
    "    ...\n",
    "    return ..."
   ]
  },
  {
   "cell_type": "code",
   "execution_count": null,
   "metadata": {},
   "outputs": [],
   "source": [
    "mot_aleatoire(metiers, 'C')"
   ]
  },
  {
   "cell_type": "markdown",
   "metadata": {},
   "source": [
    "## Pause ... On choisit de regrouper toutes les listes dans un gros dictionnaire :"
   ]
  },
  {
   "cell_type": "code",
   "execution_count": null,
   "metadata": {},
   "outputs": [],
   "source": [
    "CATALOGUE = {\"animaux\" : animaux, \n",
    "             \"metiers\" : metiers,\n",
    "             \"legumes\" : legumes,\n",
    "             \"fleurs\" : fleurs,\n",
    "             \"fruits\" : fruits,\n",
    "             \"capitales\" : capitales,\n",
    "             \"arbres\" : arbres, \n",
    "             \"pays\" : pays,\n",
    "             \"sports\" : sports}"
   ]
  },
  {
   "cell_type": "markdown",
   "metadata": {},
   "source": [
    "On considère que `CATALOGUE` est une constante, on peut donc la déclarer en variable globale dans n'importe quelle fonction et accéder ainsi au contenu de toutes les listes sans avoir à les passer en paramètres (ce serait assez lourd de mettre neuf paramètres à une fonction pour les neuf listes).\n",
    "\n",
    "Voici un exemple d'utilisation (qui ne sert à rien) avec un accumulateur :"
   ]
  },
  {
   "cell_type": "code",
   "execution_count": null,
   "metadata": {},
   "outputs": [],
   "source": [
    "def test_inutile():\n",
    "    global CATALOGUE\n",
    "    premiers_mots = []\n",
    "    for theme, liste_theme in CATALOGUE.items():\n",
    "        premiers_mots.append((theme, liste_theme[0]))\n",
    "    return premiers_mots\n",
    "\n",
    "test_inutile()\n",
    "    "
   ]
  },
  {
   "cell_type": "markdown",
   "metadata": {},
   "source": [
    "# Partie 2"
   ]
  },
  {
   "cell_type": "markdown",
   "metadata": {},
   "source": [
    "*Question 3 :* Ecrire le code d'une fonction `solution` qui prend en paramètre une initiale et renvoie une solution aléatoire correspondant à cette initiale au jeu du petit BAC avec les neuf thèmes ci-dessus.\n",
    "\n",
    "Votre fonction utilisera la fonction `mot_aleatoire` ci-dessus."
   ]
  },
  {
   "cell_type": "code",
   "execution_count": null,
   "metadata": {},
   "outputs": [],
   "source": [
    "def solution(initiale):\n",
    "    global CATALOGUE\n",
    "    ...\n",
    "    ...\n",
    "    ...\n",
    "    return"
   ]
  },
  {
   "cell_type": "code",
   "execution_count": null,
   "metadata": {},
   "outputs": [],
   "source": [
    "solution('P')"
   ]
  }
 ],
 "metadata": {
  "kernelspec": {
   "display_name": "Python 3",
   "language": "python",
   "name": "python3"
  },
  "language_info": {
   "codemirror_mode": {
    "name": "ipython",
    "version": 3
   },
   "file_extension": ".py",
   "mimetype": "text/x-python",
   "name": "python",
   "nbconvert_exporter": "python",
   "pygments_lexer": "ipython3",
   "version": "3.7.2"
  }
 },
 "nbformat": 4,
 "nbformat_minor": 4
}
