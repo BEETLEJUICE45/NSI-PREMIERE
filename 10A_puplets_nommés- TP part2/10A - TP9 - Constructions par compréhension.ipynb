{
 "cells": [
  {
   "cell_type": "markdown",
   "metadata": {},
   "source": [
    "# 10A - TP9 - Constructions par compréhension"
   ]
  },
  {
   "cell_type": "markdown",
   "metadata": {},
   "source": [
    "*Question 1 :* Compléter l'instruction ci-dessous afin d'obtenir un dictionnaire de la forme ci-dessous contenant les 21 première spuissances de deux (de  `2**0` jusqu'à `2**20`) :\n",
    "```\n",
    "dico = {0:1, 1:2, 2:4, 3:8, 4:16, 5:32, 6:64 ...}\n",
    "```"
   ]
  },
  {
   "cell_type": "code",
   "execution_count": null,
   "metadata": {},
   "outputs": [],
   "source": [
    "dico = {...:... for ... in range(31)}\n",
    "dico"
   ]
  },
  {
   "cell_type": "markdown",
   "metadata": {},
   "source": [
    "<br/>\n",
    "\n",
    "<br/>\n",
    "\n",
    "\n",
    "*Question 2 :* On dispose d'un dictionnaire donnant les soldes (c-à-d les montants) de différents comptes en banque désignés par leurs numéros internes de comptes :"
   ]
  },
  {
   "cell_type": "code",
   "execution_count": null,
   "metadata": {},
   "outputs": [],
   "source": [
    "soldes = { '12P45' : 1288.59, '34F89' : 584.46, '86L21' : 8451.36, '87T56' : 41.25, '21P21' : -12.84,\n",
    "            '89Y67' : 2354.41, '88L91' : 15647.98, '44V65' : 687.10, '96Q78' : 3457.91, '77X04' : 864.29}"
   ]
  },
  {
   "cell_type": "markdown",
   "metadata": {},
   "source": [
    "Compléter l'instruction ci-dessous afin d'obtenir un sous-dictionnaire ne contenant que les paires `clef:valeur` correspondant à des soldes supérieurs à 1000 euros."
   ]
  },
  {
   "cell_type": "code",
   "execution_count": null,
   "metadata": {},
   "outputs": [],
   "source": [
    "soldes_sup_1000 = {...:... for ..., ... in ... if ...}\n",
    "soldes_sup_1000"
   ]
  },
  {
   "cell_type": "markdown",
   "metadata": {},
   "source": [
    "<br/>\n",
    "\n",
    "\n",
    "<br/>\n",
    "\n",
    "\n",
    "*Question 3 :* On dispose de deux listes donnant les numéros des départements et les noms des départements (dans le même ordre)."
   ]
  },
  {
   "cell_type": "code",
   "execution_count": null,
   "metadata": {},
   "outputs": [],
   "source": [
    "numeros = [\"1\",\"2\",\"3\",\"4\",\"5\",\"6\",\"7\",\"8\",\"9\",\"10\",\"11\",\"12\",\"13\",\"14\",\"15\",\"16\",\"17\",\"18\",\"19\",\"2A\",\"2B\",\"21\",\"22\",\"23\",\"24\",\"25\",\"26\",\"27\",\"28\",\"29\",\"30\",\"31\",\"32\",\"33\",\"34\",\"35\",\"36\",\"37\",\"38\",\"39\",\"40\",\"41\",\"42\",\"43\",\"44\",\"45\",\"46\",\"47\",\"48\",\"49\",\"50\",\"51\",\"52\",\"53\",\"54\",\"55\",\"56\",\"57\",\"58\",\"59\",\"60\",\"61\",\"62\",\"63\",\"64\",\"65\",\"66\",\"67\",\"68\",\"69\",\"70\",\"71\",\"72\",\"73\",\"74\",\"75\",\"76\",\"77\",\"78\",\"79\",\"80\",\"81\",\"82\",\"83\",\"84\",\"85\",\"86\",\"87\",\"88\",\"89\",\"90\",\"91\",\"92\",\"93\",\"94\",\"95\",\"971\",\"972\",\"973\",\"974\",\"976\"]\n",
    "noms = [\"Ain\",\"Aisne\",\"Allier\",\"Alpes-de-Haute-Provence\",\"Hautes-Alpes\",\"Alpes-Maritimes\",\"Ardèche\",\"Ardennes\",\"Ariège\",\"Aube\",\"Aude\",\"Aveyron\",\"Bouches-du-Rhône\",\"Calvados\",\"Cantal\",\"Charente\",\"Charente-Maritime\",\"Cher\",\"Corrèze\",\"Corse-du-Sud\",\"Haute-Corse\",\"Côte-d'Or\",\"Côtes d'Armor\",\"Creuse\",\"Dordogne\",\"Doubs\",\"Drôme\",\"Eure\",\"Eure-et-Loir\",\"Finistère\",\"Gard\",\"Haute-Garonne\",\"Gers\",\"Gironde\",\"Hérault\",\"Ille-et-Vilaine\",\"Indre\",\"Indre-et-Loire\",\"Isère\",\"Jura\",\"Landes\",\"Loir-et-Cher\",\"Loire\",\"Haute-Loire\",\"Loire-Atlantique\",\"Loiret\",\"Lot\",\"Lot-et-Garonne\",\"Lozère\",\"Maine-et-Loire\",\"Manche\",\"Marne\",\"Haute-Marne\",\"Mayenne\",\"Meurthe-et-Moselle\",\"Meuse\",\"Morbihan\",\"Moselle\",\"Nièvre\",\"Nord\",\"Oise\",\"Orne\",\"Pas-de-Calais\",\"Puy-de-Dôme\",\"Pyrénées-Atlantiques\",\"Hautes-Pyrénées\",\"Pyrénées-Orientales\",\"Bas-Rhin\",\"Haut-Rhin\",\"Rhône\",\"Haute-Saône\",\"Saône-et-Loire\",\"Sarthe\",\"Savoie\",\"Haute-Savoie\",\"Paris\",\"Seine-Maritime\",\"Seine-et-Marne\",\"Yvelines\",\"Deux-Sèvres\",\"Somme\",\"Tarn\",\"Tarn-et-Garonne\",\"Var\",\"Vaucluse\",\"Vendée\",\"Vienne\",\"Haute-Vienne\",\"Vosges\",\"Yonne\",\"Territoire de Belfort\",\"Essonne\",\"Hauts-de-Seine\",\"Seine-St-Denis\",\"Val-de-Marne\",\"Val-D'Oise\",\"Guadeloupe\",\"Martinique\",\"Guyane\",\"La Réunion\", \"Mayotte\"]"
   ]
  },
  {
   "cell_type": "markdown",
   "metadata": {},
   "source": [
    "Compléter l'instruction ci-dessous afin d'obtenir un dictionnaire dont les clefs corresondent aux numéros des départements et dont les valeurs correspondent aux noms des départements :\n",
    "```\n",
    "departement = { \"1\" : \"Ain\", \"2\" : \"Aisne\", \"3\" : \"Allier\" ...}\n",
    "```"
   ]
  },
  {
   "cell_type": "code",
   "execution_count": null,
   "metadata": {},
   "outputs": [],
   "source": [
    "departement = {...:... for ... in range(...)}"
   ]
  },
  {
   "cell_type": "code",
   "execution_count": null,
   "metadata": {},
   "outputs": [],
   "source": [
    "departement[\"45\"]"
   ]
  },
  {
   "cell_type": "markdown",
   "metadata": {},
   "source": [
    "<br/>\n",
    "\n",
    "\n",
    "<br/>\n",
    "\n",
    "\n",
    "*Question 4 :* On dispose d'un dictionnaire donnant les âges de chats hosiptalisés chez un vétérinaire :"
   ]
  },
  {
   "cell_type": "code",
   "execution_count": null,
   "metadata": {},
   "outputs": [],
   "source": [
    "ages = {'Mirza' : 7, 'Tom' : 4, 'Moustache' : 6, 'Patoune' : 5, 'Frisco' : 6, 'Tacos' : 5, 'Sleepy' : 3, 'Belle' : 4, 'Zaza' : 11, 'Oxmo' : 13}"
   ]
  },
  {
   "cell_type": "markdown",
   "metadata": {},
   "source": [
    "Compléter l'instruction suivante afin d'obtenir la **liste** de tous les noms de chats ayant plus de 7 ans."
   ]
  },
  {
   "cell_type": "code",
   "execution_count": null,
   "metadata": {},
   "outputs": [],
   "source": [
    "chats_ages = [ ... for ..., ... in ... if ... >= ...]\n",
    "chats_ages"
   ]
  }
 ],
 "metadata": {
  "kernelspec": {
   "display_name": "Python 3",
   "language": "python",
   "name": "python3"
  },
  "language_info": {
   "codemirror_mode": {
    "name": "ipython",
    "version": 3
   },
   "file_extension": ".py",
   "mimetype": "text/x-python",
   "name": "python",
   "nbconvert_exporter": "python",
   "pygments_lexer": "ipython3",
   "version": "3.7.2"
  }
 },
 "nbformat": 4,
 "nbformat_minor": 4
}
