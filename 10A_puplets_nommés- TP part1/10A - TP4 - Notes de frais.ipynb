{
 "cells": [
  {
   "cell_type": "markdown",
   "metadata": {},
   "source": [
    "# 10A - TP4 - Notes de frais\n",
    "\n",
    "*Remarque 1 :* Soit `dico` un dictionnaire défini à l'extérieur d'une fonction. Les modifications effectuées par **mutation** sur la variable `dico` à l'intérieur d'une fonction prendront également effet sur le contenu de la variable `dico` à l'extérieur de la fonction.\n"
   ]
  },
  {
   "cell_type": "markdown",
   "metadata": {},
   "source": [
    "  \n",
    "On appelle notes de frais les dépenses  effectuées par des salariés dans le cadre de leur travail et que l'entreprise devra leur remourser (par exemple les repas pris à l'extérieur, les frais de déplacement, l'achat de petit matériel etc.)\n",
    "\n",
    "\n",
    "Dans une entreprise, les montants quotidiens des notes de frais sont comptabilisés dans des dictionnaires de la forme suivante :"
   ]
  },
  {
   "cell_type": "code",
   "execution_count": 1,
   "metadata": {},
   "outputs": [],
   "source": [
    "ndf_1 = {'Paul' : 17, 'Lise': 14, 'Hakim' : 31, 'Anna' : 39, 'Maélys' : 15}\n",
    "ndf_2 = {'Lise' : 31, 'Julie' : 12}\n",
    "ndf_3 = {'Ranya' : 26, 'Julie' : 12, 'Lise' : 16}"
   ]
  },
  {
   "cell_type": "markdown",
   "metadata": {},
   "source": [
    "On suppose que tous les salariés ont des prénoms différents."
   ]
  },
  {
   "cell_type": "markdown",
   "metadata": {},
   "source": [
    "*Question 1 :*  En utilisant un *accumulateur*, compléter la fonction `frais_du_jour` qui prend en paramètres un dictionnaire de notes de frais et renvoie le total de toutes les notes de frais de la journée."
   ]
  },
  {
   "cell_type": "code",
   "execution_count": 3,
   "metadata": {},
   "outputs": [],
   "source": [
    "def frais_du_jour(ndf):\n",
    "    frais_total = 0\n",
    "    for montant in ndf.values():\n",
    "        frais_total = frais_total + montant\n",
    "    return frais_total"
   ]
  },
  {
   "cell_type": "markdown",
   "metadata": {},
   "source": [
    "*Question 2 :* Tester votre fonction grâce au jeu de tests ci-dessous."
   ]
  },
  {
   "cell_type": "code",
   "execution_count": 4,
   "metadata": {},
   "outputs": [],
   "source": [
    "assert frais_du_jour({'Paul' : 17, 'Lise': 14, 'Hakim' : 31, 'Anna' : 39, 'Maélys' : 15}) == 116\n",
    "assert frais_du_jour({'Lise' : 31, 'Julie' : 12}) == 43\n",
    "assert frais_du_jour({'Ranya' : 26, 'Julie' : 12, 'Lise' : 16}) == 54\n",
    "assert frais_du_jour({}) == 0"
   ]
  },
  {
   "cell_type": "markdown",
   "metadata": {},
   "source": [
    "*Question 3 :* Compléter la fonction `integrer_notes_de_frais` qui prend en paramètres deux dictionnaires `ndf_a` et `ndf_b` de notes de frais et intègre les montants de `ndf_b` dans `ndf_a` en effectuant une **mutation** de `ndf_a`. On pourra consulter le jeu de tests si besoin.\n"
   ]
  },
  {
   "cell_type": "code",
   "execution_count": 10,
   "metadata": {},
   "outputs": [],
   "source": [
    "def integrer_notes_de_frais(ndf_a, ndf_b):\n",
    "    for prenom, montant in ndf_b.items() :\n",
    "        if prenom in ndf_a.keys() :\n",
    "            ndf_a[prenom] = ndf_a[prenom] + ndf_b[prenom]\n",
    "        else :\n",
    "            ndf_a[prenom] = ndf_b[prenom]  "
   ]
  },
  {
   "cell_type": "markdown",
   "metadata": {},
   "source": [
    "*Question 4 :* Tester votre fonction grâce au jeu de tests ci-dessous."
   ]
  },
  {
   "cell_type": "code",
   "execution_count": 11,
   "metadata": {},
   "outputs": [],
   "source": [
    "ndf_1 = {'Ada' : 10, 'Eve' : 5, 'Bob' : 100}\n",
    "ndf_2 = {'Ada' : 5 , 'Eve' : 1, 'Marc' : 5}\n",
    "integrer_notes_de_frais(ndf_1, ndf_2)\n",
    "assert ndf_1 == {'Ada' : 15, 'Eve' : 6, 'Bob' : 100, 'Marc' : 5}  #ndf_1 a muté\n",
    "assert ndf_2 == {'Ada' : 5 , 'Eve' : 1, 'Marc' : 5}               #ndf_2 est inchangé\n",
    "\n",
    "\n",
    "ndf_1 = {'Ada' : 155, 'Bob' : 400, 'Hélène' : 900}\n",
    "ndf_2 = {'Eve' : 15, 'Marc' : 8, 'Ada' : 20 }\n",
    "integrer_notes_de_frais(ndf_1, ndf_2)\n",
    "assert ndf_1 == {'Ada' : 175, 'Eve' : 15, 'Bob' : 400, 'Marc' : 8, 'Hélène' : 900}"
   ]
  },
  {
   "cell_type": "markdown",
   "metadata": {},
   "source": [
    "*Question 5 :* En utilisant la fonction `integrer_notes_de_frais` ci-dessus, écrire une séquence d'instructions permettant de faire le bilan hebdomadaire des notes de frais en intégrant les cinq notes de frais ci-dessous à la note de frais `frais_hebdo`."
   ]
  },
  {
   "cell_type": "code",
   "execution_count": 15,
   "metadata": {},
   "outputs": [
    {
     "data": {
      "text/plain": [
       "{'Ada': 25,\n",
       " 'Eve': 65,\n",
       " 'Bob': 110,\n",
       " 'Nicolas': 35,\n",
       " 'Lucy': 125,\n",
       " 'Jules': 10,\n",
       " 'Tao': 15,\n",
       " 'Nina': 100,\n",
       " 'Issa': 195}"
      ]
     },
     "execution_count": 15,
     "metadata": {},
     "output_type": "execute_result"
    }
   ],
   "source": [
    "ndf_lundi = {'Ada' : 10, 'Eve' : 5, 'Bob' : 100}\n",
    "ndf_mardi = {'Ada' : 15 , 'Nicolas' : 30, 'Lucy' : 115}\n",
    "ndf_mercredi = {'Jules' : 10, 'Tao' : 15, 'Nina' : 100, 'Eve' : 25}\n",
    "ndf_jeudi = {'Eve' : 30, 'Issa' : 95}\n",
    "ndf_vendredi = {'Bob' : 10, 'Eve' : 5, 'Issa' : 100, 'Nicolas' : 5, 'Lucy' : 10}\n",
    "\n",
    "ndf_hebdo = {}\n",
    "\n",
    "integrer_notes_de_frais(ndf_hebdo, ndf_lundi)\n",
    "integrer_notes_de_frais(ndf_hebdo, ndf_mardi)\n",
    "integrer_notes_de_frais(ndf_hebdo, ndf_mercredi)\n",
    "integrer_notes_de_frais(ndf_hebdo, ndf_jeudi)\n",
    "integrer_notes_de_frais(ndf_hebdo, ndf_vendredi)\n",
    "\n",
    "ndf_hebdo\n",
    "\n",
    "\n",
    "\n"
   ]
  },
  {
   "cell_type": "markdown",
   "metadata": {},
   "source": [
    "*Question 6 :* Tester votre fonction grâce au test ci-dessous."
   ]
  },
  {
   "cell_type": "code",
   "execution_count": null,
   "metadata": {},
   "outputs": [],
   "source": [
    "assert ndf_hebdo = {'Ada' : 25, 'Eve' : 65, 'Bob' : 110, \n",
    "                    'Nicolas' : 35, 'Lucy' : 125, 'Jules' : 10,\n",
    "                   'Tao' : 15, 'Nina' : 100, 'Issa' : 195}"
   ]
  }
 ],
 "metadata": {
  "kernelspec": {
   "display_name": "Python 3",
   "language": "python",
   "name": "python3"
  },
  "language_info": {
   "codemirror_mode": {
    "name": "ipython",
    "version": 3
   },
   "file_extension": ".py",
   "mimetype": "text/x-python",
   "name": "python",
   "nbconvert_exporter": "python",
   "pygments_lexer": "ipython3",
   "version": "3.7.2"
  }
 },
 "nbformat": 4,
 "nbformat_minor": 4
}
