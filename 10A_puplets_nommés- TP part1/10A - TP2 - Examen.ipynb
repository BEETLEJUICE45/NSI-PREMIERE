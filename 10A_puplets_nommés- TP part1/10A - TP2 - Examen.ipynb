{
 "cells": [
  {
   "cell_type": "markdown",
   "metadata": {},
   "source": [
    "# 10A - TP2 - Examen\n",
    "\n",
    "*Remarque :* Soit `dico` un dictionnaire défini à l'extérieur d'une fonction. Les modifications effectuées par **mutation** sur la variable `dico` à l'intérieur d'une fonction prendront également effet sur le contenu de la variable `dico` à l'extérieur de la fonction."
   ]
  },
  {
   "cell_type": "markdown",
   "metadata": {},
   "source": [
    "On modélise des résultats à un examen grâce à des dictionnaires de la forme suivante :"
   ]
  },
  {
   "cell_type": "code",
   "execution_count": null,
   "metadata": {},
   "outputs": [],
   "source": [
    "candidat_a = {'nom' : 'John' ,  'ecrit' : 15, 'oral' : 13, 'projet' : 17}\n",
    "candidat_b = {'nom' : 'Elsa' ,  'ecrit' : 18, 'oral' : 17, 'projet' : 16}\n",
    "candidat_c = {'nom' : 'Icham' , 'ecrit' : 11, 'oral' : 17, 'projet' : 20}\n",
    "candidat_d = {'nom' : 'Eva',    'ecrit' : 3,  'oral' : 19, 'projet' : 14}"
   ]
  },
  {
   "cell_type": "markdown",
   "metadata": {},
   "source": [
    "*Question 1:* Compléter la fonction `moyenne` qui prend en paramètre un dictionnaire modélisant des résultats à un examen et renvoie la moyenne correspondante."
   ]
  },
  {
   "cell_type": "code",
   "execution_count": null,
   "metadata": {},
   "outputs": [],
   "source": [
    "def moyenne(candidat):\n",
    "    e = ...\n",
    "    o = ...\n",
    "    p = ...\n",
    "    moyenne = ...\n",
    "    return ...\n",
    "    "
   ]
  },
  {
   "cell_type": "markdown",
   "metadata": {},
   "source": [
    "*Question 2 :* Tester votre fonction grâce au jeu de tests ci-dessous."
   ]
  },
  {
   "cell_type": "code",
   "execution_count": null,
   "metadata": {},
   "outputs": [],
   "source": [
    "assert moyenne(candidat_a) == 15\n",
    "assert moyenne(candidat_b) == 17\n",
    "assert moyenne(candidat_c) == 16\n",
    "assert moyenne(candidat_d) == 12"
   ]
  },
  {
   "cell_type": "markdown",
   "metadata": {},
   "source": [
    "*Question 3 :* Suite à une commission d'harmonisation, il est décidé que :\n",
    "- les notes de projet sont baissées de 2 points,\n",
    "- les notes d'oral sont baissées de 4 points.  \n",
    "\n",
    "\n",
    "Compléter la fonction `harmonisation` ci-dessous qui prend en paramètre un dictionnaire `candidat` modélisant des résultats à un exament et **renvoie une copie du dictionnaire dont les notes de projet et d'oral ont été modifiées comme indiqué plus haut**."
   ]
  },
  {
   "cell_type": "code",
   "execution_count": null,
   "metadata": {},
   "outputs": [],
   "source": [
    "import copy\n",
    "\n",
    "def harmonisation(candidat):\n",
    "    copie_candidat = copy.deepcopy(...)\n",
    "    ...\n",
    "    ...\n",
    "    return ...\n",
    "    "
   ]
  },
  {
   "cell_type": "markdown",
   "metadata": {},
   "source": [
    "*Question 4 :* Tester votre fonction grâce au jeu de tests ci-dessous :"
   ]
  },
  {
   "cell_type": "code",
   "execution_count": null,
   "metadata": {},
   "outputs": [],
   "source": [
    "assert harmonisation({'nom' : 'John' ,  'ecrit' : 15, 'oral' : 13, 'projet' : 17}) == {'nom' : 'John' ,  'ecrit' : 15, 'oral' : 9, 'projet' : 15}\n",
    "assert harmonisation({'nom' : 'Elsa' ,  'ecrit' : 18, 'oral' : 17, 'projet' : 16}) == {'nom' : 'Elsa' ,  'ecrit' : 18, 'oral' : 13, 'projet' : 14}\n",
    "assert harmonisation({'nom' : 'Icham' , 'ecrit' : 11, 'oral' : 17, 'projet' : 20}) == {'nom' : 'Icham' , 'ecrit' : 11, 'oral' : 13, 'projet' : 18}"
   ]
  },
  {
   "cell_type": "markdown",
   "metadata": {},
   "source": [
    "*Question 3-bis :* Compléter la fonction `harmonisation_bis` qui prend en paramètre un dictionnaire `candidat` modélisant des résultats à un examen et **diminue les notes d'oral et de projet du candidat  en utilisant une mutation**."
   ]
  },
  {
   "cell_type": "code",
   "execution_count": null,
   "metadata": {},
   "outputs": [],
   "source": [
    "def harmonisation_bis(candidat):\n",
    "    ...\n",
    "    ..."
   ]
  },
  {
   "cell_type": "markdown",
   "metadata": {},
   "source": [
    "*Question 4-bis :* Tester votre fonction grâce au jeu de tests ci-dessous :"
   ]
  },
  {
   "cell_type": "code",
   "execution_count": null,
   "metadata": {},
   "outputs": [],
   "source": [
    "c_a = {'nom' : 'John' ,  'ecrit' : 15, 'oral' : 13, 'projet' : 17}\n",
    "harmonisation_bis(c_a) \n",
    "assert c_a == {'nom' : 'John' ,  'ecrit' : 15, 'oral' : 9, 'projet' : 15}\n",
    "\n",
    "c_b = {'nom' : 'Icham' , 'ecrit' : 11, 'oral' : 17, 'projet' : 20}\n",
    "harmonisation_bis(c_b)\n",
    "assert c_b == {'nom' : 'Icham' , 'ecrit' : 11, 'oral' : 13, 'projet' : 18}"
   ]
  }
 ],
 "metadata": {
  "kernelspec": {
   "display_name": "Python 3",
   "language": "python",
   "name": "python3"
  },
  "language_info": {
   "codemirror_mode": {
    "name": "ipython",
    "version": 3
   },
   "file_extension": ".py",
   "mimetype": "text/x-python",
   "name": "python",
   "nbconvert_exporter": "python",
   "pygments_lexer": "ipython3",
   "version": "3.7.2"
  }
 },
 "nbformat": 4,
 "nbformat_minor": 4
}
