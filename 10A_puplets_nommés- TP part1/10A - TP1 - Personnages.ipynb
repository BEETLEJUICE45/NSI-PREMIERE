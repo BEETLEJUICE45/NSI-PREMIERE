{
 "cells": [
  {
   "cell_type": "markdown",
   "metadata": {},
   "source": [
    "# 10A - TP - Personnages\n",
    "\n",
    "*Remarque :* Soit `dico` un dictionnaire défini à l'extérieur d'une fonction. Les modifications effectuées par **mutation** sur la variable `dico` à l'intérieur d'une fonction prendront également effet sur le contenu de la variable `dico` à l'extérieur de la fonction."
   ]
  },
  {
   "cell_type": "markdown",
   "metadata": {},
   "source": [
    "On considère des dictionnaires modélisant des personnages qui ont tous des niveaux de force différents :"
   ]
  },
  {
   "cell_type": "code",
   "execution_count": null,
   "metadata": {},
   "outputs": [],
   "source": [
    "perso_a = {'nom' : 'Ada' , 'age' : 15, 'force' : 99}\n",
    "perso_b = {'nom' : 'Alan', 'age' : 17, 'force' : 98}\n",
    "perso_c = {'nom' : 'Grace', 'age' : 24, 'force' : 95}\n",
    "perso_d = {'nom' : 'Claude', 'age' : 23, 'force' : 97}"
   ]
  },
  {
   "cell_type": "markdown",
   "metadata": {},
   "source": [
    "*Question 1:* Compléter la fonction `plus_fort` qui prend en paramètres deux dictionnaires modélisant des personnages et renvoie le nom de celui qui est le plus fort."
   ]
  },
  {
   "cell_type": "code",
   "execution_count": null,
   "metadata": {},
   "outputs": [],
   "source": [
    "def plus_fort(perso_1, perso_2):\n",
    "    force_1 = ...\n",
    "    force_2 = ...\n",
    "    if force_1 > force_2 :\n",
    "        return ...\n",
    "    else:\n",
    "        return ...\n",
    "    "
   ]
  },
  {
   "cell_type": "markdown",
   "metadata": {},
   "source": [
    "*Question 2 :* Tester votre fonction grâce au jeu de tests ci-dessous."
   ]
  },
  {
   "cell_type": "code",
   "execution_count": null,
   "metadata": {},
   "outputs": [],
   "source": [
    "assert plus_fort(perso_a, perso_b) == 'Ada'\n",
    "assert plus_fort(perso_b, perso_d) == 'Alan'\n",
    "assert plus_fort(perso_c, perso_d) == 'Claude'"
   ]
  },
  {
   "cell_type": "markdown",
   "metadata": {},
   "source": [
    "*Question 3 :* Compléter la fonction `age_plus_un` qui prend en paramètre un dictionnaire modélisant un personnage et **renvoie une copie de ce dictionnaire dans laquelle l'âge a été augmenté de un an**."
   ]
  },
  {
   "cell_type": "code",
   "execution_count": null,
   "metadata": {},
   "outputs": [],
   "source": [
    "import copy\n",
    "\n",
    "def age_plus_un(perso):\n",
    "    copie_perso = copy.deepcopy(...)\n",
    "    ...\n",
    "    return ...\n",
    "    "
   ]
  },
  {
   "cell_type": "markdown",
   "metadata": {},
   "source": [
    "*Question 4 :* Tester votre fonction grâce au jeu de tests ci-dessous :"
   ]
  },
  {
   "cell_type": "code",
   "execution_count": null,
   "metadata": {},
   "outputs": [],
   "source": [
    "assert age_plus_un({'nom' : 'Ada' , 'age' : 15, 'force' : 99}) == {'nom' : 'Ada' , 'age' : 16, 'force' : 99}\n",
    "assert age_plus_un({'nom' : 'Alan', 'age' : 17, 'force' : 98}) == {'nom' : 'Alan', 'age' : 18, 'force' : 98}\n",
    "assert age_plus_un({'nom' : 'Claude', 'age' : 23, 'force' : 97}) == {'nom' : 'Claude', 'age' : 24, 'force' : 97}"
   ]
  },
  {
   "cell_type": "markdown",
   "metadata": {},
   "source": [
    "*Question 3-bis :* Compléter la fonction `age_plus_un_bis` qui prend en paramètre un dictionnaire `perso` modélisant un personnage et **augmente l'âge de `perso` de un an en utilisant une mutation**."
   ]
  },
  {
   "cell_type": "code",
   "execution_count": null,
   "metadata": {},
   "outputs": [],
   "source": [
    "def age_plus_un_bis(perso):\n",
    "    ..."
   ]
  },
  {
   "cell_type": "markdown",
   "metadata": {},
   "source": [
    "*Question 4-bis :* Tester votre fonction grâce au jeu de tests ci-dessous :"
   ]
  },
  {
   "cell_type": "code",
   "execution_count": null,
   "metadata": {},
   "outputs": [],
   "source": [
    "perso_a = {'nom' : 'Ada' , 'age' : 15, 'force' : 99}\n",
    "age_plus_un_bis(perso_a)\n",
    "assert perso_a == {'nom' : 'Ada' , 'age' : 16, 'force' : 99}\n",
    "\n",
    "perso_e = {'nom' : 'Bob' , 'age' : 74, 'force' : 3}\n",
    "age_plus_un_bis(perso_e)\n",
    "assert perso_e == {'nom' : 'Bob' , 'age' : 75, 'force' : 3}"
   ]
  }
 ],
 "metadata": {
  "kernelspec": {
   "display_name": "Python 3",
   "language": "python",
   "name": "python3"
  },
  "language_info": {
   "codemirror_mode": {
    "name": "ipython",
    "version": 3
   },
   "file_extension": ".py",
   "mimetype": "text/x-python",
   "name": "python",
   "nbconvert_exporter": "python",
   "pygments_lexer": "ipython3",
   "version": "3.7.2"
  }
 },
 "nbformat": 4,
 "nbformat_minor": 4
}
