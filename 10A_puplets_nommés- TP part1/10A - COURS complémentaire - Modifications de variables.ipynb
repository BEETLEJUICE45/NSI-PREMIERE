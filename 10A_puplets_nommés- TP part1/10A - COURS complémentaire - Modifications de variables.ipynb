{
 "cells": [
  {
   "cell_type": "markdown",
   "metadata": {},
   "source": [
    "# 10A - COURS complémentaire - Modifications de variables"
   ]
  },
  {
   "cell_type": "markdown",
   "metadata": {},
   "source": [
    "## Distinguer deux sortes de «modifications» de variables : mutation vs réaffectation"
   ]
  },
  {
   "cell_type": "markdown",
   "metadata": {},
   "source": [
    "Jusqu'ici, pour «modifier» le contenu d'une **variable** on utilisait des «affectations» grâce à l'opérateur `=`. On peut par exemple «modifier» le contenu de la **variable** `alphabet` pour lui ajouter la lettre `'z'`:"
   ]
  },
  {
   "cell_type": "code",
   "execution_count": null,
   "metadata": {},
   "outputs": [],
   "source": [
    "alphabet = 'abcdefghijklmnopqrstuvwxuy'\n",
    "alphabet = alphabet + 'z'\n",
    "alphabet"
   ]
  },
  {
   "cell_type": "markdown",
   "metadata": {},
   "source": [
    "Lorsqu'on utilise l'opérateur `=` pour «modifier» le contenu d'une variable, python :\n",
    "- 1) calcule ce qu'il y a à droite de l'opérateur `=`,\n",
    "- 2) «met à la poubelle» l'objet qui était affecté à la variable,\n",
    "- 3) affecte le résultat du calcul de l'étape 1) à la variable.\n",
    "\n",
    "En particulier lorsqu'on en est à la fin de l'étape 1, python a deux objets en mémoire : d'une part l'objet correspondant au résultat du calcul et d'autre part l'ancien objet encore affecté à la variable.\n",
    "\n",
    "<div class = \"alert alert-warning\">  \n",
    "    \n",
    "    \n",
    "Ce mécanisme de «modification» de **variable** en utilisant l'opérateur `=` est appelé «**modification de variable par réaffectation**» : on **remplace l'ancien objet par un nouvel objet**.\n",
    "</div>\n",
    "\n",
    "On peut observer cela avec le mot clef `id` qui nous donne l'identifiant python (c'est à dire le «numéro d'identité») de l'objet stocké dans une variable. Lorsqu'on effectue les instructions ci-dessus, l'identifiant va être modifié car on change l'objet affecté à la variable `alphabet` :"
   ]
  },
  {
   "cell_type": "code",
   "execution_count": null,
   "metadata": {},
   "outputs": [],
   "source": [
    "alphabet = 'abcdefghijklmnopqrstuvwxuy'\n",
    "print('identifiant avant la modification : ', id(alphabet))\n",
    "alphabet = alphabet + 'z'\n",
    "print('identifiant après la modification : ', id(alphabet))\n",
    "alphabet"
   ]
  },
  {
   "cell_type": "markdown",
   "metadata": {},
   "source": [
    "La grosse nouveauté apportée par les tableaux est qu'on peut les modifier sans réaffectation : lorsqu'on souhaite modifier un tableau, python ne «fabrique» pas forcément un nouveau tableau. \n",
    "\n",
    "En effet les tableaux sont dits «**mutables**» : on peut modifier une **variable** désignant un tableau en modifiant **l'objet tableau** et pas en le remplaçant comme ci-dessus.  \n",
    "\n",
    "Avec les instructions ci-dessous on constate que l'identifiant de l'objet tableau désigné par la variable n'est pas modifié. C'est donc bel et bien le même tableau que celui de départ qui a été «muté» :"
   ]
  },
  {
   "cell_type": "code",
   "execution_count": null,
   "metadata": {},
   "outputs": [],
   "source": [
    "menu = [\"entrée\", \"plat\", \"desert\"]\n",
    "print('identifiant avant la modification : ', id(menu))\n",
    "menu[2] = \"dessert\"\n",
    "menu.append(\"café\")\n",
    "print('identifiant après la modification : ', id(menu))\n",
    "menu"
   ]
  },
  {
   "cell_type": "markdown",
   "metadata": {},
   "source": [
    "<div class = \"alert alert-warning\">  \n",
    "    \n",
    "    \n",
    "Ce mécanisme de «modification» de **variable** tableau en utilisant `append` ou `tab[i]=...` est appelé «**modification de variable par mutation**» : on ne crée pas un nouvel objet pour remplacer l'ancien objet mais on **mute l'ancien objet qui est «mis à jour»**.\n",
    "    \n",
    "Les mutations ne sont possibles que pour les types d'objets **mutables** comme les `list`.\n",
    "</div>\n",
    "\n",
    "<table>\n",
    "<tr>\n",
    "    <td style=\"text-align:center;\">Modification d'une variable par réaffectation</td>\n",
    "    <td style=\"text-align:center;\">Modification d'une variable par mutation</td>\n",
    "</tr>   \n",
    "<tr>\n",
    "    <td style=\"text-align:left;\"> <code>alphabet = alphabet + 'z'</code> </td>\n",
    "    <td style=\"text-align:left;\"> <code>menu[2] = 'dessert' <br/> menu.append['café']</code>  </td>\n",
    "</tr> \n",
    "<tr>\n",
    "    <td><img src=\"./images/reaffectation_variable.png\" style=\"width:380px;\"/></td>\n",
    "    <td><img src=\"./images/mutation.png\" style=\"width:380px;\"/></td>\n",
    "</tr>\n",
    "    </table>"
   ]
  },
  {
   "cell_type": "markdown",
   "metadata": {},
   "source": [
    "**Remarque :** On constate que les mutations permettent d'utiliser moins de mémoire et d'opérations de recopie de valeurs, ce qui est pertinent dans le cas de l'utilisation de tableaux qui peuvent parfois contenir des millions d'éléments."
   ]
  },
  {
   "cell_type": "markdown",
   "metadata": {},
   "source": [
    "## «Copie» de tableaux puis modification par mutation"
   ]
  },
  {
   "cell_type": "markdown",
   "metadata": {},
   "source": [
    "Pour les types `int, float, str, bool` on peut facilement créer une «copie» `b` d'une variable de départ `a`. Dans ce cas la copie `b` désigne le même objet que la variable de départ `a` (les deux auront le même `id`) :"
   ]
  },
  {
   "cell_type": "code",
   "execution_count": null,
   "metadata": {},
   "outputs": [],
   "source": [
    "a = \"bonjour\"\n",
    "b = a\n",
    "print('identifiant de a : ', id(a))\n",
    "print('identifiant de b : ', id(b))"
   ]
  },
  {
   "cell_type": "markdown",
   "metadata": {},
   "source": [
    "Une fois la «copie» effectuée (c'est à dire l'instruction `b = a` exécutée), une modification par réaffectation sur `a` ne change pas `b` (et réciproquement) :"
   ]
  },
  {
   "cell_type": "code",
   "execution_count": null,
   "metadata": {},
   "outputs": [],
   "source": [
    "a = \"bonjour\"\n",
    "b = a\n",
    "a = \"bonsoir\"\n",
    "print('a contient ', a, 'et l\\'identifiant de l\\'objet désigné par a est : ', id(a))\n",
    "print('b contient ', b, 'et l\\'identifiant de l\\'objet désigné par b est : ', id(b))"
   ]
  },
  {
   "cell_type": "markdown",
   "metadata": {},
   "source": [
    "<br/>\n",
    "\n",
    "Pour les tableaux, c'est la même chose : **lorsqu'on effectue une instruction du type `b = a` puis une modification sur `a` par réaffectation, `b` ne change pas** :"
   ]
  },
  {
   "cell_type": "code",
   "execution_count": null,
   "metadata": {},
   "outputs": [],
   "source": [
    "a = [10, 100, 1000]\n",
    "b = a\n",
    "a = [33, 333, 3333]\n",
    "print('a contient ', a, 'et l\\'identifiant de l\\'objet désigné par a est : ', id(a))\n",
    "print('b contient ', b, 'et l\\'identifiant de l\\'objet désigné par b est : ', id(b))"
   ]
  },
  {
   "cell_type": "markdown",
   "metadata": {},
   "source": [
    "<br/>\n",
    "\n",
    "\n",
    "En revanche, **lorsqu'on effectue une instruction `b = a` puis une modification de `a` ou `b` par mutation, la modification agira sur `a` et `b` à la fois**. En effet, après l'instruction `b = a`, `a` et `b` désignent le même objet (avec le même `id`). Une mutation sur l'objet désigné par `a` va donc également être une mutation sur l'objet désigné par `b` (puisqu'il s'agit du même objet !)."
   ]
  },
  {
   "cell_type": "code",
   "execution_count": null,
   "metadata": {},
   "outputs": [],
   "source": [
    "a = [10, 100, 1000]\n",
    "b = a\n",
    "a.append(33333)\n",
    "print('a contient ', a, 'et l\\'identifiant de l\\'objet désigné par a est : ', id(a))\n",
    "print('b contient ', b, 'et l\\'identifiant de l\\'objet désigné par b est : ', id(b))"
   ]
  },
  {
   "cell_type": "markdown",
   "metadata": {},
   "source": [
    "<div class = \"alert alert-warning\">  \n",
    "    \n",
    "    \n",
    "Lorsque deux variables désignent le même objet mutable (par exemple le même tableau suite à l'instruction `b = a`), une modification par mutation sur l'une des deux variables entraîne la même modification sur l'autre variable.\n",
    "</div>"
   ]
  },
  {
   "cell_type": "markdown",
   "metadata": {},
   "source": [
    "## Comment rendre une «copie» vraiment indépendante de l'original ?"
   ]
  },
  {
   "cell_type": "code",
   "execution_count": null,
   "metadata": {},
   "outputs": [],
   "source": [
    "from metakernel import register_ipython_magics\n",
    "register_ipython_magics()"
   ]
  },
  {
   "cell_type": "markdown",
   "metadata": {},
   "source": [
    "Voyons ce qui se passe avec une copie de tableaux grâce à l'instruction `b = a`. On constate que `b` et `a` désignent bien le même tableau."
   ]
  },
  {
   "cell_type": "code",
   "execution_count": null,
   "metadata": {},
   "outputs": [],
   "source": [
    "%%tutor\n",
    "a = [10, 100, 1000]\n",
    "b = a\n",
    "a.append(33333)"
   ]
  },
  {
   "cell_type": "markdown",
   "metadata": {},
   "source": [
    "Pour avoir deux copies indépendantes, on pourra utiliser la méthode `deepcopy()` du module `copy`. On s'assure ainsi qu'une modification ultérieure par mutation sur `a` n'aura aucun impact sur `b` :"
   ]
  },
  {
   "cell_type": "code",
   "execution_count": null,
   "metadata": {},
   "outputs": [],
   "source": [
    "%%tutor\n",
    "from copy import deepcopy\n",
    "\n",
    "a = [10, 100, 1000]\n",
    "b = deepcopy(a)\n",
    "a.append(33333)"
   ]
  },
  {
   "cell_type": "markdown",
   "metadata": {},
   "source": [
    "<div class = \"alert alert-warning\">  \n",
    "    \n",
    "    \n",
    "Pour obtenir une «copie» indépendante d'un tableau `a` on utilise l'instruction `b = deepcopy(a)` (et pas l'instruction `b = a`). \n",
    "    \n",
    "Cette méthode `deepcopy()` doit auparavant être importée grâce à l'instruction `from copy import deepcopy`.\n",
    "</div>"
   ]
  },
  {
   "cell_type": "markdown",
   "metadata": {},
   "source": [
    "## Et avec les fonctions ?"
   ]
  },
  {
   "cell_type": "markdown",
   "metadata": {},
   "source": [
    "Lorsqu'on passe une variable en argument à une fonction, tout se passe comme si c'était une copie simple de cette variable que l'on retrouve à l'intérieur du corps de la fonction. Ainsi **une modification par réaffectation de variable à l'intérieur de la fonction n'a aucune influence sur la variable à l'extérieur de la fonction**. **Dans les deux cas suivants `a` n'est pas modifiée** !"
   ]
  },
  {
   "cell_type": "code",
   "execution_count": null,
   "metadata": {},
   "outputs": [],
   "source": [
    "%%tutor\n",
    "a = \"bonjour\"\n",
    "\n",
    "def test(b):\n",
    "    b = \"bonsoir\"\n",
    "    return b\n",
    "\n",
    "c = test(a)"
   ]
  },
  {
   "cell_type": "code",
   "execution_count": null,
   "metadata": {},
   "outputs": [],
   "source": [
    "%%tutor\n",
    "a = [1, 10, 100]\n",
    "\n",
    "def test(b):\n",
    "    b = [2, 20, 200]\n",
    "    return b\n",
    "\n",
    "c = test(a)"
   ]
  },
  {
   "cell_type": "markdown",
   "metadata": {},
   "source": [
    "Par contre **une modification par mutation de variable à l'intérieur de la fonction aura une influence à l'extérieur de la fonction. Dans le cas suivant `a` est modifiée.**"
   ]
  },
  {
   "cell_type": "code",
   "execution_count": null,
   "metadata": {},
   "outputs": [],
   "source": [
    "%%tutor\n",
    "a = [1, 10, 100]\n",
    "\n",
    "def test(b):\n",
    "    b.append(3333)\n",
    "    return b\n",
    "\n",
    "c = test(a)"
   ]
  },
  {
   "cell_type": "markdown",
   "metadata": {},
   "source": [
    "<div class = \"alert alert-warning\">  \n",
    "    \n",
    "    \n",
    "Lorsqu'on passe en argument à une fonction une variable désignant un objet (mutable ou pas), une modification par réaffectation de variable à l'intérieur de la fonction n'a aucune influence sur la variable à l'extérieur de la fonction.\n",
    "    \n",
    "Lorsqu'on passe en argument à une fonction une variable désignant un objet mutable, une modification par mutation à l'intérieur de la fonction va également modifier la variable à l'extérieur de la fonction. \n",
    "</div>"
   ]
  }
 ],
 "metadata": {
  "kernelspec": {
   "display_name": "Python 3",
   "language": "python",
   "name": "python3"
  },
  "language_info": {
   "codemirror_mode": {
    "name": "ipython",
    "version": 3
   },
   "file_extension": ".py",
   "mimetype": "text/x-python",
   "name": "python",
   "nbconvert_exporter": "python",
   "pygments_lexer": "ipython3",
   "version": "3.7.2"
  }
 },
 "nbformat": 4,
 "nbformat_minor": 4
}
