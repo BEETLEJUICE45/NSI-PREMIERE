{
 "cells": [
  {
   "cell_type": "markdown",
   "metadata": {},
   "source": [
    "# 10A - TP5 - Conversion d'unités"
   ]
  },
  {
   "cell_type": "markdown",
   "metadata": {},
   "source": [
    "*Remarque :* L'unité de longueur :\n",
    "- al désigne l'année-lumière (9 461 milliards de km), \n",
    "- \" désigne le pouce (2,54 cm),\n",
    "- ' désigne le pied (30,48 cm)."
   ]
  },
  {
   "cell_type": "markdown",
   "metadata": {},
   "source": [
    "On donne dans un dictionnaire les coefficients de proportionnalité pour différentes unités de longueur par rapport à l'unité de base qui est le mètre :"
   ]
  },
  {
   "cell_type": "code",
   "execution_count": 1,
   "metadata": {},
   "outputs": [],
   "source": [
    "conversion  = {'m' : 1, 'mm' : 10**(-3), 'cm' : 10**(-2), 'dm' : 10**(-1), 'km' : 10**3, 'al' : 9.461*10**15, '\"' : 2.54*10**(-2), \"'\" : 0.3048}"
   ]
  },
  {
   "cell_type": "markdown",
   "metadata": {},
   "source": [
    "*Question 1 :*  Compléter la fonction `convertir_en_metres` qui prend en paramètres :\n",
    "- un nombre `lg` correspondant à la longueur à convertir,\n",
    "- une chaîne de caractères `u_d` correspondant à l'unité de la longueur à convertir (unité de départ) au choix parmi `m, mm, cm, dm, km, al, \", '`.  \n",
    "\n",
    "et qui renvoie un nombre correspondant à la longueur convertie exprimée **en mètres**."
   ]
  },
  {
   "cell_type": "code",
   "execution_count": 3,
   "metadata": {},
   "outputs": [],
   "source": [
    "def convertir_en_metres(lg, u_d):\n",
    "    ...\n",
    "    ...\n",
    "    return ..."
   ]
  },
  {
   "cell_type": "markdown",
   "metadata": {},
   "source": [
    "*Question 2 :* Tester votre fonction grâce au jeu de tests suivant."
   ]
  },
  {
   "cell_type": "code",
   "execution_count": 27,
   "metadata": {},
   "outputs": [],
   "source": [
    "assert round(convertir_en_metres(5, 'cm'), 2) == 0.05\n",
    "assert convertir_en_metres(7.3, 'km') == 7300\n",
    "assert round(convertir_en_metres(2, 'al')/10**16, 4) == 1.8922"
   ]
  },
  {
   "cell_type": "markdown",
   "metadata": {},
   "source": [
    "*Question 3 :* En utilisant votre fonction convertir 17 pieds en mètres."
   ]
  },
  {
   "cell_type": "code",
   "execution_count": null,
   "metadata": {},
   "outputs": [],
   "source": []
  },
  {
   "cell_type": "markdown",
   "metadata": {},
   "source": [
    "*Question 4 :*  Compléter la fonction `convertir_des_metres` qui prend en paramètres :\n",
    "- un nombre `lg` correspondant à la longueur à convertir exprimée **en mètres**,\n",
    "- une chaîne de caractères `u_a` correspondant à l'unité de longueur souhaitée (unité d'arrivée) au choix parmi `m, mm, cm, dm, km, al, \", '`.  \n",
    "\n",
    "et qui renvoie un nombre correspondant à la longueur convertie exprimée dans l'unité de longueur souhaitée."
   ]
  },
  {
   "cell_type": "code",
   "execution_count": 13,
   "metadata": {},
   "outputs": [],
   "source": [
    "def convertir_des_metres(lg, u_a):\n",
    "    conversion = {'m' : 1, 'mm' : 10**(-3), 'cm' : 10**(-2), 'dm' : 10**(-1), 'km' : 10**3, 'al' : 9.461*10**15, '\"' : 2.54*10**(-2), \"'\" : 0.3048}\n",
    "    ...\n",
    "    ...\n",
    "    return ..."
   ]
  },
  {
   "cell_type": "markdown",
   "metadata": {},
   "source": [
    "*Question 5 :* Tester votre fonction grâce au jeu de tests suivant."
   ]
  },
  {
   "cell_type": "code",
   "execution_count": 26,
   "metadata": {},
   "outputs": [],
   "source": [
    "assert convertir_des_metres(5, 'cm') == 500\n",
    "assert round(convertir_des_metres(7.3, 'km'), 4) == 0.0073\n",
    "assert round(convertir_des_metres(20, '\"'), 5) == 787.40157"
   ]
  },
  {
   "cell_type": "markdown",
   "metadata": {},
   "source": [
    "*Question 6 :* En utilisant votre fonction convertir 1 mètre en pouces."
   ]
  },
  {
   "cell_type": "code",
   "execution_count": null,
   "metadata": {},
   "outputs": [],
   "source": []
  },
  {
   "cell_type": "markdown",
   "metadata": {},
   "source": [
    "*Question 7 :*  Compléter la fonction `convertir` qui prend en paramètres :\n",
    "- un nombre `lg` correspondant à la longueur à convertir,\n",
    "- une chaîne de caractères `u_d` correspondant à l'unité de la longueur à convertir (unité de départ) au choix parmi `m, mm, cm, dm, km, al, \", '`.  \n",
    "- une chaîne de caractères `u_a` correspondant à l'unité de longueur souhaitée (unité d'arrivée) au choix parmi `m, mm, cm, dm, km, al, \", '`.  \n",
    "\n",
    "et qui renvoie un nombre correspondant à la longueur convertie exprimée dans l'unité de longueur souhaitée."
   ]
  },
  {
   "cell_type": "code",
   "execution_count": 18,
   "metadata": {},
   "outputs": [],
   "source": [
    "def convertir(lg, u_d, u_a):\n",
    "    conversion = {'m' : 1, 'mm' : 10**(-3), 'cm' : 10**(-2), 'dm' : 10**(-1), 'km' : 10**3, 'al' : 9.461*10**15, '\"' : 2.54*10**(-2), \"'\" : 0.3048}\n",
    "    ...\n",
    "    ...\n",
    "    return ..."
   ]
  }
 ],
 "metadata": {
  "kernelspec": {
   "display_name": "Python 3",
   "language": "python",
   "name": "python3"
  },
  "language_info": {
   "codemirror_mode": {
    "name": "ipython",
    "version": 3
   },
   "file_extension": ".py",
   "mimetype": "text/x-python",
   "name": "python",
   "nbconvert_exporter": "python",
   "pygments_lexer": "ipython3",
   "version": "3.7.2"
  }
 },
 "nbformat": 4,
 "nbformat_minor": 4
}
