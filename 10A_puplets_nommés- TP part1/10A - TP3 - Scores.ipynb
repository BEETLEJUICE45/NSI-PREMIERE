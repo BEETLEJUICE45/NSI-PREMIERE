{
 "cells": [
  {
   "cell_type": "markdown",
   "metadata": {},
   "source": [
    "# scores\n",
    "\n",
    "*Remarque 1 :* Soit `dico` un dictionnaire défini à l'extérieur d'une fonction. Les modifications effectuées par **mutation** sur la variable `dico` à l'intérieur d'une fonction prendront également effet sur le contenu de la variable `dico` à l'extérieur de la fonction.\n",
    "\n",
    "*Remarque 2 :* On rappelle que pour ajouter un élement à une `list` python, on peut utiliser la méthode `.append` :"
   ]
  },
  {
   "cell_type": "code",
   "execution_count": null,
   "metadata": {},
   "outputs": [],
   "source": [
    "L = [3, 7, 12]\n",
    "L.append(45)\n",
    "L"
   ]
  },
  {
   "cell_type": "markdown",
   "metadata": {},
   "source": [
    "\n",
    "\n",
    "<br/>  \n",
    "\n",
    "<br/>  \n",
    "À unjeu, on enregistre les points de joueurs dans des dictionnaires de la forme suivante :"
   ]
  },
  {
   "cell_type": "code",
   "execution_count": null,
   "metadata": {},
   "outputs": [],
   "source": [
    "scores_a = {'Ada' : 67, 'Eve' : 54, 'Bob' : 48, 'Sue' : 14, 'Luc' : 39, 'Yog' : 57}\n",
    "scores_b = {'Sim' : 15, 'Ben' : 34, 'Moh' : 45, 'Ran' : 39}\n",
    "scores_c = {'JB' : 65, 'MH' : 62, 'ZY' : 32}"
   ]
  },
  {
   "cell_type": "markdown",
   "metadata": {},
   "source": [
    "*Question 1 :* Compléter la fonction `ajouter_joueur` qui prend en paramètres :\n",
    "- un dictionnaire de scores,\n",
    "- le nom d'un joueur  \n",
    "\n",
    "et si le joueur n'est pas déjà présent dans le dictionnaire, ajoute le joueur au dictionnaire avec un score de zéro **en utilisant une mutation du dictionnaire**."
   ]
  },
  {
   "cell_type": "code",
   "execution_count": null,
   "metadata": {},
   "outputs": [],
   "source": [
    "def ajouter_joueur(scores, joueur):\n",
    "    if ... not in scores.keys() :\n",
    "        ...\n",
    "        \n",
    "\n",
    "    "
   ]
  },
  {
   "cell_type": "markdown",
   "metadata": {},
   "source": [
    "*Question 2 :* Tester votre fonction grâce au jeu de tests ci-dessous."
   ]
  },
  {
   "cell_type": "code",
   "execution_count": null,
   "metadata": {},
   "outputs": [],
   "source": [
    "scores_c = {'JB' : 65, 'MH' : 62, 'ZY' : 32}\n",
    "ajouter_joueur(scores_c, 'DF')\n",
    "assert scores_c == {'JB' : 65, 'MH' : 62, 'ZY' : 32, 'DF' : 0}\n",
    "\n",
    "scores_c = {'JB' : 65, 'MH' : 62, 'ZY' : 32}\n",
    "ajouter_joueur(scores_c, 'MH')\n",
    "assert scores_c == {'JB' : 65, 'MH' : 62, 'ZY' : 32}"
   ]
  },
  {
   "cell_type": "markdown",
   "metadata": {},
   "source": [
    "*Question 3 :* Compléter la fonction `augmenter_score_joueur` qui prend en paramètres :\n",
    "- un dictionnaire de scores,\n",
    "- le nom d'un joueur,\n",
    "- un nombre de points,  \n",
    "\n",
    "et **en utilisant une mutation du dictionnaire** :\n",
    "- si le joueur est présent dans le dictionnaire, augmente du nombre de points indiqué le score du joueur,\n",
    "- sinon ajoute le joueur au dictionnaire avec un score correspondant au nombre de points."
   ]
  },
  {
   "cell_type": "code",
   "execution_count": null,
   "metadata": {},
   "outputs": [],
   "source": [
    "def augmenter_score_joueur(scores, joueur, points):\n",
    "    if ... in ... :\n",
    "        ...\n",
    "    else :\n",
    "        ...\n",
    "\n",
    "    "
   ]
  },
  {
   "cell_type": "markdown",
   "metadata": {},
   "source": [
    "*Question 4 :* Tester votre fonction grâce au jeu de tests ci-dessous."
   ]
  },
  {
   "cell_type": "code",
   "execution_count": null,
   "metadata": {},
   "outputs": [],
   "source": [
    "scores_a = {'Ada' : 67, 'Eve' : 54, 'Bob' : 48, 'Sue' : 14, 'Luc' : 39, 'Yog' : 57}\n",
    "augmenter_scores_joueur(scores_a, 'Sue', 8)\n",
    "assert scores_a == {'Ada' : 67, 'Eve' : 54, 'Bob' : 48, 'Sue' : 22, 'Luc' : 39, 'Yog' : 57}\n",
    "\n",
    "scores_c = {'JB' : 65, 'MH' : 62, 'ZY' : 32}\n",
    "augmenter_scores_joueur(scores_c, 'JB', 7)\n",
    "assert scores_c == {'JB' : 72, 'MH' : 62, 'ZY' : 32}"
   ]
  },
  {
   "cell_type": "markdown",
   "metadata": {},
   "source": [
    "*Question 5 :* Compléter la fonction `high_scores` qui prend en paramètre un dictionnaire de scores et renvoie la liste des noms des joueurs ayant un score supérieur ou égal à 50."
   ]
  },
  {
   "cell_type": "code",
   "execution_count": null,
   "metadata": {},
   "outputs": [],
   "source": [
    "def high_scores(scores):\n",
    "    liste = []\n",
    "    for key, val in ... :\n",
    "        if val ... :\n",
    "            liste......\n",
    "    return liste"
   ]
  },
  {
   "cell_type": "markdown",
   "metadata": {},
   "source": [
    "*Question 6 :* Tester votre fonction grâce au jeu de test ci-dessous."
   ]
  },
  {
   "cell_type": "code",
   "execution_count": null,
   "metadata": {},
   "outputs": [],
   "source": [
    "assert set(high_scores({'Ada' : 67, 'Eve' : 54, 'Bob' : 48, 'Sue' : 14, 'Luc' : 39, 'Yog' : 57})) == set(['Ada', 'Eve', 'Yog'])\n",
    "assert set(high_scores({'Sim' : 15, 'Ben' : 34, 'Moh' : 45, 'Ran' : 39})) == set([])\n",
    "assert set(high_scores({'JB' : 65, 'MH' : 62, 'ZY' : 32})) == set(['JB', 'MH'])"
   ]
  }
 ],
 "metadata": {
  "kernelspec": {
   "display_name": "Python 3",
   "language": "python",
   "name": "python3"
  },
  "language_info": {
   "codemirror_mode": {
    "name": "ipython",
    "version": 3
   },
   "file_extension": ".py",
   "mimetype": "text/x-python",
   "name": "python",
   "nbconvert_exporter": "python",
   "pygments_lexer": "ipython3",
   "version": "3.7.2"
  }
 },
 "nbformat": 4,
 "nbformat_minor": 4
}
